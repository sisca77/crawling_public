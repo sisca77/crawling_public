{
 "cells": [
  {
   "cell_type": "markdown",
   "metadata": {},
   "source": [
    "## Crawling"
   ]
  },
  {
   "cell_type": "code",
   "execution_count": null,
   "metadata": {},
   "outputs": [],
   "source": []
  },
  {
   "cell_type": "code",
   "execution_count": 2,
   "metadata": {},
   "outputs": [],
   "source": [
    "# pip install request"
   ]
  },
  {
   "cell_type": "code",
   "execution_count": 14,
   "metadata": {},
   "outputs": [],
   "source": [
    "import requests\n",
    "# import request as rq"
   ]
  },
  {
   "cell_type": "code",
   "execution_count": 17,
   "metadata": {},
   "outputs": [],
   "source": [
    "url = \"https://www.xkcd.com/\"\n",
    "\n",
    "res = requests.get(url)"
   ]
  },
  {
   "cell_type": "code",
   "execution_count": 22,
   "metadata": {},
   "outputs": [
    {
     "data": {
      "text/plain": [
       "<Response [200]>"
      ]
     },
     "execution_count": 22,
     "metadata": {},
     "output_type": "execute_result"
    }
   ],
   "source": [
    "res"
   ]
  },
  {
   "cell_type": "code",
   "execution_count": 23,
   "metadata": {},
   "outputs": [
    {
     "data": {
      "text/plain": [
       "'<!DOCTYPE html>\\n<html>\\n<head>\\n<script>\\n  (function(i,s,o,g,r,a,m){i[\\'GoogleAnalyticsObject\\']=r;i[r]=i[r]||function(){\\n  (i[r].q=i[r].q||[]).push(arguments)},i[r].l=1*new Date();a=s.createElement(o),\\n  m=s.getElementsByTagName(o)[0];a.async=1;a.src=g;m.parentNode.insertBefore(a,m)\\n  })(window,document,\\'script\\',\\'https://www.google-analytics.com/analytics.js\\',\\'ga\\');\\n\\n  ga(\\'create\\', \\'UA-25700708-7\\', \\'auto\\');\\n  ga(\\'send\\', \\'pageview\\');\\n</script>\\n<link rel=\"stylesheet\" type=\"text/css\" href=\"/s/b0dcca.css\" title=\"Default\"/>\\n<title>xkcd: Background Apps</title>\\n<meta http-equiv=\"X-UA-Compatible\" content=\"IE=edge\"/>\\n<link rel=\"shortcut icon\" href=\"/s/919f27.ico\" type=\"image/x-icon\"/>\\n<link rel=\"icon\" href=\"/s/919f27.ico\" type=\"image/x-icon\"/>\\n<link rel=\"alternate\" type=\"application/atom+xml\" title=\"Atom 1.0\" href=\"/atom.xml\"/>\\n<link rel=\"alternate\" type=\"application/rss+xml\" title=\"RSS 2.0\" href=\"/rss.xml\"/>\\n<script type=\"text/javascript\" src=\"/s/b66ed7.js\" async></script>\\n<script type=\"text/javascript\" src=\"/s/1b9456.js\" async></script>\\n\\n</head>\\n<body>\\n<div id=\"topContainer\">\\n<div id=\"topLeft\">\\n<ul>\\n<li><a href=\"/archive\">Archive</a></li>\\n<li><a href=\"http://what-if.xkcd.com\">What If?</a></li>\\n<li><a href=\"http://blag.xkcd.com\">Blag</a></li>\\n<li><a href=\"http://store.xkcd.com/\">Store</a></li>\\n<li><a rel=\"author\" href=\"/about\">About</a></li>\\n</ul>\\n</div>\\n<div id=\"topRight\">\\n<div id=\"masthead\">\\n<span><a href=\"/\"><img src=\"/s/0b7742.png\" alt=\"xkcd.com logo\" height=\"83\" width=\"185\"/></a></span>\\n<span id=\"slogan\">A webcomic of romance,<br/> sarcasm, math, and language.</span>\\n</div>\\n<div id=\"news\">\\nxkcd updates every Monday, Wednesday, and Friday.\\n\\n</div>\\n</div>\\n<div id=\"bgLeft\" class=\"bg box\"></div>\\n<div id=\"bgRight\" class=\"bg box\"></div>\\n</div>\\n<div id=\"middleContainer\" class=\"box\">\\n\\n<div id=\"ctitle\">Background Apps</div>\\n<ul class=\"comicNav\">\\n<li><a href=\"/1/\">|&lt;</a></li>\\n<li><a rel=\"prev\" href=\"/1964/\" accesskey=\"p\">&lt; Prev</a></li>\\n<li><a href=\"//c.xkcd.com/random/comic/\">Random</a></li>\\n<li><a rel=\"next\" href=\"#\" accesskey=\"n\">Next &gt;</a></li>\\n<li><a href=\"/\">&gt;|</a></li>\\n</ul>\\n<div id=\"comic\">\\n<img src=\"//imgs.xkcd.com/comics/background_apps.png\" title=\"My plane banner company gets business by flying around with a banner showing a &lt;div&gt; tag, waiting for a web developer to get frustrated enough to order a matching &lt;/div&gt;.\" alt=\"Background Apps\" srcset=\"//imgs.xkcd.com/comics/background_apps_2x.png 2x\"/>\\n</div>\\n<ul class=\"comicNav\">\\n<li><a href=\"/1/\">|&lt;</a></li>\\n<li><a rel=\"prev\" href=\"/1964/\" accesskey=\"p\">&lt; Prev</a></li>\\n<li><a href=\"//c.xkcd.com/random/comic/\">Random</a></li>\\n<li><a rel=\"next\" href=\"#\" accesskey=\"n\">Next &gt;</a></li>\\n<li><a href=\"/\">&gt;|</a></li>\\n</ul>\\n<br />\\nPermanent link to this comic: https://xkcd.com/1965/<br />\\nImage URL (for hotlinking/embedding): https://imgs.xkcd.com/comics/background_apps.png\\n<div id=\"transcript\" style=\"display: none\"></div>\\n</div>\\n<div id=\"bottom\" class=\"box\">\\n<img src=\"//imgs.xkcd.com/s/a899e84.jpg\" width=\"520\" height=\"100\" alt=\"Selected Comics\" usemap=\"#comicmap\"/>\\n<map id=\"comicmap\" name=\"comicmap\">\\n<area shape=\"rect\" coords=\"0,0,100,100\" href=\"/150/\" alt=\"Grownups\"/>\\n<area shape=\"rect\" coords=\"104,0,204,100\" href=\"/730/\" alt=\"Circuit Diagram\"/>\\n<area shape=\"rect\" coords=\"208,0,308,100\" href=\"/162/\" alt=\"Angular Momentum\"/>\\n<area shape=\"rect\" coords=\"312,0,412,100\" href=\"/688/\" alt=\"Self-Description\"/>\\n<area shape=\"rect\" coords=\"416,0,520,100\" href=\"/556/\" alt=\"Alternative Energy Revolution\"/>\\n</map>\\n<div>\\n<!--\\nSearch comic titles and transcripts:\\n<script type=\"text/javascript\" src=\"//www.google.com/jsapi\"></script>\\n<script type=\"text/javascript\">google.load(\\'search\\', \\'1\\');google.setOnLoadCallback(function() {google.search.CustomSearchControl.attachAutoCompletion(\\'012652707207066138651:zudjtuwe28q\\',document.getElementById(\\'q\\'),\\'cse-search-box\\');});</script>\\n<form action=\"//www.google.com/cse\" id=\"cse-search-box\">\\n<div>\\n<input type=\"hidden\" name=\"cx\" value=\"012652707207066138651:zudjtuwe28q\"/>\\n<input type=\"hidden\" name=\"ie\" value=\"UTF-8\"/>\\n<input type=\"text\" name=\"q\" id=\"q\" size=\"31\"/>\\n<input type=\"submit\" name=\"sa\" value=\"Search\"/>\\n</div>\\n</form>\\n<script type=\"text/javascript\" src=\"//www.google.com/cse/brand?form=cse-search-box&amp;lang=en\"></script>\\n-->\\n<a href=\"/rss.xml\">RSS Feed</a> - <a href=\"/atom.xml\">Atom Feed</a>\\n</div>\\n<br />\\n<div id=\"comicLinks\">\\nComics I enjoy:<br/>\\n        <a href=\"http://threewordphrase.com/\">Three Word Phrase</a>,\\n        <a href=\"http://www.smbc-comics.com/\">SMBC</a>,\\n        <a href=\"http://www.qwantz.com\">Dinosaur Comics</a>,\\n        <a href=\"http://oglaf.com/\">Oglaf</a> (nsfw),\\n        <a href=\"http://www.asofterworld.com\">A Softer World</a>,\\n        <a href=\"http://buttersafe.com/\">Buttersafe</a>,\\n        <a href=\"http://pbfcomics.com/\">Perry Bible Fellowship</a>,\\n        <a href=\"http://questionablecontent.net/\">Questionable Content</a>,\\n        <a href=\"http://www.buttercupfestival.com/\">Buttercup Festival</a>,\\n        <a href=\"http://www.mspaintadventures.com/?s=6&p=001901\">Homestuck</a>,\\n\\t<a href=\"http://www.jspowerhour.com/\">Junior Scientist Power Hour</a>,\\n</div>\\n<br />\\n<div id=\"comicLinks\">\\nOther things:<br/>\\n        <a href=\"http://womenalsoknowstuff.com/\">Women Also Know Stuff</a>,\\n        <a href=\"https://techsolidarity.org/\">Tech Solidarity</a>,\\n        <a href=\"https://medium.com/civic-tech-thoughts-from-joshdata/so-you-want-to-reform-democracy-7f3b1ef10597\">Tips on technology and government</a>\\n</div>\\n<br />\\n<center>\\n<div id=\"footnote\" style=\"width:70%\">xkcd.com is best viewed with Netscape Navigator 4.0 or below on a Pentium 3&plusmn;1 emulated in Javascript on an Apple IIGS<br />at a screen resolution of 1024x1. Please enable your ad blockers, disable high-heat drying, and remove your device<br />from Airplane Mode and set it to Boat Mode. For security reasons, please leave caps lock on while browsing.</div>\\n</center>\\n<div id=\"licenseText\">\\n<p>\\nThis work is licensed under a\\n<a href=\"http://creativecommons.org/licenses/by-nc/2.5/\">Creative Commons Attribution-NonCommercial 2.5 License</a>.\\n</p><p>\\nThis means you\\'re free to copy and share these comics (but not to sell them). <a rel=\"license\" href=\"/license.html\">More details</a>.</p>\\n</div>\\n</div>\\n</body>\\n<!-- Layout by Ian Clasbey, davean, and chromakode -->\\n</html>\\n\\n'"
      ]
     },
     "execution_count": 23,
     "metadata": {},
     "output_type": "execute_result"
    }
   ],
   "source": [
    "res.text"
   ]
  },
  {
   "cell_type": "code",
   "execution_count": 24,
   "metadata": {},
   "outputs": [
    {
     "data": {
      "text/plain": [
       "b'<!DOCTYPE html>\\n<html>\\n<head>\\n<script>\\n  (function(i,s,o,g,r,a,m){i[\\'GoogleAnalyticsObject\\']=r;i[r]=i[r]||function(){\\n  (i[r].q=i[r].q||[]).push(arguments)},i[r].l=1*new Date();a=s.createElement(o),\\n  m=s.getElementsByTagName(o)[0];a.async=1;a.src=g;m.parentNode.insertBefore(a,m)\\n  })(window,document,\\'script\\',\\'https://www.google-analytics.com/analytics.js\\',\\'ga\\');\\n\\n  ga(\\'create\\', \\'UA-25700708-7\\', \\'auto\\');\\n  ga(\\'send\\', \\'pageview\\');\\n</script>\\n<link rel=\"stylesheet\" type=\"text/css\" href=\"/s/b0dcca.css\" title=\"Default\"/>\\n<title>xkcd: Background Apps</title>\\n<meta http-equiv=\"X-UA-Compatible\" content=\"IE=edge\"/>\\n<link rel=\"shortcut icon\" href=\"/s/919f27.ico\" type=\"image/x-icon\"/>\\n<link rel=\"icon\" href=\"/s/919f27.ico\" type=\"image/x-icon\"/>\\n<link rel=\"alternate\" type=\"application/atom+xml\" title=\"Atom 1.0\" href=\"/atom.xml\"/>\\n<link rel=\"alternate\" type=\"application/rss+xml\" title=\"RSS 2.0\" href=\"/rss.xml\"/>\\n<script type=\"text/javascript\" src=\"/s/b66ed7.js\" async></script>\\n<script type=\"text/javascript\" src=\"/s/1b9456.js\" async></script>\\n\\n</head>\\n<body>\\n<div id=\"topContainer\">\\n<div id=\"topLeft\">\\n<ul>\\n<li><a href=\"/archive\">Archive</a></li>\\n<li><a href=\"http://what-if.xkcd.com\">What If?</a></li>\\n<li><a href=\"http://blag.xkcd.com\">Blag</a></li>\\n<li><a href=\"http://store.xkcd.com/\">Store</a></li>\\n<li><a rel=\"author\" href=\"/about\">About</a></li>\\n</ul>\\n</div>\\n<div id=\"topRight\">\\n<div id=\"masthead\">\\n<span><a href=\"/\"><img src=\"/s/0b7742.png\" alt=\"xkcd.com logo\" height=\"83\" width=\"185\"/></a></span>\\n<span id=\"slogan\">A webcomic of romance,<br/> sarcasm, math, and language.</span>\\n</div>\\n<div id=\"news\">\\nxkcd updates every Monday, Wednesday, and Friday.\\n\\n</div>\\n</div>\\n<div id=\"bgLeft\" class=\"bg box\"></div>\\n<div id=\"bgRight\" class=\"bg box\"></div>\\n</div>\\n<div id=\"middleContainer\" class=\"box\">\\n\\n<div id=\"ctitle\">Background Apps</div>\\n<ul class=\"comicNav\">\\n<li><a href=\"/1/\">|&lt;</a></li>\\n<li><a rel=\"prev\" href=\"/1964/\" accesskey=\"p\">&lt; Prev</a></li>\\n<li><a href=\"//c.xkcd.com/random/comic/\">Random</a></li>\\n<li><a rel=\"next\" href=\"#\" accesskey=\"n\">Next &gt;</a></li>\\n<li><a href=\"/\">&gt;|</a></li>\\n</ul>\\n<div id=\"comic\">\\n<img src=\"//imgs.xkcd.com/comics/background_apps.png\" title=\"My plane banner company gets business by flying around with a banner showing a &lt;div&gt; tag, waiting for a web developer to get frustrated enough to order a matching &lt;/div&gt;.\" alt=\"Background Apps\" srcset=\"//imgs.xkcd.com/comics/background_apps_2x.png 2x\"/>\\n</div>\\n<ul class=\"comicNav\">\\n<li><a href=\"/1/\">|&lt;</a></li>\\n<li><a rel=\"prev\" href=\"/1964/\" accesskey=\"p\">&lt; Prev</a></li>\\n<li><a href=\"//c.xkcd.com/random/comic/\">Random</a></li>\\n<li><a rel=\"next\" href=\"#\" accesskey=\"n\">Next &gt;</a></li>\\n<li><a href=\"/\">&gt;|</a></li>\\n</ul>\\n<br />\\nPermanent link to this comic: https://xkcd.com/1965/<br />\\nImage URL (for hotlinking/embedding): https://imgs.xkcd.com/comics/background_apps.png\\n<div id=\"transcript\" style=\"display: none\"></div>\\n</div>\\n<div id=\"bottom\" class=\"box\">\\n<img src=\"//imgs.xkcd.com/s/a899e84.jpg\" width=\"520\" height=\"100\" alt=\"Selected Comics\" usemap=\"#comicmap\"/>\\n<map id=\"comicmap\" name=\"comicmap\">\\n<area shape=\"rect\" coords=\"0,0,100,100\" href=\"/150/\" alt=\"Grownups\"/>\\n<area shape=\"rect\" coords=\"104,0,204,100\" href=\"/730/\" alt=\"Circuit Diagram\"/>\\n<area shape=\"rect\" coords=\"208,0,308,100\" href=\"/162/\" alt=\"Angular Momentum\"/>\\n<area shape=\"rect\" coords=\"312,0,412,100\" href=\"/688/\" alt=\"Self-Description\"/>\\n<area shape=\"rect\" coords=\"416,0,520,100\" href=\"/556/\" alt=\"Alternative Energy Revolution\"/>\\n</map>\\n<div>\\n<!--\\nSearch comic titles and transcripts:\\n<script type=\"text/javascript\" src=\"//www.google.com/jsapi\"></script>\\n<script type=\"text/javascript\">google.load(\\'search\\', \\'1\\');google.setOnLoadCallback(function() {google.search.CustomSearchControl.attachAutoCompletion(\\'012652707207066138651:zudjtuwe28q\\',document.getElementById(\\'q\\'),\\'cse-search-box\\');});</script>\\n<form action=\"//www.google.com/cse\" id=\"cse-search-box\">\\n<div>\\n<input type=\"hidden\" name=\"cx\" value=\"012652707207066138651:zudjtuwe28q\"/>\\n<input type=\"hidden\" name=\"ie\" value=\"UTF-8\"/>\\n<input type=\"text\" name=\"q\" id=\"q\" size=\"31\"/>\\n<input type=\"submit\" name=\"sa\" value=\"Search\"/>\\n</div>\\n</form>\\n<script type=\"text/javascript\" src=\"//www.google.com/cse/brand?form=cse-search-box&amp;lang=en\"></script>\\n-->\\n<a href=\"/rss.xml\">RSS Feed</a> - <a href=\"/atom.xml\">Atom Feed</a>\\n</div>\\n<br />\\n<div id=\"comicLinks\">\\nComics I enjoy:<br/>\\n        <a href=\"http://threewordphrase.com/\">Three Word Phrase</a>,\\n        <a href=\"http://www.smbc-comics.com/\">SMBC</a>,\\n        <a href=\"http://www.qwantz.com\">Dinosaur Comics</a>,\\n        <a href=\"http://oglaf.com/\">Oglaf</a> (nsfw),\\n        <a href=\"http://www.asofterworld.com\">A Softer World</a>,\\n        <a href=\"http://buttersafe.com/\">Buttersafe</a>,\\n        <a href=\"http://pbfcomics.com/\">Perry Bible Fellowship</a>,\\n        <a href=\"http://questionablecontent.net/\">Questionable Content</a>,\\n        <a href=\"http://www.buttercupfestival.com/\">Buttercup Festival</a>,\\n        <a href=\"http://www.mspaintadventures.com/?s=6&p=001901\">Homestuck</a>,\\n\\t<a href=\"http://www.jspowerhour.com/\">Junior Scientist Power Hour</a>,\\n</div>\\n<br />\\n<div id=\"comicLinks\">\\nOther things:<br/>\\n        <a href=\"http://womenalsoknowstuff.com/\">Women Also Know Stuff</a>,\\n        <a href=\"https://techsolidarity.org/\">Tech Solidarity</a>,\\n        <a href=\"https://medium.com/civic-tech-thoughts-from-joshdata/so-you-want-to-reform-democracy-7f3b1ef10597\">Tips on technology and government</a>\\n</div>\\n<br />\\n<center>\\n<div id=\"footnote\" style=\"width:70%\">xkcd.com is best viewed with Netscape Navigator 4.0 or below on a Pentium 3&plusmn;1 emulated in Javascript on an Apple IIGS<br />at a screen resolution of 1024x1. Please enable your ad blockers, disable high-heat drying, and remove your device<br />from Airplane Mode and set it to Boat Mode. For security reasons, please leave caps lock on while browsing.</div>\\n</center>\\n<div id=\"licenseText\">\\n<p>\\nThis work is licensed under a\\n<a href=\"http://creativecommons.org/licenses/by-nc/2.5/\">Creative Commons Attribution-NonCommercial 2.5 License</a>.\\n</p><p>\\nThis means you\\'re free to copy and share these comics (but not to sell them). <a rel=\"license\" href=\"/license.html\">More details</a>.</p>\\n</div>\\n</div>\\n</body>\\n<!-- Layout by Ian Clasbey, davean, and chromakode -->\\n</html>\\n\\n'"
      ]
     },
     "execution_count": 24,
     "metadata": {},
     "output_type": "execute_result"
    }
   ],
   "source": [
    "res.content"
   ]
  },
  {
   "cell_type": "code",
   "execution_count": 25,
   "metadata": {},
   "outputs": [
    {
     "data": {
      "text/plain": [
       "200"
      ]
     },
     "execution_count": 25,
     "metadata": {},
     "output_type": "execute_result"
    }
   ],
   "source": [
    "res.status_code"
   ]
  },
  {
   "cell_type": "code",
   "execution_count": 40,
   "metadata": {},
   "outputs": [
    {
     "name": "stdout",
     "output_type": "stream",
     "text": [
      "<Response [200]>\n",
      "https://www.xkcd.com/ 요청성공\n",
      "헤더 : {'Server': 'nginx', 'Content-Type': 'text/html; charset=UTF-8', 'Last-Modified': 'Fri, 09 Mar 2018 15:55:36 GMT', 'Expires': 'Sat, 10 Mar 2018 09:46:19 GMT', 'Cache-Control': 'max-age=300', 'Content-Encoding': 'gzip', 'Content-Length': '2651', 'Accept-Ranges': 'bytes', 'Date': 'Sat, 10 Mar 2018 15:39:06 GMT', 'Via': '1.1 varnish', 'Age': '53', 'Connection': 'keep-alive', 'X-Served-By': 'cache-nrt6141-NRT', 'X-Cache': 'HIT', 'X-Cache-Hits': '1', 'X-Timer': 'S1520696346.398669,VS0,VE0', 'Vary': 'Accept-Encoding'} \n",
      "기간 : 53 \n",
      "쿠키 : <RequestsCookieJar[]>\n"
     ]
    }
   ],
   "source": [
    "def url_check(url):\n",
    "    res = requests.get(url)\n",
    "\n",
    "    print(res)\n",
    "\n",
    "    sc = res.status_code\n",
    "\n",
    "    if sc == 200:\n",
    "        headers = res.headers\n",
    "        age = headers['Age']\n",
    "        cookie = res.cookies\n",
    "                \n",
    "        print(\"{} 요청성공\".format(url))\n",
    "        print(\"헤더 : {} \".format(headers))\n",
    "        print(\"기간 : {} \".format(age))\n",
    "        print(\"쿠키 : {}\".format(cookie))\n",
    "    elif sc == 404:\n",
    "        print(\"%s 찾을 수 없음\" %(url))\n",
    "    else:\n",
    "        print(\"%s 알수 없는 에러 : %s\"%(url, sc))\n",
    "\n",
    "\n",
    "url_check(\"https://www.xkcd.com/\")\n"
   ]
  },
  {
   "cell_type": "code",
   "execution_count": null,
   "metadata": {},
   "outputs": [],
   "source": [
    "# Ascii - 영문, 숫자, 기호, 부호. 7bit(2**7=128자)\n",
    "# Unicode - 모든 각 나라 문자. 16bit(2**16 = 76,536자), UTF-8"
   ]
  },
  {
   "cell_type": "code",
   "execution_count": 42,
   "metadata": {},
   "outputs": [],
   "source": [
    "# URL구조\n",
    "# 프로토콜://주소 또는 IP:포트번호/리소스경로?쿼리스트링\n",
    "# 리소스경로 : 사이트 내에서 경로 구조\n",
    "# 쿼리스트링 : 데이터가 포함되는 구조\n",
    "# http://www.example.com/product?pro=3&cate=2\n",
    "# http://search.chosun.com/search/total.search?query=미투&pageconf=total"
   ]
  },
  {
   "cell_type": "code",
   "execution_count": null,
   "metadata": {},
   "outputs": [],
   "source": [
    "# 쿼리스트링 데이터 만들어 요청\n",
    "\n",
    "import requests as rq\n",
    "\n",
    "url = \"https://www.example.com/\"\n",
    "\n",
    "res = rq.get(url, params={\"key1\": \"value1\", \"key2\": \"value2\"})\n",
    "\n",
    "print(res.url)"
   ]
  },
  {
   "cell_type": "code",
   "execution_count": null,
   "metadata": {},
   "outputs": [],
   "source": [
    "import requests as rq\n",
    "\n",
    "url = \"https://www.xkcd.com\"\n",
    "\n",
    "res = rq.get(url)\n",
    "\n",
    "print(res.url)"
   ]
  },
  {
   "cell_type": "code",
   "execution_count": null,
   "metadata": {},
   "outputs": [],
   "source": [
    "# POST 요청 시 데이터가 header에 포함되기 때문에, 반드시 추가적 인자를 넣어보내야\n",
    "\n",
    "import requests as rq\n",
    "\n",
    "url = \"http://www.example.com\"\n",
    "\n",
    "res = rq.post(url, data={\"key1\": \"value1\", \"key2\": \"value2\"})\n",
    "\n",
    "print(res.url)"
   ]
  },
  {
   "cell_type": "code",
   "execution_count": null,
   "metadata": {},
   "outputs": [],
   "source": [
    "# dict를 통해서 요청이 안되는 경우, json형태로 보내야 한다.\n",
    "\n",
    "import requests as rq\n",
    "import json\n",
    "url = \"http://www.example.com\"\n",
    "\n",
    "res = rq.post(url, data=json.dumps({\"key1\": \"value1\", \"key2\": \"value2\"}))\n",
    "\n",
    "print(res.url)"
   ]
  },
  {
   "cell_type": "code",
   "execution_count": null,
   "metadata": {},
   "outputs": [],
   "source": [
    "# json모듈과 str모듈의 차이\n",
    "\n",
    "import json\n",
    "\n",
    "dict1 = {'key1': 'value1', 'key2': 'value2'}\n",
    "dict2 = {\"key1\": \"value1\", \"key2\": \"value2\"}\n",
    "\n",
    "print(json.dumps(dict1))\n",
    "print(str(dict1))\n",
    "\n",
    "print(json.dumps(dict2))\n",
    "print(str(dict2))"
   ]
  },
  {
   "cell_type": "code",
   "execution_count": null,
   "metadata": {},
   "outputs": [],
   "source": [
    "# 헤더설정 - headers를 이용 -> Mac OS로 인식\n",
    "\n",
    "import requests as rq\n",
    "url = \"https://www.xkcd.com/\"\n",
    "\n",
    "res = rq.get(url, headers={\"User-Agent\": \"Mozilla/5.0 (Macintosh; Intel Mac OS X 10_12_5) \n",
    "                           AppleWebKit/537.36 (KHTML, like Gecko) Chrome/60.0.3112.113 Safari/537.36\"})\n",
    "\n",
    "print(res.url)"
   ]
  },
  {
   "cell_type": "code",
   "execution_count": null,
   "metadata": {},
   "outputs": [],
   "source": [
    "# error"
   ]
  },
  {
   "cell_type": "code",
   "execution_count": null,
   "metadata": {},
   "outputs": [],
   "source": [
    "import requests as rq\n",
    "\n",
    "url = \"https://www.xkcd.com\"\n",
    "\n",
    "try:\n",
    "    res = rq.get(url)\n",
    "except rq.exceptions.MissingSchema:\n",
    "    print('MissingSchema 에러 발생')"
   ]
  },
  {
   "cell_type": "code",
   "execution_count": null,
   "metadata": {},
   "outputs": [],
   "source": [
    "import requests as rq\n",
    "import time\n",
    "\n",
    "url = \"https://www.xkcd.com\"\n",
    "delay_time = 1\n",
    "\n",
    "def connection(u):\n",
    "    return rq.get(u)\n",
    "\n",
    "try:\n",
    "    connection(url)\n",
    "\n",
    "except rq.exceptions.Timeout:\n",
    "    time.sleep(delay_time)\n",
    "    connection(url)"
   ]
  },
  {
   "cell_type": "markdown",
   "metadata": {},
   "source": [
    "## urllib"
   ]
  },
  {
   "cell_type": "code",
   "execution_count": null,
   "metadata": {},
   "outputs": [],
   "source": [
    "from urllib.request import urlopen, Request\n",
    "\n",
    "url = \"https://www.xkcd.com\"\n",
    "\n",
    "req = Request(url) # 요청 객체를 만든다\n",
    "page = urlopen(req) # 요청 객체를 이용해 요청\n",
    "\n",
    "print(page)"
   ]
  },
  {
   "cell_type": "code",
   "execution_count": 46,
   "metadata": {},
   "outputs": [
    {
     "name": "stdout",
     "output_type": "stream",
     "text": [
      "<http.client.HTTPResponse object at 0x000001AE2D99BC50>\n",
      "*****************\n",
      "200\n",
      "*****************\n",
      "Server: nginx\n",
      "Content-Type: text/html; charset=UTF-8\n",
      "Last-Modified: Fri, 09 Mar 2018 15:55:36 GMT\n",
      "ETag: \"5aa2ae78-18d4\"\n",
      "Expires: Sat, 10 Mar 2018 16:52:14 GMT\n",
      "Cache-Control: max-age=300\n",
      "Content-Length: 6356\n",
      "Accept-Ranges: bytes\n",
      "Date: Sat, 10 Mar 2018 16:47:14 GMT\n",
      "Via: 1.1 varnish\n",
      "Age: 0\n",
      "Connection: close\n",
      "X-Served-By: cache-hnd18739-HND\n",
      "X-Cache: MISS\n",
      "X-Cache-Hits: 0\n",
      "X-Timer: S1520700434.748703,VS0,VE583\n",
      "Vary: Accept-Encoding\n",
      "\n",
      "\n",
      "*****************\n",
      "https://www.xkcd.com/\n",
      "*****************\n",
      "utf-8\n",
      "*****************\n",
      "b'<!DOCTYPE html>\\n<html>\\n<head>\\n<script>\\n  (function(i,s,o,g,r,a,m){i[\\'GoogleAnalyticsObject\\']=r;i[r]=i[r]||function(){\\n  (i[r].q=i[r].q||[]).push(arguments)},i[r].l=1*new Date();a=s.createElement(o),\\n  m=s.getElementsByTagName(o)[0];a.async=1;a.src=g;m.parentNode.insertBefore(a,m)\\n  })(window,document,\\'script\\',\\'https://www.google-analytics.com/analytics.js\\',\\'ga\\');\\n\\n  ga(\\'create\\', \\'UA-25700708-7\\', \\'auto\\');\\n  ga(\\'send\\', \\'pageview\\');\\n</script>\\n<link rel=\"stylesheet\" type=\"text/css\" href=\"/s/b0dcca.css\" title=\"Default\"/>\\n<title>xkcd: Background Apps</title>\\n<meta http-equiv=\"X-UA-Compatible\" content=\"IE=edge\"/>\\n<link rel=\"shortcut icon\" href=\"/s/919f27.ico\" type=\"image/x-icon\"/>\\n<link rel=\"icon\" href=\"/s/919f27.ico\" type=\"image/x-icon\"/>\\n<link rel=\"alternate\" type=\"application/atom+xml\" title=\"Atom 1.0\" href=\"/atom.xml\"/>\\n<link rel=\"alternate\" type=\"application/rss+xml\" title=\"RSS 2.0\" href=\"/rss.xml\"/>\\n<script type=\"text/javascript\" src=\"/s/b66ed7.js\" async></script>\\n<script type=\"text/javascript\" src=\"/s/1b9456.js\" async></script>\\n\\n</head>\\n<body>\\n<div id=\"topContainer\">\\n<div id=\"topLeft\">\\n<ul>\\n<li><a href=\"/archive\">Archive</a></li>\\n<li><a href=\"http://what-if.xkcd.com\">What If?</a></li>\\n<li><a href=\"http://blag.xkcd.com\">Blag</a></li>\\n<li><a href=\"http://store.xkcd.com/\">Store</a></li>\\n<li><a rel=\"author\" href=\"/about\">About</a></li>\\n</ul>\\n</div>\\n<div id=\"topRight\">\\n<div id=\"masthead\">\\n<span><a href=\"/\"><img src=\"/s/0b7742.png\" alt=\"xkcd.com logo\" height=\"83\" width=\"185\"/></a></span>\\n<span id=\"slogan\">A webcomic of romance,<br/> sarcasm, math, and language.</span>\\n</div>\\n<div id=\"news\">\\nxkcd updates every Monday, Wednesday, and Friday.\\n\\n</div>\\n</div>\\n<div id=\"bgLeft\" class=\"bg box\"></div>\\n<div id=\"bgRight\" class=\"bg box\"></div>\\n</div>\\n<div id=\"middleContainer\" class=\"box\">\\n\\n<div id=\"ctitle\">Background Apps</div>\\n<ul class=\"comicNav\">\\n<li><a href=\"/1/\">|&lt;</a></li>\\n<li><a rel=\"prev\" href=\"/1964/\" accesskey=\"p\">&lt; Prev</a></li>\\n<li><a href=\"//c.xkcd.com/random/comic/\">Random</a></li>\\n<li><a rel=\"next\" href=\"#\" accesskey=\"n\">Next &gt;</a></li>\\n<li><a href=\"/\">&gt;|</a></li>\\n</ul>\\n<div id=\"comic\">\\n<img src=\"//imgs.xkcd.com/comics/background_apps.png\" title=\"My plane banner company gets business by flying around with a banner showing a &lt;div&gt; tag, waiting for a web developer to get frustrated enough to order a matching &lt;/div&gt;.\" alt=\"Background Apps\" srcset=\"//imgs.xkcd.com/comics/background_apps_2x.png 2x\"/>\\n</div>\\n<ul class=\"comicNav\">\\n<li><a href=\"/1/\">|&lt;</a></li>\\n<li><a rel=\"prev\" href=\"/1964/\" accesskey=\"p\">&lt; Prev</a></li>\\n<li><a href=\"//c.xkcd.com/random/comic/\">Random</a></li>\\n<li><a rel=\"next\" href=\"#\" accesskey=\"n\">Next &gt;</a></li>\\n<li><a href=\"/\">&gt;|</a></li>\\n</ul>\\n<br />\\nPermanent link to this comic: https://xkcd.com/1965/<br />\\nImage URL (for hotlinking/embedding): https://imgs.xkcd.com/comics/background_apps.png\\n<div id=\"transcript\" style=\"display: none\"></div>\\n</div>\\n<div id=\"bottom\" class=\"box\">\\n<img src=\"//imgs.xkcd.com/s/a899e84.jpg\" width=\"520\" height=\"100\" alt=\"Selected Comics\" usemap=\"#comicmap\"/>\\n<map id=\"comicmap\" name=\"comicmap\">\\n<area shape=\"rect\" coords=\"0,0,100,100\" href=\"/150/\" alt=\"Grownups\"/>\\n<area shape=\"rect\" coords=\"104,0,204,100\" href=\"/730/\" alt=\"Circuit Diagram\"/>\\n<area shape=\"rect\" coords=\"208,0,308,100\" href=\"/162/\" alt=\"Angular Momentum\"/>\\n<area shape=\"rect\" coords=\"312,0,412,100\" href=\"/688/\" alt=\"Self-Description\"/>\\n<area shape=\"rect\" coords=\"416,0,520,100\" href=\"/556/\" alt=\"Alternative Energy Revolution\"/>\\n</map>\\n<div>\\n<!--\\nSearch comic titles and transcripts:\\n<script type=\"text/javascript\" src=\"//www.google.com/jsapi\"></script>\\n<script type=\"text/javascript\">google.load(\\'search\\', \\'1\\');google.setOnLoadCallback(function() {google.search.CustomSearchControl.attachAutoCompletion(\\'012652707207066138651:zudjtuwe28q\\',document.getElementById(\\'q\\'),\\'cse-search-box\\');});</script>\\n<form action=\"//www.google.com/cse\" id=\"cse-search-box\">\\n<div>\\n<input type=\"hidden\" name=\"cx\" value=\"012652707207066138651:zudjtuwe28q\"/>\\n<input type=\"hidden\" name=\"ie\" value=\"UTF-8\"/>\\n<input type=\"text\" name=\"q\" id=\"q\" size=\"31\"/>\\n<input type=\"submit\" name=\"sa\" value=\"Search\"/>\\n</div>\\n</form>\\n<script type=\"text/javascript\" src=\"//www.google.com/cse/brand?form=cse-search-box&amp;lang=en\"></script>\\n-->\\n<a href=\"/rss.xml\">RSS Feed</a> - <a href=\"/atom.xml\">Atom Feed</a>\\n</div>\\n<br />\\n<div id=\"comicLinks\">\\nComics I enjoy:<br/>\\n        <a href=\"http://threewordphrase.com/\">Three Word Phrase</a>,\\n        <a href=\"http://www.smbc-comics.com/\">SMBC</a>,\\n        <a href=\"http://www.qwantz.com\">Dinosaur Comics</a>,\\n        <a href=\"http://oglaf.com/\">Oglaf</a> (nsfw),\\n        <a href=\"http://www.asofterworld.com\">A Softer World</a>,\\n        <a href=\"http://buttersafe.com/\">Buttersafe</a>,\\n        <a href=\"http://pbfcomics.com/\">Perry Bible Fellowship</a>,\\n        <a href=\"http://questionablecontent.net/\">Questionable Content</a>,\\n        <a href=\"http://www.buttercupfestival.com/\">Buttercup Festival</a>,\\n        <a href=\"http://www.mspaintadventures.com/?s=6&p=001901\">Homestuck</a>,\\n\\t<a href=\"http://www.jspowerhour.com/\">Junior Scientist Power Hour</a>,\\n</div>\\n<br />\\n<div id=\"comicLinks\">\\nOther things:<br/>\\n        <a href=\"http://womenalsoknowstuff.com/\">Women Also Know Stuff</a>,\\n        <a href=\"https://techsolidarity.org/\">Tech Solidarity</a>,\\n        <a href=\"https://medium.com/civic-tech-thoughts-from-joshdata/so-you-want-to-reform-democracy-7f3b1ef10597\">Tips on technology and government</a>\\n</div>\\n<br />\\n<center>\\n<div id=\"footnote\" style=\"width:70%\">xkcd.com is best viewed with Netscape Navigator 4.0 or below on a Pentium 3&plusmn;1 emulated in Javascript on an Apple IIGS<br />at a screen resolution of 1024x1. Please enable your ad blockers, disable high-heat drying, and remove your device<br />from Airplane Mode and set it to Boat Mode. For security reasons, please leave caps lock on while browsing.</div>\\n</center>\\n<div id=\"licenseText\">\\n<p>\\nThis work is licensed under a\\n<a href=\"http://creativecommons.org/licenses/by-nc/2.5/\">Creative Commons Attribution-NonCommercial 2.5 License</a>.\\n</p><p>\\nThis means you\\'re free to copy and share these comics (but not to sell them). <a rel=\"license\" href=\"/license.html\">More details</a>.</p>\\n</div>\\n</div>\\n</body>\\n<!-- Layout by Ian Clasbey, davean, and chromakode -->\\n</html>\\n\\n'\n"
     ]
    }
   ],
   "source": [
    "from urllib.request import urlopen, Request\n",
    "\n",
    "url = \"https://www.xkcd.com/\"\n",
    "\n",
    "req = Request(url)\n",
    "page = urlopen(req)\n",
    "\n",
    "print(page)\n",
    "print(\"*****************\")\n",
    "print(page.code)\n",
    "print(\"*****************\")\n",
    "print(page.headers)\n",
    "print(\"*****************\")\n",
    "print(page.url)\n",
    "print(\"*****************\")\n",
    "print(page.info().get_content_charset())\n",
    "print(\"*****************\")\n",
    "print(page.read()) # request의 content()와 같다 - 바이너리 형태로 가져온다."
   ]
  },
  {
   "cell_type": "code",
   "execution_count": 47,
   "metadata": {},
   "outputs": [
    {
     "name": "stdout",
     "output_type": "stream",
     "text": [
      "b'key1=value1&key2=value2'\n",
      "<http.client.HTTPResponse object at 0x000001AE2D9A8320>\n",
      "https://blog.naver.com/pjt3591oo\n",
      "<http.client.HTTPResponse object at 0x000001AE2D9A85C0>\n",
      "https://blog.naver.com/pjt3591oo?key1=value1&key2&value2\n"
     ]
    }
   ],
   "source": [
    "from urllib.request import urlopen, Request\n",
    "import urllib\n",
    "\n",
    "url = \"http://blog.naver.com/pjt3591oo\"\n",
    "\n",
    "# post 요청 시 보낼 데이터 만들기\n",
    "data = {'key1': 'value1', 'key2': 'value2'}\n",
    "data = urllib.parse.urlencode(data) # 딕셔너리를 쿼리스트링 형태로 변환\n",
    "data = data.encode('utf-8') # 쿼리스트링 문자열을 UTF-8으로 인코딩하여 바이너리 형태로 바꾼다\n",
    "\n",
    "print(data)\n",
    "\n",
    "# post 요청\n",
    "req_post = Request(url, data=data, headers={})  # 2번쨰 인자 데이터, 세 번째 인자 헤더\n",
    "page = urlopen(req_post)\n",
    "\n",
    "print(page)\n",
    "print(page.url)\n",
    "\n",
    "# get 요청\n",
    "req_get = Request(url+\"?key1=value1&key2&value2\", None, headers={})  # 2번쨰 인자 데이터, 세 번째 인자 헤더\n",
    "page = urlopen(req_get)\n",
    "\n",
    "print(page)\n",
    "print(page.url)"
   ]
  },
  {
   "cell_type": "code",
   "execution_count": 49,
   "metadata": {},
   "outputs": [],
   "source": [
    "## requests Vs urllib\n",
    "# 1. requests는 딕셔너리 형태로, urllib은 인코딩하여 바이너리 형태로\n",
    "# 2. requests는 get, post를 명시하지만, urllib은 데이터 여부로 구분\n",
    "# 3. 없는 페이지 요청 시, requests는 에러를 띄우지만, urllib은 에러를 띄우지 않는다\n",
    "# 4. 객체를 만드는 방식에 차이가 있다."
   ]
  },
  {
   "cell_type": "markdown",
   "metadata": {},
   "source": [
    "## bs4"
   ]
  },
  {
   "cell_type": "code",
   "execution_count": 1,
   "metadata": {},
   "outputs": [],
   "source": [
    "import bs4\n",
    "\n",
    "html = \"\"\"\"\"\"\n",
    "\n",
    "soup = bs4.BeautifulSoup(html, 'lxml')"
   ]
  },
  {
   "cell_type": "code",
   "execution_count": 2,
   "metadata": {},
   "outputs": [],
   "source": [
    "# parser\n",
    "\n",
    "# lxml - 가장 빠르다\n",
    "# html5lib\n",
    "# html.parser - 최신 파이썬 버전에서 사용 안 됨."
   ]
  },
  {
   "cell_type": "code",
   "execution_count": 3,
   "metadata": {},
   "outputs": [
    {
     "name": "stdout",
     "output_type": "stream",
     "text": [
      "<html><body><p>test</p></body></html>\n"
     ]
    }
   ],
   "source": [
    "from bs4 import BeautifulSoup\n",
    "\n",
    "html = \"\"\"<p>test</p>\"\"\"\n",
    "\n",
    "soup = BeautifulSoup(html, 'lxml')\n",
    "print(soup)"
   ]
  },
  {
   "cell_type": "code",
   "execution_count": 4,
   "metadata": {},
   "outputs": [
    {
     "name": "stdout",
     "output_type": "stream",
     "text": [
      "<html><body><p>test</p></body></html>\n",
      "<html><body><p>test</p></body></html>\n"
     ]
    }
   ],
   "source": [
    "from bs4 import BeautifulSoup\n",
    "\n",
    "html = \"\"\"<html><p>test</p></html>\"\"\"\n",
    "soup = BeautifulSoup(html, 'lxml')\n",
    "print(soup)\n",
    "\n",
    "html = \"\"\"<body><p>test</p></body>\"\"\"\n",
    "soup = BeautifulSoup(html, 'lxml')\n",
    "print(soup)"
   ]
  },
  {
   "cell_type": "code",
   "execution_count": 5,
   "metadata": {},
   "outputs": [
    {
     "name": "stdout",
     "output_type": "stream",
     "text": [
      "<html><head></head><body><p>test</p></body></html>\n"
     ]
    }
   ],
   "source": [
    "from bs4 import BeautifulSoup\n",
    "\n",
    "html = \"\"\"<p>test</p>\"\"\"\n",
    "\n",
    "soup = BeautifulSoup(html, 'html5lib')\n",
    "print(soup)"
   ]
  },
  {
   "cell_type": "code",
   "execution_count": 6,
   "metadata": {},
   "outputs": [
    {
     "name": "stdout",
     "output_type": "stream",
     "text": [
      "<html><head></head><body><p>test</p></body></html>\n",
      "<html><head></head><body><p>test</p></body></html>\n",
      "<html><head></head><body><p>test</p></body></html>\n"
     ]
    }
   ],
   "source": [
    "from bs4 import BeautifulSoup\n",
    "\n",
    "html = \"\"\"<html><body><p>test</p></body></html>\"\"\"\n",
    "soup = BeautifulSoup(html, 'html5lib')\n",
    "print(soup)\n",
    "\n",
    "html = \"\"\"<html><head></head><p>test</p></html>\"\"\"\n",
    "soup = BeautifulSoup(html, 'html5lib')\n",
    "print(soup)\n",
    "\n",
    "html = \"\"\"<head></head><p>test</p>\"\"\"\n",
    "soup = BeautifulSoup(html, 'html5lib')\n",
    "print(soup)"
   ]
  },
  {
   "cell_type": "code",
   "execution_count": null,
   "metadata": {},
   "outputs": [],
   "source": []
  },
  {
   "cell_type": "code",
   "execution_count": 7,
   "metadata": {},
   "outputs": [
    {
     "name": "stdout",
     "output_type": "stream",
     "text": [
      "<Response [200]>\n",
      "<!DOCTYPE html>\n",
      "<html>\n",
      "<head>\n",
      "<link href=\"/s/b0dcca.css\" rel=\"stylesheet\" title=\"Default\" type=\"text/css\"/>\n",
      "<title>xkcd: Prescience</title>\n",
      "<meta content=\"IE=edge\" http-equiv=\"X-UA-Compatible\"/>\n",
      "<link href=\"/s/919f27.ico\" rel=\"shortcut icon\" type=\"image/x-icon\"/>\n",
      "<link href=\"/s/919f27.ico\" rel=\"icon\" type=\"image/x-icon\"/>\n",
      "<link href=\"/atom.xml\" rel=\"alternate\" title=\"Atom 1.0\" type=\"application/atom+xml\"/>\n",
      "<link href=\"/rss.xml\" rel=\"alternate\" title=\"RSS 2.0\" type=\"application/rss+xml\"/>\n",
      "<script async=\"\" src=\"/s/b66ed7.js\" type=\"text/javascript\"></script>\n",
      "<script async=\"\" src=\"/s/1b9456.js\" type=\"text/javascript\"></script>\n",
      "<meta content=\"xkcd\" property=\"og:site_name\"/>\n",
      "<meta content=\"Prescience\" property=\"og:title\"/>\n",
      "<meta content=\"https://xkcd.com/2203/\" property=\"og:url\"/>\n",
      "<meta content=\"https://imgs.xkcd.com/comics/prescience_2x.png\" property=\"og:image\"/>\n",
      "<meta content=\"summary_large_image\" name=\"twitter:card\"/>\n",
      "</head>\n",
      "<body>\n",
      "<div id=\"topContainer\">\n",
      "<div id=\"topLeft\">\n",
      "<ul>\n",
      "<li><a href=\"/archive\">Archive</a></li>\n",
      "<li><a href=\"http://what-if.xkcd.com\">What If?</a></li>\n",
      "<li><a href=\"http://blag.xkcd.com\">Blag</a></li>\n",
      "<li><a href=\"/how-to/\">How To</a></li>\n",
      "<li><a href=\"http://store.xkcd.com/\">Store</a></li>\n",
      "<li><a href=\"/about\" rel=\"author\">About</a></li>\n",
      "<li><a href=\"/atom.xml\">Feed</a> • <a href=\"/newsletter/\">Email</a></li>\n",
      "</ul>\n",
      "</div>\n",
      "<div id=\"topRight\">\n",
      "<div id=\"masthead\">\n",
      "<span><a href=\"/\"><img alt=\"xkcd.com logo\" height=\"83\" src=\"/s/0b7742.png\" width=\"185\"/></a></span>\n",
      "<span id=\"slogan\">A webcomic of romance,<br/> sarcasm, math, and language.</span>\n",
      "</div>\n",
      "<div id=\"news\">\n",
      "<div id=\"htNews\">\n",
      "<a href=\"//xkcd.com/how-to/\"><img border=\"0\" src=\"//imgs.xkcd.com/static/howto_release_3.png\"/></a><br/>\n",
      "  Order: \n",
      "    <a href=\"https://www.amazon.com/How-Absurd-Scientific-Real-World-Problems/dp/0525537090/\">Amazon</a>,\n",
      "    <a href=\"http://links.penguinrandomhouse.com/type/affiliate/isbn/9780525537090/siteID/8001/retailerid/2/trackingcode/PRH5522E62429\">B&amp;N</a>,\n",
      "    <a href=\"https://www.barnesandnoble.com/w/how-to-randall-munroe/1130494832?ean=9780525686910#/\">B&amp;N Exclusive Edition</a>,\n",
      "    <a href=\"http://links.penguinrandomhouse.com/type/affiliate/isbn/9780525537090/siteID/8001/retailerid/6/trackingcode/penguinrandom\">IndieBound</a>,\n",
      "    <a href=\"https://itunes.apple.com/us/book/how-to/id1451461524?mt=11\">Apple</a>,\n",
      "    <a href=\"https://www.audible.com/search?advsearchKeywords=How+To+Randall+Munroe&amp;source_code=COMA0213WS031709&amp;SID=PRHA9A5E24CFB--9780525635680\">Audible</a>\n",
      "</div>\n",
      "<script>\n",
      "var client = new XMLHttpRequest();\n",
      "client.open(\"GET\", \"//c.xkcd.com/how-to/news\", true);\n",
      "client.send();\n",
      "client.onreadystatechange = function() {\n",
      "  if(client.readyState == 4 && client.status == 200) {\n",
      "    document.getElementById(\"htNews\").innerHTML = client.responseText;\n",
      "  }\n",
      "}\n",
      "</script>\n",
      "</div>\n",
      "</div>\n",
      "<div class=\"bg box\" id=\"bgLeft\"></div>\n",
      "<div class=\"bg box\" id=\"bgRight\"></div>\n",
      "</div>\n",
      "<div class=\"box\" id=\"middleContainer\">\n",
      "<div id=\"ctitle\">Prescience</div>\n",
      "<ul class=\"comicNav\">\n",
      "<li><a href=\"/1/\">|&lt;</a></li>\n",
      "<li><a accesskey=\"p\" href=\"/2202/\" rel=\"prev\">&lt; Prev</a></li>\n",
      "<li><a href=\"//c.xkcd.com/random/comic/\">Random</a></li>\n",
      "<li><a accesskey=\"n\" href=\"#\" rel=\"next\">Next &gt;</a></li>\n",
      "<li><a href=\"/\">&gt;|</a></li>\n",
      "</ul>\n",
      "<div id=\"comic\">\n",
      "<img alt=\"Prescience\" src=\"//imgs.xkcd.com/comics/prescience.png\" srcset=\"//imgs.xkcd.com/comics/prescience_2x.png 2x\" title=\"Lots of people called their ships unsinkable before the Titanic. Voicing your hubris doesn't make failure more likely, just more memorable.\"/>\n",
      "</div>\n",
      "<ul class=\"comicNav\">\n",
      "<li><a href=\"/1/\">|&lt;</a></li>\n",
      "<li><a accesskey=\"p\" href=\"/2202/\" rel=\"prev\">&lt; Prev</a></li>\n",
      "<li><a href=\"//c.xkcd.com/random/comic/\">Random</a></li>\n",
      "<li><a accesskey=\"n\" href=\"#\" rel=\"next\">Next &gt;</a></li>\n",
      "<li><a href=\"/\">&gt;|</a></li>\n",
      "</ul>\n",
      "<br/>\n",
      "Permanent link to this comic: https://xkcd.com/2203/<br/>\n",
      "Image URL (for hotlinking/embedding): https://imgs.xkcd.com/comics/prescience.png\n",
      "<div id=\"transcript\" style=\"display: none\"></div>\n",
      "</div>\n",
      "<div class=\"box\" id=\"bottom\">\n",
      "<img alt=\"Selected Comics\" height=\"100\" src=\"//imgs.xkcd.com/s/a899e84.jpg\" usemap=\"#comicmap\" width=\"520\"/>\n",
      "<map id=\"comicmap\" name=\"comicmap\">\n",
      "<area alt=\"Grownups\" coords=\"0,0,100,100\" href=\"/150/\" shape=\"rect\"/>\n",
      "<area alt=\"Circuit Diagram\" coords=\"104,0,204,100\" href=\"/730/\" shape=\"rect\"/>\n",
      "<area alt=\"Angular Momentum\" coords=\"208,0,308,100\" href=\"/162/\" shape=\"rect\"/>\n",
      "<area alt=\"Self-Description\" coords=\"312,0,412,100\" href=\"/688/\" shape=\"rect\"/>\n",
      "<area alt=\"Alternative Energy Revolution\" coords=\"416,0,520,100\" href=\"/556/\" shape=\"rect\"/>\n",
      "</map>\n",
      "<br/>\n",
      "<a href=\"//xkcd.com/1732/\"><img alt=\"Earth temperature timeline\" border=\"0\" height=\"100\" src=\"//imgs.xkcd.com/s/temperature.png\" width=\"520\"/></a>\n",
      "<br/>\n",
      "<div>\n",
      "<!--\n",
      "Search comic titles and transcripts:\n",
      "<script type=\"text/javascript\" src=\"//www.google.com/jsapi\"></script>\n",
      "<script type=\"text/javascript\">google.load('search', '1');google.setOnLoadCallback(function() {google.search.CustomSearchControl.attachAutoCompletion('012652707207066138651:zudjtuwe28q',document.getElementById('q'),'cse-search-box');});</script>\n",
      "<form action=\"//www.google.com/cse\" id=\"cse-search-box\">\n",
      "<div>\n",
      "<input type=\"hidden\" name=\"cx\" value=\"012652707207066138651:zudjtuwe28q\"/>\n",
      "<input type=\"hidden\" name=\"ie\" value=\"UTF-8\"/>\n",
      "<input type=\"text\" name=\"q\" id=\"q\" size=\"31\"/>\n",
      "<input type=\"submit\" name=\"sa\" value=\"Search\"/>\n",
      "</div>\n",
      "</form>\n",
      "<script type=\"text/javascript\" src=\"//www.google.com/cse/brand?form=cse-search-box&amp;lang=en\"></script>\n",
      "-->\n",
      "<a href=\"/rss.xml\">RSS Feed</a> - <a href=\"/atom.xml\">Atom Feed</a> - <a href=\"/newsletter/\">Email</a>\n",
      "</div>\n",
      "<br/>\n",
      "<div id=\"comicLinks\">\n",
      "Comics I enjoy:<br/>\n",
      "<a href=\"http://threewordphrase.com/\">Three Word Phrase</a>,\n",
      "        <a href=\"http://www.smbc-comics.com/\">SMBC</a>,\n",
      "        <a href=\"http://www.qwantz.com\">Dinosaur Comics</a>,\n",
      "        <a href=\"http://oglaf.com/\">Oglaf</a> (nsfw),\n",
      "        <a href=\"http://www.asofterworld.com\">A Softer World</a>,\n",
      "        <a href=\"http://buttersafe.com/\">Buttersafe</a>,\n",
      "        <a href=\"http://pbfcomics.com/\">Perry Bible Fellowship</a>,\n",
      "        <a href=\"http://questionablecontent.net/\">Questionable Content</a>,\n",
      "        <a href=\"http://www.buttercupfestival.com/\">Buttercup Festival</a>,\n",
      "        <a href=\"http://www.mspaintadventures.com/?s=6&amp;p=001901\">Homestuck</a>,\n",
      "\t<a href=\"http://www.jspowerhour.com/\">Junior Scientist Power Hour</a>\n",
      "</div>\n",
      "<br/>\n",
      "<div id=\"comicLinks\">\n",
      "Other things:<br/>\n",
      "<a href=\"https://medium.com/civic-tech-thoughts-from-joshdata/so-you-want-to-reform-democracy-7f3b1ef10597\">Tips on technology and government</a>,<br/>\n",
      "<a href=\"https://www.nytimes.com/interactive/2017/climate/what-is-climate-change.html\">Climate FAQ</a>,\n",
      "\t<a href=\"https://twitter.com/KHayhoe\">Katharine Hayhoe</a>\n",
      "</div>\n",
      "<br/>\n",
      "<center>\n",
      "<div id=\"footnote\" style=\"width:70%\">xkcd.com is best viewed with Netscape Navigator 4.0 or below on a Pentium 3±1 emulated in Javascript on an Apple IIGS<br/>at a screen resolution of 1024x1. Please enable your ad blockers, disable high-heat drying, and remove your device<br/>from Airplane Mode and set it to Boat Mode. For security reasons, please leave caps lock on while browsing.</div>\n",
      "</center>\n",
      "<div id=\"licenseText\">\n",
      "<p>\n",
      "This work is licensed under a\n",
      "<a href=\"http://creativecommons.org/licenses/by-nc/2.5/\">Creative Commons Attribution-NonCommercial 2.5 License</a>.\n",
      "</p><p>\n",
      "This means you're free to copy and share these comics (but not to sell them). <a href=\"/license.html\" rel=\"license\">More details</a>.</p>\n",
      "</div>\n",
      "</div>\n",
      "</body>\n",
      "<!-- Layout by Ian Clasbey, davean, and chromakode -->\n",
      "</html>\n",
      "\n",
      "<class 'bs4.BeautifulSoup'>\n"
     ]
    }
   ],
   "source": [
    "from bs4 import BeautifulSoup\n",
    "import requests\n",
    "\n",
    "res = requests.get('https://www.xkcd.com')\n",
    "\n",
    "print(res)\n",
    "res.text\n",
    "\n",
    "soup = BeautifulSoup(res.text, 'lxml')\n",
    "print(soup)\n",
    "\n",
    "print(type(soup))"
   ]
  },
  {
   "cell_type": "code",
   "execution_count": 8,
   "metadata": {},
   "outputs": [
    {
     "name": "stdout",
     "output_type": "stream",
     "text": [
      "<html> <head> </head> <body> <p>test</p> </body></html>\n",
      "<class 'bs4.BeautifulSoup'>\n"
     ]
    }
   ],
   "source": [
    "from bs4 import BeautifulSoup\n",
    "\n",
    "html = \"\"\"<html> <head> </head> <body> <p>test</p> </body></html>\"\"\"\n",
    "\n",
    "soup = BeautifulSoup(html, 'lxml')\n",
    "print(soup)\n",
    "print(type(soup))"
   ]
  },
  {
   "cell_type": "code",
   "execution_count": 9,
   "metadata": {},
   "outputs": [
    {
     "name": "stdout",
     "output_type": "stream",
     "text": [
      "<html>\n",
      " <head>\n",
      "  <title>\n",
      "   test site\n",
      "  </title>\n",
      " </head>\n",
      " <body>\n",
      "  <p>\n",
      "   test\n",
      "  </p>\n",
      "  <p>\n",
      "   test1\n",
      "  </p>\n",
      "  <p>\n",
      "   test2\n",
      "  </p>\n",
      " </body>\n",
      "</html>\n"
     ]
    }
   ],
   "source": [
    "from bs4 import BeautifulSoup\n",
    "\n",
    "html = \"\"\"<html> <head><title>test site</title></head> <body> <p>test</p> <p>test1</p> <p>test2</p> </body></html>\"\"\"\n",
    "\n",
    "soup = BeautifulSoup(html, 'lxml')\n",
    "print(soup.prettify())"
   ]
  },
  {
   "cell_type": "code",
   "execution_count": 11,
   "metadata": {},
   "outputs": [
    {
     "name": "stdout",
     "output_type": "stream",
     "text": [
      "<html>\n",
      " <head>\n",
      "  <title>\n",
      "   test site\n",
      "  </title>\n",
      " </head>\n",
      " <body>\n",
      "  <p>\n",
      "   test\n",
      "  </p>\n",
      "  <p>\n",
      "   test1\n",
      "  </p>\n",
      "  <p>\n",
      "   test2\n",
      "  </p>\n",
      " </body>\n",
      "</html>\n",
      "**********\n",
      "<p>test</p>\n",
      "test\n",
      "[document]\n",
      "<title>test site</title>\n",
      "test site\n",
      "<class 'bs4.BeautifulSoup'> , <class 'bs4.element.Tag'>\n"
     ]
    }
   ],
   "source": [
    "html = \"\"\"<html> <head><title>test site</title></head> <body> <p>test</p> <p>test1</p> <p>test2</p> </body></html>\"\"\"\n",
    "\n",
    "soup = BeautifulSoup(html, 'lxml')\n",
    "tag_title = soup.title\n",
    "print(soup.prettify())\n",
    "print('*'*10)\n",
    "print(soup.p)\n",
    "print(soup.p.text)\n",
    "print(soup.name)\n",
    "print(tag_title)\n",
    "print(tag_title.text)\n",
    "print(type(soup), ',', type(tag_title))"
   ]
  },
  {
   "cell_type": "code",
   "execution_count": 13,
   "metadata": {},
   "outputs": [
    {
     "name": "stdout",
     "output_type": "stream",
     "text": [
      "<html>\n",
      " <head>\n",
      "  <title class=\"t\" id=\"ti\">\n",
      "   test site\n",
      "  </title>\n",
      " </head>\n",
      " <body>\n",
      "  <p id=\"a\">\n",
      "   test\n",
      "   <span>\n",
      "    test3\n",
      "   </span>\n",
      "   <span>\n",
      "    test4\n",
      "   </span>\n",
      "  </p>\n",
      "  <p class=\"b\">\n",
      "   test1\n",
      "  </p>\n",
      "  <p>\n",
      "   test2\n",
      "  </p>\n",
      " </body>\n",
      "</html>\n"
     ]
    }
   ],
   "source": [
    "from bs4 import BeautifulSoup\n",
    "\n",
    "html = \"\"\"<html> <head><title class=\"t\" id=\"ti\">test site</title></head> \n",
    "<body> <p id='a'>test<span>test3</span><span>test4</span></p> <p class='b'>test1</p> <p>test2</p> \n",
    "</body></html>\"\"\"\n",
    "\n",
    "soup = BeautifulSoup(html, 'lxml')\n",
    "\n",
    "print(soup. prettify())"
   ]
  },
  {
   "cell_type": "code",
   "execution_count": 35,
   "metadata": {},
   "outputs": [
    {
     "name": "stdout",
     "output_type": "stream",
     "text": [
      "{'class': ['t'], 'id': 'ti'}\n",
      "['t']\n",
      "ti\n",
      "['t']\n",
      "ti\n",
      "testtest3test4\n",
      "None\n",
      "test3\n",
      "['test', <span>test3</span>, <span>test4</span>]\n",
      "testtest3test4\n",
      "<list_iterator object at 0x000002BDA2716080>\n",
      "test\n",
      "<span>test3</span>\n",
      "<span>test4</span>\n"
     ]
    }
   ],
   "source": [
    "tag_title = soup.title\n",
    "\n",
    "print(tag_title.attrs) # attrs - 해당 태크의 속성\n",
    "print(tag_title['class'])\n",
    "print(tag_title['id'])\n",
    "\n",
    "print(tag_title.get('class'))\n",
    "print(tag_title.get('id'))\n",
    "\n",
    "print(soup.p.text)\n",
    "print(soup.p.string)\n",
    "print(soup.p.span.string)\n",
    "\n",
    "tag_p_children = soup.p.contents\n",
    "print(soup.p.contents)\n",
    "print(soup.p.text)\n",
    "\n",
    "print(soup.p.children)\n",
    "for child in soup.p.children:\n",
    "    print(child)"
   ]
  },
  {
   "cell_type": "code",
   "execution_count": 37,
   "metadata": {},
   "outputs": [
    {
     "name": "stdout",
     "output_type": "stream",
     "text": [
      "<p>test<span>test3</span><span>test4</span></p>\n",
      "<head><title class=\"t\" id=\"ti\">test site</title></head>\n"
     ]
    }
   ],
   "source": [
    "print(soup.span.parent)\n",
    "print(soup.title.parent)"
   ]
  },
  {
   "cell_type": "code",
   "execution_count": 41,
   "metadata": {},
   "outputs": [
    {
     "name": "stdout",
     "output_type": "stream",
     "text": [
      "<span>test4</span>\n",
      "test\n"
     ]
    }
   ],
   "source": [
    "print(soup.span.next_sibling)\n",
    "print(soup.span.previous_sibling)"
   ]
  },
  {
   "cell_type": "code",
   "execution_count": 14,
   "metadata": {},
   "outputs": [
    {
     "name": "stdout",
     "output_type": "stream",
     "text": [
      "<html>\n",
      " <head>\n",
      "  <title class=\"t\" id=\"ti\">\n",
      "   test site\n",
      "  </title>\n",
      " </head>\n",
      " <body>\n",
      "  <p id=\"a\">\n",
      "   test\n",
      "   <span>\n",
      "    test3\n",
      "   </span>\n",
      "   <span>\n",
      "    test4\n",
      "   </span>\n",
      "  </p>\n",
      "  <p class=\"b\">\n",
      "   test1\n",
      "  </p>\n",
      "  <p>\n",
      "   test2\n",
      "  </p>\n",
      " </body>\n",
      "</html>\n",
      "**********\n",
      "[<title class=\"t\" id=\"ti\">test site</title>]\n",
      "[<p id=\"a\">test<span>test3</span><span>test4</span></p>, <p class=\"b\">test1</p>, <p>test2</p>]\n",
      "[<span>test3</span>, <span>test4</span>]\n"
     ]
    }
   ],
   "source": [
    "print(soup.prettify())\n",
    "print('*'*10)\n",
    "print(soup.find_all('title'))\n",
    "print(soup.find_all('p'))\n",
    "print(soup.find_all('span'))"
   ]
  },
  {
   "cell_type": "code",
   "execution_count": 16,
   "metadata": {},
   "outputs": [
    {
     "name": "stdout",
     "output_type": "stream",
     "text": [
      "[<p id=\"a\">test<span>test3</span><span>test4</span></p>]\n"
     ]
    }
   ],
   "source": [
    "print(soup.find_all('p', id='a'))"
   ]
  },
  {
   "cell_type": "code",
   "execution_count": 17,
   "metadata": {},
   "outputs": [
    {
     "name": "stdout",
     "output_type": "stream",
     "text": [
      "[<p class=\"b\">test1</p>]\n"
     ]
    }
   ],
   "source": [
    "print(soup.find_all('p', class_='b'))"
   ]
  },
  {
   "cell_type": "markdown",
   "metadata": {},
   "source": [
    "## Select\n",
    "=> parsing은 select와 find_all만 사용하면 됨."
   ]
  },
  {
   "cell_type": "code",
   "execution_count": 49,
   "metadata": {},
   "outputs": [],
   "source": [
    "# soup.select('div') - div 태그가 붙은 모든 엘리먼트\n",
    "# soup.select('#author') - id 속성이 author인 엘리먼트\n",
    "# soup.select('.notice') - class 속성이 notice인 엘리먼트\n",
    "# soup.select('div sapn') - div 태그 아래 모든 엘리먼트,  그아래 모든 span 태그\n",
    "# soup.select('div > span') - 모든 div 태그 바로 아래 span 태그인 엘리먼트\n",
    "# soup.select('input[name]') - input 태그 아래 모든 \n",
    "# soup.select('input[type=\"button\"]')"
   ]
  },
  {
   "cell_type": "code",
   "execution_count": 24,
   "metadata": {},
   "outputs": [
    {
     "name": "stdout",
     "output_type": "stream",
     "text": [
      "<html>\n",
      " <head>\n",
      "  <title>\n",
      "   test site\n",
      "  </title>\n",
      " </head>\n",
      " <body>\n",
      "  <p class=\"a\" id=\"i\">\n",
      "   test1\n",
      "  </p>\n",
      "  <p class=\"d\">\n",
      "   test2\n",
      "  </p>\n",
      "  <p class=\"d c f\">\n",
      "   test3\n",
      "  </p>\n",
      "  <b>\n",
      "   a tag\n",
      "   <span>\n",
      "    b span\n",
      "   </span>\n",
      "  </b>\n",
      "  <a href=\" http://www.naver.com \">\n",
      "   <img src=\" img/naver.png \"/>\n",
      "   naver\n",
      "  </a>\n",
      "  <div>\n",
      "   test div\n",
      "   <p>\n",
      "    test p\n",
      "    <span>\n",
      "     test span\n",
      "    </span>\n",
      "   </p>\n",
      "  </div>\n",
      " </body>\n",
      "</html>\n"
     ]
    }
   ],
   "source": [
    "from bs4 import BeautifulSoup\n",
    "\n",
    "html = \"\"\"<html> <head><title>test site</title></head> \n",
    "<body> <p id=\"i\" class=\"a\">test1</p><p class=\"d\">test2</p>\n",
    "<p class=\"d c f\">test3</p></p> <b>a tag<span> b span</span></b> \n",
    "<a href = \" http://www.naver.com \"><img src = \" img/naver.png \">naver</a>\n",
    "<div>test div<p>test p<span>test span</span></p></div></body></html>\"\"\"\n",
    "\n",
    "soup = BeautifulSoup(html, 'lxml')\n",
    "\n",
    "print(soup.prettify())"
   ]
  },
  {
   "cell_type": "code",
   "execution_count": 25,
   "metadata": {},
   "outputs": [
    {
     "name": "stdout",
     "output_type": "stream",
     "text": [
      "[<p class=\"a\" id=\"i\">test1</p>, <p class=\"d\">test2</p>, <p class=\"d c f\">test3</p>, <p>test p<span>test span</span></p>]\n",
      "[<p class=\"d\">test2</p>, <p class=\"d c f\">test3</p>]\n",
      "[<p class=\"d\">test2</p>, <p class=\"d c f\">test3</p>]\n",
      "[<p class=\"a\" id=\"i\">test1</p>]\n",
      "[<p class=\"a\" id=\"i\">test1</p>]\n"
     ]
    }
   ],
   "source": [
    "soup = BeautifulSoup(html, 'lxml')\n",
    "\n",
    "print(soup.select('p'))\n",
    "print(soup.select('.d'))\n",
    "print(soup.select('p.d'))\n",
    "print(soup.select('#i'))\n",
    "print(soup.select('p#i'))"
   ]
  },
  {
   "cell_type": "code",
   "execution_count": 26,
   "metadata": {},
   "outputs": [
    {
     "name": "stdout",
     "output_type": "stream",
     "text": [
      "[<p class=\"d\">test2</p>, <p class=\"d c f\">test3</p>]\n"
     ]
    }
   ],
   "source": [
    "print(soup.select('p.d'))\n"
   ]
  },
  {
   "cell_type": "code",
   "execution_count": 27,
   "metadata": {},
   "outputs": [
    {
     "name": "stdout",
     "output_type": "stream",
     "text": [
      "[<p class=\"d c f\">test3</p>]\n"
     ]
    }
   ],
   "source": [
    "# 여러개의 클래스가 적용된경우 선택시 클래스들을 .으로 붙여서 연결해야\n",
    "\n",
    "print(soup.select('p.d.c.f'))\n"
   ]
  },
  {
   "cell_type": "code",
   "execution_count": 20,
   "metadata": {},
   "outputs": [
    {
     "name": "stdout",
     "output_type": "stream",
     "text": [
      "[<p class=\"a\" id=\"i\">test1</p>, <p class=\"d\">test2</p>, <p class=\"d\">test3</p>, <p>test p<span>test span</span></p>]\n",
      "[<p class=\"a\" id=\"i\">test1</p>, <p class=\"d\">test2</p>, <p class=\"d\">test3</p>]\n",
      "[<p class=\"d\">test2</p>, <p class=\"d\">test3</p>]\n"
     ]
    }
   ],
   "source": [
    "print(soup.select('body p'))\n",
    "print(soup.select('body > p'))\n",
    "print(soup.select('body .d'))"
   ]
  },
  {
   "cell_type": "code",
   "execution_count": 22,
   "metadata": {},
   "outputs": [
    {
     "name": "stdout",
     "output_type": "stream",
     "text": [
      "[<span> b span</span>, <span>test span</span>]\n",
      "[<span>test span</span>]\n",
      "[<span> b span</span>]\n"
     ]
    }
   ],
   "source": [
    "print(soup.select('body span'))\n",
    "print(soup.select('body > div > p > span'))\n",
    "print(soup.select('body > b > span'))"
   ]
  },
  {
   "cell_type": "code",
   "execution_count": 23,
   "metadata": {},
   "outputs": [
    {
     "name": "stdout",
     "output_type": "stream",
     "text": [
      " http://www.naver.com \n",
      " img/naver.png \n"
     ]
    }
   ],
   "source": [
    "print(soup.select('a')[0]['href'])\n",
    "print(soup.select('a > img')[0]['src'])"
   ]
  },
  {
   "cell_type": "code",
   "execution_count": null,
   "metadata": {},
   "outputs": [],
   "source": [
    "# soup.title\n",
    "# soup.find('title')\n",
    "# # 엘리먼트 이름 기반 탐색\n",
    "# soup.find_all('title')\n",
    "# # title 엘리먼트 모두 반환\n",
    "\n",
    "# soup.find(id='search')\n",
    "# # id 기반\n",
    "# soup.find_all(class_='box')\n",
    "# # 클래스 기반, 클래스는 여러 엘리먼트에 할당할 수 있으므로 find_all\n",
    "# soup.find('div', {'id': 'test_div'})\n",
    "# # 엘리먼트 이름 + id 기반\n",
    "# soup.find_all('div', {'class': 'test_div'})\n",
    "# # 엘리먼트 이름 + 클래스 기반\n",
    "# soup.select('div.test_div')\n",
    "# # 클래스 기반(CSS 선택자 문법)\n",
    "# soup.select_one('div#test_div')\n",
    "# # id 기반(CSS 선택자 문법)\n",
    "\n",
    "# soup.title.string\n",
    "# soup.title.get_text()\n",
    "# # 내부 내용 반환\n",
    "\n",
    "# soup.title['attr']\n",
    "# # 속성 접근"
   ]
  },
  {
   "cell_type": "code",
   "execution_count": null,
   "metadata": {},
   "outputs": [],
   "source": [
    "import requests\n",
    "from bs4 import BeautifulSoup\n",
    "\n",
    "response = requests.get(\"http://www.naver.com\")\n",
    "soup = BeautifulSoup(response.text, \"html.parser\")\n",
    "print(soup)\n",
    "result = soup.select(\".tsq_list > li > a\")\n",
    "for i in result:\n",
    "    print (i)"
   ]
  },
  {
   "cell_type": "code",
   "execution_count": null,
   "metadata": {},
   "outputs": [],
   "source": [
    "from bs4 import BeautifulSoup\n",
    "\n",
    "html_ex = \"\"\"\n",
    "<html>\n",
    "<head>\n",
    "<title>Is this HTML?</title>\n",
    "<style>\n",
    "  p {\n",
    "  color : blue;\n",
    "  }\n",
    "  b {\n",
    "  color: red;\n",
    "  }\n",
    "\n",
    ".circle {\n",
    "width: 500px;\n",
    "height: 500px;\n",
    "background: green;\n",
    "border-radius: 50%;\n",
    "}\n",
    "\n",
    "#rect {\n",
    "width: 500px;\n",
    "height: 500px;\n",
    "background: black;\n",
    "  }\n",
    "</style>\n",
    "</head>\n",
    "<body>\n",
    "<p>\n",
    "  HTML is <b>not</b> a programming language.\n",
    "</p>\n",
    "<p>\n",
    "  1232456\n",
    "</p>\n",
    "<p>\n",
    "  Hage.\n",
    "</p>\n",
    "<div class=\"circle\">\n",
    "</div>\n",
    "<div id=\"rect\">\n",
    "asdfasdfasdfasdf\n",
    "\n",
    "\n",
    "</div>\n",
    "<div class=\"circle\">\n",
    "</div>\n",
    "</body>\n",
    "</html>\n",
    "\"\"\"\n",
    "soup = BeautifulSoup(html_ex, \"html.parser\")\n",
    "result = soup.select('p')\n",
    "for i in result:\n",
    "    print i.text"
   ]
  },
  {
   "cell_type": "code",
   "execution_count": null,
   "metadata": {},
   "outputs": [],
   "source": [
    "import time\n",
    "import requests\n",
    "\n",
    "def print_hello():\n",
    "    print \"Hello, HTML!\"\n",
    "    for cnt in range(5, -1, -1):\n",
    "        time.sleep(1)\n",
    "        print cnt\n",
    "\n",
    "print_hello()\n",
    "response = requests.get('http://www.naver.com')\n",
    "\n",
    "try:\n",
    "    response.raise_for_status()\n",
    "except Exception as exc:\n",
    "    print 'There was a problem: %s' % exc\n",
    "\n",
    "print response.text"
   ]
  },
  {
   "cell_type": "code",
   "execution_count": null,
   "metadata": {},
   "outputs": [],
   "source": [
    "import requests\n",
    "\n",
    "response = requests.get('https://sdl-stickershop.line.naver.jp/products/0/0/8/718/LINEStorePC/main.png?__=20150924')\n",
    "\n",
    "try:\n",
    "    response.raise_for_status()\n",
    "except Exception as exc:\n",
    "    print 'There was a problem: %s' % exc\n",
    "\n",
    "downloadFile = open('myDownFile.png', 'wb')\n",
    "for chunk in response.iter_content(100000):\n",
    "    downloadFile.write(chunk)\n",
    "\n",
    "downloadFile.close()"
   ]
  },
  {
   "cell_type": "code",
   "execution_count": 1,
   "metadata": {},
   "outputs": [
    {
     "ename": "IndexError",
     "evalue": "list index out of range",
     "output_type": "error",
     "traceback": [
      "\u001b[1;31m---------------------------------------------------------------------------\u001b[0m",
      "\u001b[1;31mIndexError\u001b[0m                                Traceback (most recent call last)",
      "\u001b[1;32m<ipython-input-1-b21d4f7c0b8f>\u001b[0m in \u001b[0;36m<module>\u001b[1;34m()\u001b[0m\n\u001b[0;32m      6\u001b[0m \u001b[1;33m\u001b[0m\u001b[0m\n\u001b[0;32m      7\u001b[0m \u001b[0mresult\u001b[0m \u001b[1;33m=\u001b[0m \u001b[0msoup\u001b[0m\u001b[1;33m.\u001b[0m\u001b[0mselect\u001b[0m\u001b[1;33m(\u001b[0m\u001b[1;34m\"#comic > img\"\u001b[0m\u001b[1;33m)\u001b[0m\u001b[1;33m\u001b[0m\u001b[0m\n\u001b[1;32m----> 8\u001b[1;33m \u001b[0mnew_addr\u001b[0m \u001b[1;33m=\u001b[0m \u001b[0mresult\u001b[0m\u001b[1;33m[\u001b[0m\u001b[1;36m0\u001b[0m\u001b[1;33m]\u001b[0m\u001b[1;33m[\u001b[0m\u001b[1;34m'src'\u001b[0m\u001b[1;33m]\u001b[0m\u001b[1;33m\u001b[0m\u001b[0m\n\u001b[0m\u001b[0;32m      9\u001b[0m \u001b[0mimgfile\u001b[0m \u001b[1;33m=\u001b[0m \u001b[0mrequests\u001b[0m\u001b[1;33m.\u001b[0m\u001b[0mget\u001b[0m\u001b[1;33m(\u001b[0m\u001b[1;34m\"http:\"\u001b[0m \u001b[1;33m+\u001b[0m \u001b[0mnew_addr\u001b[0m\u001b[1;33m)\u001b[0m\u001b[1;33m\u001b[0m\u001b[0m\n\u001b[0;32m     10\u001b[0m \u001b[1;33m\u001b[0m\u001b[0m\n",
      "\u001b[1;31mIndexError\u001b[0m: list index out of range"
     ]
    }
   ],
   "source": [
    "import requests\n",
    "from bs4 import BeautifulSoup\n",
    "\n",
    "response = requests.get(\"http://www.xkcd.com/\")\n",
    "soup = BeautifulSoup(response.text, \"html.parser\")\n",
    "\n",
    "result = soup.select(\"#comic > img\")\n",
    "new_addr = result[0]['src']\n",
    "imgfile = requests.get(\"http:\" + new_addr)\n",
    "\n",
    "f = open('xkcd.png', 'wb')\n",
    "for chunk in imgfile.iter_content(3):\n",
    "    f.write(chunk)\n",
    "f.close()"
   ]
  },
  {
   "cell_type": "code",
   "execution_count": null,
   "metadata": {},
   "outputs": [],
   "source": []
  },
  {
   "cell_type": "code",
   "execution_count": 2,
   "metadata": {},
   "outputs": [
    {
     "ename": "SyntaxError",
     "evalue": "invalid syntax (<ipython-input-2-89367373036a>, line 17)",
     "output_type": "error",
     "traceback": [
      "\u001b[1;36m  File \u001b[1;32m\"<ipython-input-2-89367373036a>\"\u001b[1;36m, line \u001b[1;32m17\u001b[0m\n\u001b[1;33m    print len(movies)\u001b[0m\n\u001b[1;37m            ^\u001b[0m\n\u001b[1;31mSyntaxError\u001b[0m\u001b[1;31m:\u001b[0m invalid syntax\n"
     ]
    }
   ],
   "source": [
    "#-*- coding: utf-8 -*-\n",
    "\n",
    "import csv\n",
    "from bs4 import BeautifulSoup as bs\n",
    "import requests\n",
    "\n",
    "def movie_crawler(url):\n",
    "    res = requests.get(url)\n",
    "\n",
    "    table = []\n",
    "\n",
    "    if res.status_code == 200:\n",
    "        soup = bs(res.text)\n",
    "\n",
    "        movies = soup.findAll('div', {'itemtype': 'http://schema.org/Movie'})\n",
    "\n",
    "        print len(movies)\n",
    "\n",
    "        for movie in movies:\n",
    "            row = []\n",
    "\n",
    "            title = movie.findAll('h4', {'itemprop': 'name'})\n",
    "            score = movie.select('div.rating_txt > div > strong')\n",
    "            genres = movie.findAll('span', {'itemprop': 'genre'})\n",
    "            running_time = movie.findAll('time', {'itemprop': 'duration'})\n",
    "            actors = movie.findAll('span', {'itemprop': 'actors'})\n",
    "\n",
    "            title =  title[0].text.strip() if len(title)>0 else \"\"\n",
    "            score = score[0].text.strip() if len(score)>0 else \"\"\n",
    "            genre = \"/\".join([genre.text.strip() for genre in genres])\n",
    "            running_time = running_time[0].text.strip() if len(running_time)>0 else \"\"\n",
    "            actor = \"/\".join([actor.text.strip() for actor in actors])\n",
    "\n",
    "            row = [title, score, genre, running_time, actor]\n",
    "            table.append(row)\n",
    "\n",
    "    return table\n",
    "\n",
    "\n",
    "data = movie_crawler('http://www.imdb.com/movies-coming-soon/2015-01')"
   ]
  },
  {
   "cell_type": "code",
   "execution_count": null,
   "metadata": {},
   "outputs": [],
   "source": [
    "# 그러면 이제 2015-01부터 2015-12까지 영화정보를 긁어봅시다.\n",
    "target_url = 'http://www.imdb.com/movies-coming-soon/{0}'\n",
    "movie_total = []\n",
    "for i in range(1,13):\n",
    "    # string.zfill(2)을 사용해보세요. zero padding이 생깁니다.\n",
    "    date = \"2015-\" + str(i).zfill(2)\n",
    "    print target_url.format(date) + \" crawling..\"\n",
    "    movie_total += movie_crawler(target_url.format(date))"
   ]
  },
  {
   "cell_type": "code",
   "execution_count": null,
   "metadata": {},
   "outputs": [],
   "source": []
  },
  {
   "cell_type": "code",
   "execution_count": null,
   "metadata": {},
   "outputs": [],
   "source": []
  },
  {
   "cell_type": "code",
   "execution_count": null,
   "metadata": {},
   "outputs": [],
   "source": []
  },
  {
   "cell_type": "code",
   "execution_count": null,
   "metadata": {},
   "outputs": [],
   "source": []
  },
  {
   "cell_type": "code",
   "execution_count": null,
   "metadata": {},
   "outputs": [],
   "source": []
  },
  {
   "cell_type": "code",
   "execution_count": null,
   "metadata": {},
   "outputs": [],
   "source": []
  }
 ],
 "metadata": {
  "kernelspec": {
   "display_name": "Python 3",
   "language": "python",
   "name": "python3"
  },
  "language_info": {
   "codemirror_mode": {
    "name": "ipython",
    "version": 3
   },
   "file_extension": ".py",
   "mimetype": "text/x-python",
   "name": "python",
   "nbconvert_exporter": "python",
   "pygments_lexer": "ipython3",
   "version": "3.7.3"
  }
 },
 "nbformat": 4,
 "nbformat_minor": 2
}
