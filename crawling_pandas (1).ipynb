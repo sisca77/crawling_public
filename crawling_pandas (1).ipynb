{
 "cells": [
  {
   "cell_type": "markdown",
   "metadata": {},
   "source": [
    "# CSV 파일 읽고 쓰기\n",
    "\n",
    "csv는 Comma Seperated Values의 약자로, 말 그대로 콤마(,)로 구분된 데이터들을 말합니다. [위키피디아](https://en.wikipedia.org/wiki/Comma-separated_values)에서 예제를 확인할 수 있습니다. 엄청 심플한 버젼의 엑셀 포맷이라고 보셔도 무방합니다! 실제로 *.csv 파일은 엑셀(윈도우)이나 넘버스(맥)으로 열 수 있습니다."
   ]
  },
  {
   "cell_type": "code",
   "execution_count": 1,
   "metadata": {},
   "outputs": [],
   "source": [
    "# csv 파일로 바꿔봅시다. \n",
    "import csv\n",
    "\n",
    "# https://docs.python.org/2/library/csv.html#csv.reader\n",
    "# delimiter, qoutechar, qouting 옵션이 뭔지 직접 해봅시다.\n",
    "with open('sample.csv', 'w') as csvfile:\n",
    "    # default delimiter는 , quotechar는 \"입니다.\n",
    "    writer = csv.writer(csvfile, delimiter=',',\n",
    "                            quotechar='|', quoting=csv.QUOTE_MINIMAL)\n",
    "    \n",
    "    writer.writerow(['검사외전', '범죄', '126분'])\n",
    "    # 아래와 같이 제목에 콤마(,)가 들어가면 delimiter인 콤마(,)와 헷갈리게 됩니다.\n",
    "    # 그래서 quotechar(|)로 제목을 감싸주게 됩니다.\n",
    "    # 직접 확인해보죠.\n",
    "    writer.writerow(['쿵푸팬더3 (Kung Fu Panda 3, 2016)', '애니메이션', '95분'])"
   ]
  },
  {
   "cell_type": "code",
   "execution_count": 2,
   "metadata": {},
   "outputs": [
    {
     "name": "stdout",
     "output_type": "stream",
     "text": [
      "[['\\xea\\xb2\\x80\\xec\\x82\\xac\\xec\\x99\\xb8\\xec\\xa0\\x84', '\\xeb\\xb2\\x94\\xec\\xa3\\x84', '126\\xeb\\xb6\\x84'], ['\\xec\\xbf\\xb5\\xed\\x91\\xb8\\xed\\x8c\\xac\\xeb\\x8d\\x943 (Kung Fu Panda 3, 2016)', '\\xec\\x95\\xa0\\xeb\\x8b\\x88\\xeb\\xa9\\x94\\xec\\x9d\\xb4\\xec\\x85\\x98', '95\\xeb\\xb6\\x84']]\n"
     ]
    }
   ],
   "source": [
    "# csv 파일을 읽어옵니다.\n",
    "data = []\n",
    "with open('sample.csv', 'r') as csvfile:\n",
    "    reader = csv.reader(csvfile, delimiter=',', quotechar='|')\n",
    "    for row in reader:\n",
    "        data.append(row)\n",
    "        \n",
    "print data"
   ]
  },
  {
   "cell_type": "markdown",
   "metadata": {},
   "source": [
    "## 해보기\n",
    "\n",
    "이번에는 delimiter를 세미콜론(';')으로 하고, quotechar는 '/'로 해봅시다. 여러줄을 한 번에 쓸때는 `writer.writerows` 하면 됩니다."
   ]
  },
  {
   "cell_type": "code",
   "execution_count": 40,
   "metadata": {},
   "outputs": [],
   "source": [
    "data = [['검;사;외;전', '범죄', '126분'], \\\n",
    "        ['쿵;푸;팬;더;3 (Kung Fu Panda 3, 2016)', \\\n",
    "         '애;니;메;이;션', '95분']]\n",
    "\n",
    "def write_csv(data, filename, delimiter=',', quotechar='\"'):\n",
    "    with open(filename, 'w') as csvfile:\n",
    "        writer = csv.writer(csvfile, \\\n",
    "                            delimiter=delimiter,\\\n",
    "                            quotechar=quotechar)\n",
    "\n",
    "        writer.writerows(data)\n",
    "\n",
    "    return filename"
   ]
  },
  {
   "cell_type": "code",
   "execution_count": 41,
   "metadata": {},
   "outputs": [
    {
     "data": {
      "text/plain": [
       "'movies_sample.csv'"
      ]
     },
     "execution_count": 41,
     "metadata": {},
     "output_type": "execute_result"
    }
   ],
   "source": [
    "write_csv(data,'movies_sample.csv')"
   ]
  },
  {
   "cell_type": "markdown",
   "metadata": {},
   "source": [
    "## 해보기"
   ]
  },
  {
   "cell_type": "code",
   "execution_count": 15,
   "metadata": {},
   "outputs": [],
   "source": [
    "def read_csv(filename, delimiter=',', quotechar='\"'):\n",
    "    data = []\n",
    "\n",
    "    with open(filename, 'r') as csvfile:\n",
    "        reader = csv.reader(csvfile, \\\n",
    "                            delimiter=delimiter,\\\n",
    "                            quotechar=quotechar)\n",
    "\n",
    "        for row in reader:\n",
    "            data.append(row)\n",
    "\n",
    "    return data"
   ]
  },
  {
   "cell_type": "code",
   "execution_count": 16,
   "metadata": {},
   "outputs": [],
   "source": [
    "data = read_csv('movies_sample.csv')"
   ]
  },
  {
   "cell_type": "code",
   "execution_count": 17,
   "metadata": {},
   "outputs": [
    {
     "name": "stdout",
     "output_type": "stream",
     "text": [
      "검;사;외;전\n",
      "범죄\n",
      "126분\n",
      "쿵;푸;팬;더;3 (Kung Fu Panda 3, 2016)\n",
      "애;니;메;이;션\n",
      "95분\n"
     ]
    }
   ],
   "source": [
    "for row in data:\n",
    "    for item in row:\n",
    "        print item"
   ]
  },
  {
   "cell_type": "markdown",
   "metadata": {},
   "source": [
    "# 지난주에 배운 movie_total을 csv로 저장해봅시다."
   ]
  },
  {
   "cell_type": "code",
   "execution_count": 42,
   "metadata": {},
   "outputs": [
    {
     "name": "stdout",
     "output_type": "stream",
     "text": [
      "32\n"
     ]
    },
    {
     "data": {
      "text/plain": [
       "'movie_info.csv'"
      ]
     },
     "execution_count": 42,
     "metadata": {},
     "output_type": "execute_result"
    }
   ],
   "source": [
    "#-*- coding: utf-8 -*-\n",
    "\n",
    "import csv\n",
    "from bs4 import BeautifulSoup as bs\n",
    "import requests\n",
    "\n",
    "def movie_crawler(url):\n",
    "    res = requests.get(url)\n",
    "\n",
    "    table = []\n",
    "\n",
    "    if res.status_code == 200:\n",
    "        soup = bs(res.text)\n",
    "\n",
    "        movies = soup.findAll('div', {'itemtype': 'http://schema.org/Movie'})\n",
    "\n",
    "        print len(movies)\n",
    "\n",
    "        for movie in movies:\n",
    "            row = []\n",
    "\n",
    "            title = movie.findAll('h4', {'itemprop': 'name'})\n",
    "            score = movie.select('div.rating_txt > div > strong')\n",
    "            genres = movie.findAll('span', {'itemprop': 'genre'})\n",
    "            running_time = movie.findAll('time', {'itemprop': 'duration'})\n",
    "            actors = movie.findAll('span', {'itemprop': 'actors'})\n",
    "\n",
    "            title =  title[0].text.strip() if len(title)>0 else \"\"\n",
    "            score = score[0].text.strip() if len(score)>0 else \"\"\n",
    "            genre = \"/\".join([genre.text.strip() for genre in genres])\n",
    "            running_time = running_time[0].text.strip() if len(running_time)>0 else \"\"\n",
    "            actor = \"/\".join([actor.text.strip() for actor in actors])\n",
    "\n",
    "            row = [title, score, genre, running_time, actor]\n",
    "            table.append(row)\n",
    "\n",
    "    return table\n",
    "\n",
    "\n",
    "data = movie_crawler('http://www.imdb.com/movies-coming-soon/2015-01')"
   ]
  },
  {
   "cell_type": "code",
   "execution_count": 43,
   "metadata": {},
   "outputs": [
    {
     "name": "stdout",
     "output_type": "stream",
     "text": [
      "http://www.imdb.com/movies-coming-soon/2015-01 crawling..\n",
      "32\n",
      "http://www.imdb.com/movies-coming-soon/2015-02 crawling..\n",
      "23\n",
      "http://www.imdb.com/movies-coming-soon/2015-03 crawling..\n",
      "27\n",
      "http://www.imdb.com/movies-coming-soon/2015-04 crawling..\n",
      "29\n",
      "http://www.imdb.com/movies-coming-soon/2015-05 crawling..\n",
      "39\n",
      "http://www.imdb.com/movies-coming-soon/2015-06 crawling..\n",
      "31\n",
      "http://www.imdb.com/movies-coming-soon/2015-07 crawling..\n",
      "38\n",
      "http://www.imdb.com/movies-coming-soon/2015-08 crawling..\n",
      "32\n",
      "http://www.imdb.com/movies-coming-soon/2015-09 crawling..\n",
      "32\n",
      "http://www.imdb.com/movies-coming-soon/2015-10 crawling..\n",
      "43\n",
      "http://www.imdb.com/movies-coming-soon/2015-11 crawling..\n",
      "30\n",
      "http://www.imdb.com/movies-coming-soon/2015-12 crawling..\n",
      "33\n"
     ]
    }
   ],
   "source": [
    "# 그러면 이제 2015-01부터 2015-12까지 영화정보를 긁어봅시다.\n",
    "target_url = 'http://www.imdb.com/movies-coming-soon/{0}'\n",
    "movie_total = []\n",
    "for i in range(1,13):\n",
    "    # string.zfill(2)을 사용해보세요. zero padding이 생깁니다.\n",
    "    date = \"2015-\" + str(i).zfill(2)\n",
    "    print target_url.format(date) + \" crawling..\"\n",
    "    movie_total += movie_crawler(target_url.format(date))"
   ]
  },
  {
   "cell_type": "code",
   "execution_count": 45,
   "metadata": {},
   "outputs": [],
   "source": [
    "def write_csv(data, filename, delimiter=\",\", quotechar='\"'):\n",
    "    with open(filename, 'w') as csvfile:\n",
    "        writer = csv.writer(csvfile, \\\n",
    "                            delimiter=delimiter,\\\n",
    "                            quotechar=quotechar)\n",
    "\n",
    "        writer.writerows([[item.encode('utf-8') for item in row] for row in data])\n",
    "\n",
    "        # [[item.encode('utf-8') for item in row] for row in data]\n",
    "\n",
    "    return filename"
   ]
  },
  {
   "cell_type": "code",
   "execution_count": 44,
   "metadata": {},
   "outputs": [
    {
     "data": {
      "text/plain": [
       "'movie_info.csv'"
      ]
     },
     "execution_count": 44,
     "metadata": {},
     "output_type": "execute_result"
    }
   ],
   "source": [
    "write_csv(movie_total, \"movie_info.csv\")"
   ]
  },
  {
   "cell_type": "code",
   "execution_count": 48,
   "metadata": {},
   "outputs": [],
   "source": [
    "# 자, 이제 파이썬 데이터 분석툴 pandas 소개합니다.\n",
    "from pandas import DataFrame"
   ]
  },
  {
   "cell_type": "code",
   "execution_count": 50,
   "metadata": {},
   "outputs": [],
   "source": [
    "movie_df = DataFrame(movie_total, \\\n",
    "                     columns=['title', 'scorr', 'genre', 'running time', 'actors'])"
   ]
  },
  {
   "cell_type": "code",
   "execution_count": 51,
   "metadata": {},
   "outputs": [
    {
     "data": {
      "text/plain": [
       "389"
      ]
     },
     "execution_count": 51,
     "metadata": {},
     "output_type": "execute_result"
    }
   ],
   "source": [
    "len(movie_df)"
   ]
  },
  {
   "cell_type": "code",
   "execution_count": 52,
   "metadata": {},
   "outputs": [],
   "source": [
    "# csv format으로 저장하기 (encoding utf-8)\n",
    "movie_df.to_csv('./movie_from_df.csv', encoding='utf-8', index=False) #, header=False)"
   ]
  },
  {
   "cell_type": "code",
   "execution_count": 53,
   "metadata": {},
   "outputs": [],
   "source": [
    "import pandas as pd\n",
    "movie_df = pd.read_csv('./movie_from_df.csv')\n",
    "movie_df.head()"
   ]
  }
 ],
 "metadata": {
  "kernelspec": {
   "display_name": "Python 3",
   "language": "python",
   "name": "python3"
  },
  "language_info": {
   "codemirror_mode": {
    "name": "ipython",
    "version": 3
   },
   "file_extension": ".py",
   "mimetype": "text/x-python",
   "name": "python",
   "nbconvert_exporter": "python",
   "pygments_lexer": "ipython3",
   "version": "3.7.3"
  }
 },
 "nbformat": 4,
 "nbformat_minor": 1
}
