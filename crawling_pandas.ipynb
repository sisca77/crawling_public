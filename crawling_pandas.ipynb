{
 "cells": [
  {
   "cell_type": "markdown",
   "metadata": {},
   "source": [
    "# CSV 파일 읽고 쓰기\n",
    "\n",
    "csv는 Comma Seperated Values의 약자로, 말 그대로 콤마(,)로 구분된 데이터들을 말합니다. [위키피디아](https://en.wikipedia.org/wiki/Comma-separated_values)에서 예제를 확인할 수 있습니다. 엄청 심플한 버젼의 엑셀 포맷이라고 보셔도 무방합니다! 실제로 *.csv 파일은 엑셀(윈도우)이나 넘버스(맥)으로 열 수 있습니다."
   ]
  },
  {
   "cell_type": "code",
   "execution_count": 1,
   "metadata": {
    "collapsed": true
   },
   "outputs": [],
   "source": [
    "# csv 파일로 바꿔봅시다. \n",
    "import csv\n",
    "\n",
    "# https://docs.python.org/2/library/csv.html#csv.reader\n",
    "# delimiter, qoutechar, qouting 옵션이 뭔지 직접 해봅시다.\n",
    "with open('sample.csv', 'w') as csvfile:\n",
    "    # default delimiter는 , quotechar는 \"입니다.\n",
    "    writer = csv.writer(csvfile, delimiter=',',\n",
    "                            quotechar='|', quoting=csv.QUOTE_MINIMAL)\n",
    "    \n",
    "    writer.writerow(['검사외전', '범죄', '126분'])\n",
    "    # 아래와 같이 제목에 콤마(,)가 들어가면 delimiter인 콤마(,)와 헷갈리게 됩니다.\n",
    "    # 그래서 quotechar(|)로 제목을 감싸주게 됩니다.\n",
    "    # 직접 확인해보죠.\n",
    "    writer.writerow(['쿵푸팬더3 (Kung Fu Panda 3, 2016)', '애니메이션', '95분'])"
   ]
  },
  {
   "cell_type": "code",
   "execution_count": 2,
   "metadata": {},
   "outputs": [
    {
     "name": "stdout",
     "output_type": "stream",
     "text": [
      "[['\\xea\\xb2\\x80\\xec\\x82\\xac\\xec\\x99\\xb8\\xec\\xa0\\x84', '\\xeb\\xb2\\x94\\xec\\xa3\\x84', '126\\xeb\\xb6\\x84'], ['\\xec\\xbf\\xb5\\xed\\x91\\xb8\\xed\\x8c\\xac\\xeb\\x8d\\x943 (Kung Fu Panda 3, 2016)', '\\xec\\x95\\xa0\\xeb\\x8b\\x88\\xeb\\xa9\\x94\\xec\\x9d\\xb4\\xec\\x85\\x98', '95\\xeb\\xb6\\x84']]\n"
     ]
    }
   ],
   "source": [
    "# csv 파일을 읽어옵니다.\n",
    "data = []\n",
    "with open('sample.csv', 'r') as csvfile:\n",
    "    reader = csv.reader(csvfile, delimiter=',', quotechar='|')\n",
    "    for row in reader:\n",
    "        data.append(row)\n",
    "        \n",
    "print data"
   ]
  },
  {
   "cell_type": "markdown",
   "metadata": {},
   "source": [
    "## 해보기\n",
    "\n",
    "이번에는 delimiter를 세미콜론(';')으로 하고, quotechar는 '/'로 해봅시다. 여러줄을 한 번에 쓸때는 `writer.writerows` 하면 됩니다."
   ]
  },
  {
   "cell_type": "code",
   "execution_count": 40,
   "metadata": {
    "collapsed": true
   },
   "outputs": [],
   "source": [
    "data = [['검;사;외;전', '범죄', '126분'], \\\n",
    "        ['쿵;푸;팬;더;3 (Kung Fu Panda 3, 2016)', \\\n",
    "         '애;니;메;이;션', '95분']]\n",
    "\n",
    "def write_csv(data, filename, delimiter=',', quotechar='\"'):\n",
    "    with open(filename, 'w') as csvfile:\n",
    "        writer = csv.writer(csvfile, \\\n",
    "                            delimiter=delimiter,\\\n",
    "                            quotechar=quotechar)\n",
    "\n",
    "        writer.writerows(data)\n",
    "\n",
    "    return filename"
   ]
  },
  {
   "cell_type": "code",
   "execution_count": 41,
   "metadata": {},
   "outputs": [
    {
     "data": {
      "text/plain": [
       "'movies_sample.csv'"
      ]
     },
     "execution_count": 41,
     "metadata": {},
     "output_type": "execute_result"
    }
   ],
   "source": [
    "write_csv(data,'movies_sample.csv')"
   ]
  },
  {
   "cell_type": "markdown",
   "metadata": {},
   "source": [
    "## 해보기"
   ]
  },
  {
   "cell_type": "code",
   "execution_count": 15,
   "metadata": {},
   "outputs": [],
   "source": [
    "def read_csv(filename, delimiter=',', quotechar='\"'):\n",
    "    data = []\n",
    "\n",
    "    with open(filename, 'r') as csvfile:\n",
    "        reader = csv.reader(csvfile, \\\n",
    "                            delimiter=delimiter,\\\n",
    "                            quotechar=quotechar)\n",
    "\n",
    "        for row in reader:\n",
    "            data.append(row)\n",
    "\n",
    "    return data"
   ]
  },
  {
   "cell_type": "code",
   "execution_count": 16,
   "metadata": {},
   "outputs": [],
   "source": [
    "data = read_csv('movies_sample.csv')"
   ]
  },
  {
   "cell_type": "code",
   "execution_count": 17,
   "metadata": {
    "scrolled": true
   },
   "outputs": [
    {
     "name": "stdout",
     "output_type": "stream",
     "text": [
      "검;사;외;전\n",
      "범죄\n",
      "126분\n",
      "쿵;푸;팬;더;3 (Kung Fu Panda 3, 2016)\n",
      "애;니;메;이;션\n",
      "95분\n"
     ]
    }
   ],
   "source": [
    "for row in data:\n",
    "    for item in row:\n",
    "        print item"
   ]
  },
  {
   "cell_type": "markdown",
   "metadata": {},
   "source": [
    "# 지난주에 배운 movie_total을 csv로 저장해봅시다."
   ]
  },
  {
   "cell_type": "code",
   "execution_count": 42,
   "metadata": {},
   "outputs": [
    {
     "name": "stdout",
     "output_type": "stream",
     "text": [
      "32\n"
     ]
    },
    {
     "data": {
      "text/plain": [
       "'movie_info.csv'"
      ]
     },
     "execution_count": 42,
     "metadata": {},
     "output_type": "execute_result"
    }
   ],
   "source": [
    "#-*- coding: utf-8 -*-\n",
    "\n",
    "import csv\n",
    "from bs4 import BeautifulSoup as bs\n",
    "import requests\n",
    "\n",
    "def movie_crawler(url):\n",
    "    res = requests.get(url)\n",
    "\n",
    "    table = []\n",
    "\n",
    "    if res.status_code == 200:\n",
    "        soup = bs(res.text)\n",
    "\n",
    "        movies = soup.findAll('div', {'itemtype': 'http://schema.org/Movie'})\n",
    "\n",
    "        print len(movies)\n",
    "\n",
    "        for movie in movies:\n",
    "            row = []\n",
    "\n",
    "            title = movie.findAll('h4', {'itemprop': 'name'})\n",
    "            score = movie.select('div.rating_txt > div > strong')\n",
    "            genres = movie.findAll('span', {'itemprop': 'genre'})\n",
    "            running_time = movie.findAll('time', {'itemprop': 'duration'})\n",
    "            actors = movie.findAll('span', {'itemprop': 'actors'})\n",
    "\n",
    "            title =  title[0].text.strip() if len(title)>0 else \"\"\n",
    "            score = score[0].text.strip() if len(score)>0 else \"\"\n",
    "            genre = \"/\".join([genre.text.strip() for genre in genres])\n",
    "            running_time = running_time[0].text.strip() if len(running_time)>0 else \"\"\n",
    "            actor = \"/\".join([actor.text.strip() for actor in actors])\n",
    "\n",
    "            row = [title, score, genre, running_time, actor]\n",
    "            table.append(row)\n",
    "\n",
    "    return table\n",
    "\n",
    "\n",
    "data = movie_crawler('http://www.imdb.com/movies-coming-soon/2015-01')"
   ]
  },
  {
   "cell_type": "code",
   "execution_count": 43,
   "metadata": {},
   "outputs": [
    {
     "name": "stdout",
     "output_type": "stream",
     "text": [
      "http://www.imdb.com/movies-coming-soon/2015-01 crawling..\n",
      "32\n",
      "http://www.imdb.com/movies-coming-soon/2015-02 crawling..\n",
      "23\n",
      "http://www.imdb.com/movies-coming-soon/2015-03 crawling..\n",
      "27\n",
      "http://www.imdb.com/movies-coming-soon/2015-04 crawling..\n",
      "29\n",
      "http://www.imdb.com/movies-coming-soon/2015-05 crawling..\n",
      "39\n",
      "http://www.imdb.com/movies-coming-soon/2015-06 crawling..\n",
      "31\n",
      "http://www.imdb.com/movies-coming-soon/2015-07 crawling..\n",
      "38\n",
      "http://www.imdb.com/movies-coming-soon/2015-08 crawling..\n",
      "32\n",
      "http://www.imdb.com/movies-coming-soon/2015-09 crawling..\n",
      "32\n",
      "http://www.imdb.com/movies-coming-soon/2015-10 crawling..\n",
      "43\n",
      "http://www.imdb.com/movies-coming-soon/2015-11 crawling..\n",
      "30\n",
      "http://www.imdb.com/movies-coming-soon/2015-12 crawling..\n",
      "33\n"
     ]
    }
   ],
   "source": [
    "# 그러면 이제 2015-01부터 2015-12까지 영화정보를 긁어봅시다.\n",
    "target_url = 'http://www.imdb.com/movies-coming-soon/{0}'\n",
    "movie_total = []\n",
    "for i in range(1,13):\n",
    "    # string.zfill(2)을 사용해보세요. zero padding이 생깁니다.\n",
    "    date = \"2015-\" + str(i).zfill(2)\n",
    "    print target_url.format(date) + \" crawling..\"\n",
    "    movie_total += movie_crawler(target_url.format(date))"
   ]
  },
  {
   "cell_type": "code",
   "execution_count": 45,
   "metadata": {
    "collapsed": true
   },
   "outputs": [],
   "source": [
    "def write_csv(data, filename, delimiter=\",\", quotechar='\"'):\n",
    "    with open(filename, 'w') as csvfile:\n",
    "        writer = csv.writer(csvfile, \\\n",
    "                            delimiter=delimiter,\\\n",
    "                            quotechar=quotechar)\n",
    "\n",
    "        writer.writerows([[item.encode('utf-8') for item in row] for row in data])\n",
    "\n",
    "        # [[item.encode('utf-8') for item in row] for row in data]\n",
    "\n",
    "    return filename"
   ]
  },
  {
   "cell_type": "code",
   "execution_count": 44,
   "metadata": {},
   "outputs": [
    {
     "data": {
      "text/plain": [
       "'movie_info.csv'"
      ]
     },
     "execution_count": 44,
     "metadata": {},
     "output_type": "execute_result"
    }
   ],
   "source": [
    "write_csv(movie_total, \"movie_info.csv\")"
   ]
  },
  {
   "cell_type": "code",
   "execution_count": 48,
   "metadata": {
    "collapsed": true
   },
   "outputs": [],
   "source": [
    "# 자, 이제 파이썬 데이터 분석툴 pandas 소개합니다.\n",
    "from pandas import DataFrame"
   ]
  },
  {
   "cell_type": "code",
   "execution_count": 50,
   "metadata": {},
   "outputs": [],
   "source": [
    "movie_df = DataFrame(movie_total, \\\n",
    "                     columns=['title', 'scorr', 'genre', 'running time', 'actors'])"
   ]
  },
  {
   "cell_type": "code",
   "execution_count": 51,
   "metadata": {},
   "outputs": [
    {
     "data": {
      "text/plain": [
       "389"
      ]
     },
     "execution_count": 51,
     "metadata": {},
     "output_type": "execute_result"
    }
   ],
   "source": [
    "len(movie_df)"
   ]
  },
  {
   "cell_type": "code",
   "execution_count": 52,
   "metadata": {},
   "outputs": [],
   "source": [
    "# csv format으로 저장하기 (encoding utf-8)\n",
    "movie_df.to_csv('./movie_from_df.csv', encoding='utf-8', index=False) #, header=False)"
   ]
  },
  {
   "cell_type": "code",
   "execution_count": 53,
   "metadata": {},
   "outputs": [
    {
     "data": {
      "text/html": [
       "<div>\n",
       "<table border=\"1\" class=\"dataframe\">\n",
       "  <thead>\n",
       "    <tr style=\"text-align: right;\">\n",
       "      <th></th>\n",
       "      <th>title</th>\n",
       "      <th>scorr</th>\n",
       "      <th>genre</th>\n",
       "      <th>running time</th>\n",
       "      <th>actors</th>\n",
       "    </tr>\n",
       "  </thead>\n",
       "  <tbody>\n",
       "    <tr>\n",
       "      <th>0</th>\n",
       "      <td>The Woman in Black 2: Angel of Death (2014)</td>\n",
       "      <td>42</td>\n",
       "      <td>Drama/Horror/Thriller</td>\n",
       "      <td>98 min</td>\n",
       "      <td>Helen McCrory/Jeremy Irvine/Phoebe Fox/Leanne ...</td>\n",
       "    </tr>\n",
       "    <tr>\n",
       "      <th>1</th>\n",
       "      <td>A Most Violent Year (2014)</td>\n",
       "      <td>79</td>\n",
       "      <td>Action/Crime/Drama/Thriller</td>\n",
       "      <td>125 min</td>\n",
       "      <td>Oscar Isaac/Jessica Chastain/David Oyelowo/Ale...</td>\n",
       "    </tr>\n",
       "    <tr>\n",
       "      <th>2</th>\n",
       "      <td>Leviafan (2014)</td>\n",
       "      <td>92</td>\n",
       "      <td>Drama</td>\n",
       "      <td>140 min</td>\n",
       "      <td>Aleksey Serebryakov/Elena Lyadova/Roman Madyan...</td>\n",
       "    </tr>\n",
       "    <tr>\n",
       "      <th>3</th>\n",
       "      <td>[REC] 4: Apocalipsis (2014)</td>\n",
       "      <td>53</td>\n",
       "      <td>Action/Horror/Thriller</td>\n",
       "      <td>95 min</td>\n",
       "      <td>Manuela Velasco/Paco Manzanedo/Héctor Colomé/I...</td>\n",
       "    </tr>\n",
       "    <tr>\n",
       "      <th>4</th>\n",
       "      <td>The Search for General Tso (2014)</td>\n",
       "      <td>72</td>\n",
       "      <td>Documentary/Comedy/History/Mystery</td>\n",
       "      <td>71 min</td>\n",
       "      <td>Ian Cheney</td>\n",
       "    </tr>\n",
       "  </tbody>\n",
       "</table>\n",
       "</div>"
      ],
      "text/plain": [
       "                                         title  scorr  \\\n",
       "0  The Woman in Black 2: Angel of Death (2014)     42   \n",
       "1                   A Most Violent Year (2014)     79   \n",
       "2                              Leviafan (2014)     92   \n",
       "3                  [REC] 4: Apocalipsis (2014)     53   \n",
       "4            The Search for General Tso (2014)     72   \n",
       "\n",
       "                                genre running time  \\\n",
       "0               Drama/Horror/Thriller       98 min   \n",
       "1         Action/Crime/Drama/Thriller      125 min   \n",
       "2                               Drama      140 min   \n",
       "3              Action/Horror/Thriller       95 min   \n",
       "4  Documentary/Comedy/History/Mystery       71 min   \n",
       "\n",
       "                                              actors  \n",
       "0  Helen McCrory/Jeremy Irvine/Phoebe Fox/Leanne ...  \n",
       "1  Oscar Isaac/Jessica Chastain/David Oyelowo/Ale...  \n",
       "2  Aleksey Serebryakov/Elena Lyadova/Roman Madyan...  \n",
       "3  Manuela Velasco/Paco Manzanedo/Héctor Colomé/I...  \n",
       "4                                         Ian Cheney  "
      ]
     },
     "execution_count": 53,
     "metadata": {},
     "output_type": "execute_result"
    }
   ],
   "source": [
    "import pandas as pd\n",
    "movie_df = pd.read_csv('./movie_from_df.csv')\n",
    "movie_df.head()"
   ]
  },
  {
   "cell_type": "markdown",
   "metadata": {},
   "source": [
    "# iPython notebook 설치하기\n",
    "\n",
    "[iPython 설치 가이드](./ipython_notebook.pdf)\n",
    "\n",
    "iPython notebook은 현재 보고 있는 이 웹 인터페이스를 지원하고, numpy와 pandas는 파이썬 데이터 분석에 가장 많이 활용되는 패키지입니다. 앞으로 데이터를 다루고 분석하는데 Pandas를 주로 사용하겠지만, Pandas는 numpy 자료구조에 dependency가 있습니다. numpy는 수치 연산에 강력한 ndarray 자료구조와 각종 메소드들을 지원합니다."
   ]
  },
  {
   "cell_type": "markdown",
   "metadata": {},
   "source": [
    "# Pandas.DataFrame > Pandas.Series > numpy.ndarray\n",
    "\n",
    "1. Pandas.DataFrame은 2차원 Data type. '테이블'을 생각하시면 편합니다.\n",
    "2. Pandas.Series는 index가 있는 1차원 Data type. 테이블에서 '하나의 column' 혹은 '하나의 row'를 생각하시면 편합니다.\n",
    "3. numpy.ndarray는 파이썬 기본 자료구조인 list보다 훨씬 파워풀한 1차원 Array."
   ]
  },
  {
   "cell_type": "code",
   "execution_count": 25,
   "metadata": {
    "collapsed": true
   },
   "outputs": [],
   "source": [
    "# 일단은 Numpy, Series, DataFrame 관계부터 배워봅시다.\n",
    "import pandas\n",
    "import numpy"
   ]
  },
  {
   "cell_type": "code",
   "execution_count": 35,
   "metadata": {},
   "outputs": [
    {
     "data": {
      "text/html": [
       "<div>\n",
       "<table border=\"1\" class=\"dataframe\">\n",
       "  <thead>\n",
       "    <tr style=\"text-align: right;\">\n",
       "      <th></th>\n",
       "      <th>a</th>\n",
       "      <th>b</th>\n",
       "      <th>c</th>\n",
       "    </tr>\n",
       "  </thead>\n",
       "  <tbody>\n",
       "    <tr>\n",
       "      <th>0</th>\n",
       "      <td>1</td>\n",
       "      <td>2</td>\n",
       "      <td>3</td>\n",
       "    </tr>\n",
       "    <tr>\n",
       "      <th>1</th>\n",
       "      <td>3</td>\n",
       "      <td>4</td>\n",
       "      <td>5</td>\n",
       "    </tr>\n",
       "  </tbody>\n",
       "</table>\n",
       "</div>"
      ],
      "text/plain": [
       "   a  b  c\n",
       "0  1  2  3\n",
       "1  3  4  5"
      ]
     },
     "execution_count": 35,
     "metadata": {},
     "output_type": "execute_result"
    }
   ],
   "source": [
    "# Pandas DataFrame 입니다.\n",
    "pd_df = pandas.DataFrame([[1,2,3],[3,4,5]], columns=['a','b','c'])\n",
    "pd_df"
   ]
  },
  {
   "cell_type": "code",
   "execution_count": 158,
   "metadata": {},
   "outputs": [
    {
     "data": {
      "text/plain": [
       "0    1\n",
       "1    2\n",
       "2    3\n",
       "dtype: int64"
      ]
     },
     "execution_count": 158,
     "metadata": {},
     "output_type": "execute_result"
    }
   ],
   "source": [
    "# Pandas Series 입니다.\n",
    "pd_sr = pandas.Series([1,2,3])\n",
    "pd_sr"
   ]
  },
  {
   "cell_type": "code",
   "execution_count": 159,
   "metadata": {},
   "outputs": [
    {
     "data": {
      "text/plain": [
       "array(['1', '2', '3'], \n",
       "      dtype='|S21')"
      ]
     },
     "execution_count": 159,
     "metadata": {},
     "output_type": "execute_result"
    }
   ],
   "source": [
    "# Numpy array 입니다. \n",
    "# 중요: numpy.array 메소드로 numpy.ndarray 객체를 생성합니다.\n",
    "np_ar = numpy.array([1,2,'3'])\n",
    "np_ar"
   ]
  },
  {
   "cell_type": "code",
   "execution_count": 155,
   "metadata": {},
   "outputs": [
    {
     "data": {
      "text/plain": [
       "array([1, 2, 3])"
      ]
     },
     "execution_count": 155,
     "metadata": {},
     "output_type": "execute_result"
    }
   ],
   "source": [
    "# Series의 value 값이 Numpy array와 같네요.\n",
    "pd_sr.values"
   ]
  },
  {
   "cell_type": "code",
   "execution_count": 157,
   "metadata": {},
   "outputs": [
    {
     "data": {
      "text/plain": [
       "[1, 2, 3, '2']"
      ]
     },
     "execution_count": 157,
     "metadata": {},
     "output_type": "execute_result"
    }
   ],
   "source": [
    "str_list = [1,2,3,'2']\n",
    "str_list"
   ]
  },
  {
   "cell_type": "code",
   "execution_count": 40,
   "metadata": {},
   "outputs": [
    {
     "data": {
      "text/plain": [
       "a    1\n",
       "b    2\n",
       "c    3\n",
       "Name: 0, dtype: int64"
      ]
     },
     "execution_count": 40,
     "metadata": {},
     "output_type": "execute_result"
    }
   ],
   "source": [
    "# DataFrame 첫번째 row는 Series와 같네요.\n",
    "pd_df.ix[0]"
   ]
  },
  {
   "cell_type": "code",
   "execution_count": 41,
   "metadata": {},
   "outputs": [
    {
     "data": {
      "text/plain": [
       "0    1\n",
       "1    3\n",
       "Name: a, dtype: int64"
      ]
     },
     "execution_count": 41,
     "metadata": {},
     "output_type": "execute_result"
    }
   ],
   "source": [
    "# DataFrame column도 Series입니다.\n",
    "pd_df['a']"
   ]
  },
  {
   "cell_type": "code",
   "execution_count": 32,
   "metadata": {},
   "outputs": [
    {
     "data": {
      "text/plain": [
       "array([1, 2, 3])"
      ]
     },
     "execution_count": 32,
     "metadata": {},
     "output_type": "execute_result"
    }
   ],
   "source": [
    "# 그 value 값들이 Numpy array와 같네요.\n",
    "pd_df.ix[0].values"
   ]
  },
  {
   "cell_type": "markdown",
   "metadata": {},
   "source": [
    "# Pandas DataFrame Basic"
   ]
  },
  {
   "cell_type": "code",
   "execution_count": 160,
   "metadata": {
    "collapsed": true
   },
   "outputs": [],
   "source": [
    "import numpy as np\n",
    "import pandas as pd\n",
    "from pandas import Series, DataFrame"
   ]
  },
  {
   "cell_type": "code",
   "execution_count": 179,
   "metadata": {
    "collapsed": true
   },
   "outputs": [],
   "source": [
    "data = {\n",
    "    'name': ['똘기', '떵이', '호치', '새촘'],\n",
    "    'chinese zodiac': ['Rat', 'Pig', 'Tiger', 'Rabbit'],\n",
    "    'year': [1984,1985,1986,1987]\n",
    "}\n",
    "\n",
    "data = [\n",
    "    ['a','b'],\n",
    "    ['a','b']\n",
    "]"
   ]
  },
  {
   "cell_type": "code",
   "execution_count": 180,
   "metadata": {},
   "outputs": [
    {
     "data": {
      "text/html": [
       "<div>\n",
       "<table border=\"1\" class=\"dataframe\">\n",
       "  <thead>\n",
       "    <tr style=\"text-align: right;\">\n",
       "      <th></th>\n",
       "      <th>chinese zodiac</th>\n",
       "      <th>name</th>\n",
       "      <th>year</th>\n",
       "    </tr>\n",
       "  </thead>\n",
       "  <tbody>\n",
       "    <tr>\n",
       "      <th>0</th>\n",
       "      <td>Rat</td>\n",
       "      <td>똘기</td>\n",
       "      <td>1984</td>\n",
       "    </tr>\n",
       "    <tr>\n",
       "      <th>1</th>\n",
       "      <td>Pig</td>\n",
       "      <td>떵이</td>\n",
       "      <td>1985</td>\n",
       "    </tr>\n",
       "    <tr>\n",
       "      <th>2</th>\n",
       "      <td>Tiger</td>\n",
       "      <td>호치</td>\n",
       "      <td>1986</td>\n",
       "    </tr>\n",
       "    <tr>\n",
       "      <th>3</th>\n",
       "      <td>Rabbit</td>\n",
       "      <td>새촘</td>\n",
       "      <td>1987</td>\n",
       "    </tr>\n",
       "  </tbody>\n",
       "</table>\n",
       "</div>"
      ],
      "text/plain": [
       "  chinese zodiac name  year\n",
       "0            Rat   똘기  1984\n",
       "1            Pig   떵이  1985\n",
       "2          Tiger   호치  1986\n",
       "3         Rabbit   새촘  1987"
      ]
     },
     "execution_count": 180,
     "metadata": {},
     "output_type": "execute_result"
    }
   ],
   "source": [
    "# DataFrame은 Pandas에 구현되어 있는 기본 자료구조로, \n",
    "# 2차원(row, column) 데이터를 표현할 수 있습니다.\n",
    "\n",
    "# key가 column명, value 하나 하나가 row에 들어갑니다.\n",
    "data = {\n",
    "    'name': ['똘기', '떵이', '호치', '새촘'],\n",
    "    'chinese zodiac': ['Rat', 'Pig', 'Tiger', 'Rabbit'],\n",
    "    'year': [1984,1985,1986,1987]\n",
    "}\n",
    "\n",
    "df = DataFrame(data)\n",
    "df"
   ]
  },
  {
   "cell_type": "code",
   "execution_count": 181,
   "metadata": {},
   "outputs": [
    {
     "data": {
      "text/html": [
       "<div>\n",
       "<table border=\"1\" class=\"dataframe\">\n",
       "  <thead>\n",
       "    <tr style=\"text-align: right;\">\n",
       "      <th></th>\n",
       "      <th>name</th>\n",
       "      <th>year</th>\n",
       "      <th>chinese zodiac</th>\n",
       "    </tr>\n",
       "  </thead>\n",
       "  <tbody>\n",
       "    <tr>\n",
       "      <th>0</th>\n",
       "      <td>똘기</td>\n",
       "      <td>1984</td>\n",
       "      <td>Rat</td>\n",
       "    </tr>\n",
       "    <tr>\n",
       "      <th>1</th>\n",
       "      <td>떵이</td>\n",
       "      <td>1985</td>\n",
       "      <td>Pig</td>\n",
       "    </tr>\n",
       "    <tr>\n",
       "      <th>2</th>\n",
       "      <td>호치</td>\n",
       "      <td>1986</td>\n",
       "      <td>Tiger</td>\n",
       "    </tr>\n",
       "    <tr>\n",
       "      <th>3</th>\n",
       "      <td>새촘</td>\n",
       "      <td>1987</td>\n",
       "      <td>Rabbit</td>\n",
       "    </tr>\n",
       "  </tbody>\n",
       "</table>\n",
       "</div>"
      ],
      "text/plain": [
       "  name  year chinese zodiac\n",
       "0   똘기  1984            Rat\n",
       "1   떵이  1985            Pig\n",
       "2   호치  1986          Tiger\n",
       "3   새촘  1987         Rabbit"
      ]
     },
     "execution_count": 181,
     "metadata": {},
     "output_type": "execute_result"
    }
   ],
   "source": [
    "# column 순서 바꾸기\n",
    "df = DataFrame(data, columns=['name', 'year', 'chinese zodiac'])\n",
    "df"
   ]
  },
  {
   "cell_type": "code",
   "execution_count": 182,
   "metadata": {},
   "outputs": [],
   "source": [
    "# column 추가하기\n",
    "df['한국 띠'] = ['쥐띠','돼지띠','호랑이띠','토끼띠']"
   ]
  },
  {
   "cell_type": "code",
   "execution_count": 183,
   "metadata": {},
   "outputs": [
    {
     "data": {
      "text/html": [
       "<div>\n",
       "<table border=\"1\" class=\"dataframe\">\n",
       "  <thead>\n",
       "    <tr style=\"text-align: right;\">\n",
       "      <th></th>\n",
       "      <th>name</th>\n",
       "      <th>year</th>\n",
       "      <th>chinese zodiac</th>\n",
       "      <th>한국 띠</th>\n",
       "    </tr>\n",
       "  </thead>\n",
       "  <tbody>\n",
       "    <tr>\n",
       "      <th>0</th>\n",
       "      <td>똘기</td>\n",
       "      <td>1984</td>\n",
       "      <td>Rat</td>\n",
       "      <td>쥐띠</td>\n",
       "    </tr>\n",
       "    <tr>\n",
       "      <th>1</th>\n",
       "      <td>떵이</td>\n",
       "      <td>1985</td>\n",
       "      <td>Pig</td>\n",
       "      <td>돼지띠</td>\n",
       "    </tr>\n",
       "    <tr>\n",
       "      <th>2</th>\n",
       "      <td>호치</td>\n",
       "      <td>1986</td>\n",
       "      <td>Tiger</td>\n",
       "      <td>호랑이띠</td>\n",
       "    </tr>\n",
       "    <tr>\n",
       "      <th>3</th>\n",
       "      <td>새촘</td>\n",
       "      <td>1987</td>\n",
       "      <td>Rabbit</td>\n",
       "      <td>토끼띠</td>\n",
       "    </tr>\n",
       "  </tbody>\n",
       "</table>\n",
       "</div>"
      ],
      "text/plain": [
       "  name  year chinese zodiac  한국 띠\n",
       "0   똘기  1984            Rat    쥐띠\n",
       "1   떵이  1985            Pig   돼지띠\n",
       "2   호치  1986          Tiger  호랑이띠\n",
       "3   새촘  1987         Rabbit   토끼띠"
      ]
     },
     "execution_count": 183,
     "metadata": {},
     "output_type": "execute_result"
    }
   ],
   "source": [
    "df"
   ]
  },
  {
   "cell_type": "code",
   "execution_count": 184,
   "metadata": {},
   "outputs": [
    {
     "data": {
      "text/plain": [
       "3"
      ]
     },
     "execution_count": 184,
     "metadata": {},
     "output_type": "execute_result"
    }
   ],
   "source": [
    "len([1,2,3])"
   ]
  },
  {
   "cell_type": "code",
   "execution_count": 185,
   "metadata": {},
   "outputs": [
    {
     "data": {
      "text/plain": [
       "4"
      ]
     },
     "execution_count": 185,
     "metadata": {},
     "output_type": "execute_result"
    }
   ],
   "source": [
    "len(df)"
   ]
  },
  {
   "cell_type": "code",
   "execution_count": 187,
   "metadata": {},
   "outputs": [],
   "source": [
    "# row 추가하기\n",
    "df.loc[10] = ['드라곤', 1988, 'Dragon', '용띠']"
   ]
  },
  {
   "cell_type": "code",
   "execution_count": 188,
   "metadata": {},
   "outputs": [
    {
     "data": {
      "text/html": [
       "<div>\n",
       "<table border=\"1\" class=\"dataframe\">\n",
       "  <thead>\n",
       "    <tr style=\"text-align: right;\">\n",
       "      <th></th>\n",
       "      <th>name</th>\n",
       "      <th>year</th>\n",
       "      <th>chinese zodiac</th>\n",
       "      <th>한국 띠</th>\n",
       "    </tr>\n",
       "  </thead>\n",
       "  <tbody>\n",
       "    <tr>\n",
       "      <th>0</th>\n",
       "      <td>똘기</td>\n",
       "      <td>1984</td>\n",
       "      <td>Rat</td>\n",
       "      <td>쥐띠</td>\n",
       "    </tr>\n",
       "    <tr>\n",
       "      <th>1</th>\n",
       "      <td>떵이</td>\n",
       "      <td>1985</td>\n",
       "      <td>Pig</td>\n",
       "      <td>돼지띠</td>\n",
       "    </tr>\n",
       "    <tr>\n",
       "      <th>2</th>\n",
       "      <td>호치</td>\n",
       "      <td>1986</td>\n",
       "      <td>Tiger</td>\n",
       "      <td>호랑이띠</td>\n",
       "    </tr>\n",
       "    <tr>\n",
       "      <th>3</th>\n",
       "      <td>새촘</td>\n",
       "      <td>1987</td>\n",
       "      <td>Rabbit</td>\n",
       "      <td>토끼띠</td>\n",
       "    </tr>\n",
       "    <tr>\n",
       "      <th>4</th>\n",
       "      <td>드라곤</td>\n",
       "      <td>1988</td>\n",
       "      <td>Dragon</td>\n",
       "      <td>용띠</td>\n",
       "    </tr>\n",
       "    <tr>\n",
       "      <th>10</th>\n",
       "      <td>드라곤</td>\n",
       "      <td>1988</td>\n",
       "      <td>Dragon</td>\n",
       "      <td>용띠</td>\n",
       "    </tr>\n",
       "  </tbody>\n",
       "</table>\n",
       "</div>"
      ],
      "text/plain": [
       "   name  year chinese zodiac  한국 띠\n",
       "0    똘기  1984            Rat    쥐띠\n",
       "1    떵이  1985            Pig   돼지띠\n",
       "2    호치  1986          Tiger  호랑이띠\n",
       "3    새촘  1987         Rabbit   토끼띠\n",
       "4   드라곤  1988         Dragon    용띠\n",
       "10  드라곤  1988         Dragon    용띠"
      ]
     },
     "execution_count": 188,
     "metadata": {},
     "output_type": "execute_result"
    }
   ],
   "source": [
    "df"
   ]
  },
  {
   "cell_type": "code",
   "execution_count": 173,
   "metadata": {},
   "outputs": [
    {
     "data": {
      "text/html": [
       "<div>\n",
       "<table border=\"1\" class=\"dataframe\">\n",
       "  <thead>\n",
       "    <tr style=\"text-align: right;\">\n",
       "      <th></th>\n",
       "      <th>name</th>\n",
       "      <th>year</th>\n",
       "      <th>chinese zodiac</th>\n",
       "    </tr>\n",
       "  </thead>\n",
       "  <tbody>\n",
       "    <tr>\n",
       "      <th>a</th>\n",
       "      <td>똘기</td>\n",
       "      <td>1984</td>\n",
       "      <td>Rat</td>\n",
       "    </tr>\n",
       "    <tr>\n",
       "      <th>2</th>\n",
       "      <td>떵이</td>\n",
       "      <td>1985</td>\n",
       "      <td>Pig</td>\n",
       "    </tr>\n",
       "    <tr>\n",
       "      <th>3</th>\n",
       "      <td>호치</td>\n",
       "      <td>1986</td>\n",
       "      <td>Tiger</td>\n",
       "    </tr>\n",
       "    <tr>\n",
       "      <th>4</th>\n",
       "      <td>새촘</td>\n",
       "      <td>1987</td>\n",
       "      <td>Rabbit</td>\n",
       "    </tr>\n",
       "  </tbody>\n",
       "</table>\n",
       "</div>"
      ],
      "text/plain": [
       "  name  year chinese zodiac\n",
       "a   똘기  1984            Rat\n",
       "2   떵이  1985            Pig\n",
       "3   호치  1986          Tiger\n",
       "4   새촘  1987         Rabbit"
      ]
     },
     "execution_count": 173,
     "metadata": {},
     "output_type": "execute_result"
    }
   ],
   "source": [
    "# index(row 명)도 따로 정해줄 수 있습니다.\n",
    "df = DataFrame(data, \\\n",
    "               columns=['name', 'year', 'chinese zodiac'], \\\n",
    "               index=['a',2,3,4])\n",
    "df"
   ]
  },
  {
   "cell_type": "code",
   "execution_count": 189,
   "metadata": {},
   "outputs": [
    {
     "data": {
      "text/plain": [
       "0      똘기\n",
       "1      떵이\n",
       "2      호치\n",
       "3      새촘\n",
       "4     드라곤\n",
       "10    드라곤\n",
       "Name: name, dtype: object"
      ]
     },
     "execution_count": 189,
     "metadata": {},
     "output_type": "execute_result"
    }
   ],
   "source": [
    "# df.ix['a']\n",
    "df['name']"
   ]
  },
  {
   "cell_type": "code",
   "execution_count": 116,
   "metadata": {},
   "outputs": [
    {
     "data": {
      "text/html": [
       "<div>\n",
       "<table border=\"1\" class=\"dataframe\">\n",
       "  <thead>\n",
       "    <tr style=\"text-align: right;\">\n",
       "      <th></th>\n",
       "      <th>이름</th>\n",
       "      <th>년도</th>\n",
       "      <th>띠</th>\n",
       "    </tr>\n",
       "  </thead>\n",
       "  <tbody>\n",
       "    <tr>\n",
       "      <th>1</th>\n",
       "      <td>똘기</td>\n",
       "      <td>1984</td>\n",
       "      <td>Rat</td>\n",
       "    </tr>\n",
       "    <tr>\n",
       "      <th>2</th>\n",
       "      <td>떵이</td>\n",
       "      <td>1985</td>\n",
       "      <td>Pig</td>\n",
       "    </tr>\n",
       "    <tr>\n",
       "      <th>3</th>\n",
       "      <td>호치</td>\n",
       "      <td>1986</td>\n",
       "      <td>Tiger</td>\n",
       "    </tr>\n",
       "    <tr>\n",
       "      <th>4</th>\n",
       "      <td>새촘</td>\n",
       "      <td>1987</td>\n",
       "      <td>Rabbit</td>\n",
       "    </tr>\n",
       "  </tbody>\n",
       "</table>\n",
       "</div>"
      ],
      "text/plain": [
       "   이름    년도       띠\n",
       "1  똘기  1984     Rat\n",
       "2  떵이  1985     Pig\n",
       "3  호치  1986   Tiger\n",
       "4  새촘  1987  Rabbit"
      ]
     },
     "execution_count": 116,
     "metadata": {},
     "output_type": "execute_result"
    }
   ],
   "source": [
    "# column명을 바꾸기 위해서는 \n",
    "df.columns = ['이름', '년도', '띠']\n",
    "df"
   ]
  },
  {
   "cell_type": "code",
   "execution_count": 117,
   "metadata": {},
   "outputs": [
    {
     "data": {
      "text/plain": [
       "1    똘기\n",
       "2    떵이\n",
       "3    호치\n",
       "4    새촘\n",
       "Name: 이름, dtype: object"
      ]
     },
     "execution_count": 117,
     "metadata": {},
     "output_type": "execute_result"
    }
   ],
   "source": [
    "# column을 선택하려면 아래와 같이 합니다.\n",
    "df['이름']"
   ]
  },
  {
   "cell_type": "code",
   "execution_count": 119,
   "metadata": {},
   "outputs": [
    {
     "data": {
      "text/html": [
       "<div>\n",
       "<table border=\"1\" class=\"dataframe\">\n",
       "  <thead>\n",
       "    <tr style=\"text-align: right;\">\n",
       "      <th></th>\n",
       "      <th>이름</th>\n",
       "      <th>년도</th>\n",
       "    </tr>\n",
       "  </thead>\n",
       "  <tbody>\n",
       "    <tr>\n",
       "      <th>1</th>\n",
       "      <td>똘기</td>\n",
       "      <td>1984</td>\n",
       "    </tr>\n",
       "    <tr>\n",
       "      <th>2</th>\n",
       "      <td>떵이</td>\n",
       "      <td>1985</td>\n",
       "    </tr>\n",
       "    <tr>\n",
       "      <th>3</th>\n",
       "      <td>호치</td>\n",
       "      <td>1986</td>\n",
       "    </tr>\n",
       "    <tr>\n",
       "      <th>4</th>\n",
       "      <td>새촘</td>\n",
       "      <td>1987</td>\n",
       "    </tr>\n",
       "  </tbody>\n",
       "</table>\n",
       "</div>"
      ],
      "text/plain": [
       "   이름    년도\n",
       "1  똘기  1984\n",
       "2  떵이  1985\n",
       "3  호치  1986\n",
       "4  새촘  1987"
      ]
     },
     "execution_count": 119,
     "metadata": {},
     "output_type": "execute_result"
    }
   ],
   "source": [
    "## 여러개의 column은 이렇게 선택합니다.\n",
    "df[['이름','년도']]"
   ]
  },
  {
   "cell_type": "code",
   "execution_count": 53,
   "metadata": {},
   "outputs": [
    {
     "data": {
      "text/plain": [
       "pandas.core.series.Series"
      ]
     },
     "execution_count": 53,
     "metadata": {},
     "output_type": "execute_result"
    }
   ],
   "source": [
    "# Series type 입니다. Series의 정체는 뭘까요?\n",
    "type(df['이름'])"
   ]
  },
  {
   "cell_type": "code",
   "execution_count": 54,
   "metadata": {},
   "outputs": [
    {
     "data": {
      "text/plain": [
       "이름      똘기\n",
       "년도    1984\n",
       "띠      Rat\n",
       "Name: 1, dtype: object"
      ]
     },
     "execution_count": 54,
     "metadata": {},
     "output_type": "execute_result"
    }
   ],
   "source": [
    "# row를 선택하려면 ix 메소드를 통해서 고릅니다. \n",
    "# 주의: df.ix[0]은 0이 index로 지정되어있지 않기 때문에 에러가 납니다! \n",
    "df.ix[1]"
   ]
  },
  {
   "cell_type": "code",
   "execution_count": 55,
   "metadata": {},
   "outputs": [
    {
     "data": {
      "text/plain": [
       "pandas.core.series.Series"
      ]
     },
     "execution_count": 55,
     "metadata": {},
     "output_type": "execute_result"
    }
   ],
   "source": [
    "# 이 녀석도 Series type 입니다.\n",
    "type(df.ix[1])"
   ]
  },
  {
   "cell_type": "code",
   "execution_count": 56,
   "metadata": {},
   "outputs": [
    {
     "data": {
      "text/plain": [
       "Index([u'이름', u'년도', u'띠'], dtype='object')"
      ]
     },
     "execution_count": 56,
     "metadata": {},
     "output_type": "execute_result"
    }
   ],
   "source": [
    "# column을 확인합니다.\n",
    "df.columns"
   ]
  },
  {
   "cell_type": "code",
   "execution_count": 57,
   "metadata": {},
   "outputs": [
    {
     "data": {
      "text/plain": [
       "Int64Index([1, 2, 3, 4], dtype='int64')"
      ]
     },
     "execution_count": 57,
     "metadata": {},
     "output_type": "execute_result"
    }
   ],
   "source": [
    "# index를 확인합니다. data type이 integer네요.\n",
    "df.index"
   ]
  },
  {
   "cell_type": "code",
   "execution_count": 58,
   "metadata": {},
   "outputs": [
    {
     "data": {
      "text/plain": [
       "dtype('int64')"
      ]
     },
     "execution_count": 58,
     "metadata": {},
     "output_type": "execute_result"
    }
   ],
   "source": [
    "df.index.dtype"
   ]
  },
  {
   "cell_type": "code",
   "execution_count": 59,
   "metadata": {},
   "outputs": [
    {
     "data": {
      "text/plain": [
       "numpy.dtype"
      ]
     },
     "execution_count": 59,
     "metadata": {},
     "output_type": "execute_result"
    }
   ],
   "source": [
    "type(df.index.dtype)"
   ]
  },
  {
   "cell_type": "code",
   "execution_count": 194,
   "metadata": {},
   "outputs": [],
   "source": [
    "# 컬럼명 지정해서 바꾸려면 rename을 합니다.\n",
    "df.rename(columns = {'name': '이름'}, index = {1:'12-1'}, inplace=True)"
   ]
  },
  {
   "cell_type": "code",
   "execution_count": 195,
   "metadata": {},
   "outputs": [
    {
     "data": {
      "text/html": [
       "<div>\n",
       "<table border=\"1\" class=\"dataframe\">\n",
       "  <thead>\n",
       "    <tr style=\"text-align: right;\">\n",
       "      <th></th>\n",
       "      <th>이름</th>\n",
       "      <th>year</th>\n",
       "      <th>chinese zodiac</th>\n",
       "      <th>한국 띠</th>\n",
       "    </tr>\n",
       "  </thead>\n",
       "  <tbody>\n",
       "    <tr>\n",
       "      <th>0</th>\n",
       "      <td>똘기</td>\n",
       "      <td>1984</td>\n",
       "      <td>Rat</td>\n",
       "      <td>쥐띠</td>\n",
       "    </tr>\n",
       "    <tr>\n",
       "      <th>12-1</th>\n",
       "      <td>떵이</td>\n",
       "      <td>1985</td>\n",
       "      <td>Pig</td>\n",
       "      <td>돼지띠</td>\n",
       "    </tr>\n",
       "    <tr>\n",
       "      <th>2</th>\n",
       "      <td>호치</td>\n",
       "      <td>1986</td>\n",
       "      <td>Tiger</td>\n",
       "      <td>호랑이띠</td>\n",
       "    </tr>\n",
       "    <tr>\n",
       "      <th>3</th>\n",
       "      <td>새촘</td>\n",
       "      <td>1987</td>\n",
       "      <td>Rabbit</td>\n",
       "      <td>토끼띠</td>\n",
       "    </tr>\n",
       "    <tr>\n",
       "      <th>4</th>\n",
       "      <td>드라곤</td>\n",
       "      <td>1988</td>\n",
       "      <td>Dragon</td>\n",
       "      <td>용띠</td>\n",
       "    </tr>\n",
       "    <tr>\n",
       "      <th>10</th>\n",
       "      <td>드라곤</td>\n",
       "      <td>1988</td>\n",
       "      <td>Dragon</td>\n",
       "      <td>용띠</td>\n",
       "    </tr>\n",
       "  </tbody>\n",
       "</table>\n",
       "</div>"
      ],
      "text/plain": [
       "       이름  year chinese zodiac  한국 띠\n",
       "0      똘기  1984            Rat    쥐띠\n",
       "12-1   떵이  1985            Pig   돼지띠\n",
       "2      호치  1986          Tiger  호랑이띠\n",
       "3      새촘  1987         Rabbit   토끼띠\n",
       "4     드라곤  1988         Dragon    용띠\n",
       "10    드라곤  1988         Dragon    용띠"
      ]
     },
     "execution_count": 195,
     "metadata": {},
     "output_type": "execute_result"
    }
   ],
   "source": [
    "# 실제로는 바뀌지 않았습니다. 바꿔주려면 inplace=True 옵션을 줍니다.\n",
    "df"
   ]
  },
  {
   "cell_type": "code",
   "execution_count": 62,
   "metadata": {},
   "outputs": [
    {
     "data": {
      "text/plain": [
       "Int64Index([1, 2, 3, 4], dtype='int64')"
      ]
     },
     "execution_count": 62,
     "metadata": {},
     "output_type": "execute_result"
    }
   ],
   "source": [
    "# index도 아직 integer 타입이죠?\n",
    "df.index"
   ]
  },
  {
   "cell_type": "code",
   "execution_count": 63,
   "metadata": {},
   "outputs": [],
   "source": [
    "# 컬럼명 지정해서 바꾸려면 rename을 합니다.\n",
    "df.rename(columns = {'년도': '출생년도'}, index = {1:'12-1'}, inplace=True)"
   ]
  },
  {
   "cell_type": "code",
   "execution_count": 64,
   "metadata": {
    "scrolled": true
   },
   "outputs": [
    {
     "data": {
      "text/html": [
       "<div>\n",
       "<table border=\"1\" class=\"dataframe\">\n",
       "  <thead>\n",
       "    <tr style=\"text-align: right;\">\n",
       "      <th></th>\n",
       "      <th>이름</th>\n",
       "      <th>출생년도</th>\n",
       "      <th>띠</th>\n",
       "    </tr>\n",
       "  </thead>\n",
       "  <tbody>\n",
       "    <tr>\n",
       "      <th>12-1</th>\n",
       "      <td>똘기</td>\n",
       "      <td>1984</td>\n",
       "      <td>Rat</td>\n",
       "    </tr>\n",
       "    <tr>\n",
       "      <th>2</th>\n",
       "      <td>떵이</td>\n",
       "      <td>1985</td>\n",
       "      <td>Pig</td>\n",
       "    </tr>\n",
       "    <tr>\n",
       "      <th>3</th>\n",
       "      <td>호치</td>\n",
       "      <td>1986</td>\n",
       "      <td>Tiger</td>\n",
       "    </tr>\n",
       "    <tr>\n",
       "      <th>4</th>\n",
       "      <td>새촘</td>\n",
       "      <td>1987</td>\n",
       "      <td>Rabbit</td>\n",
       "    </tr>\n",
       "  </tbody>\n",
       "</table>\n",
       "</div>"
      ],
      "text/plain": [
       "      이름  출생년도       띠\n",
       "12-1  똘기  1984     Rat\n",
       "2     떵이  1985     Pig\n",
       "3     호치  1986   Tiger\n",
       "4     새촘  1987  Rabbit"
      ]
     },
     "execution_count": 64,
     "metadata": {},
     "output_type": "execute_result"
    }
   ],
   "source": [
    "df"
   ]
  },
  {
   "cell_type": "code",
   "execution_count": 65,
   "metadata": {},
   "outputs": [
    {
     "data": {
      "text/plain": [
       "Index([u'12-1', 2, 3, 4], dtype='object')"
      ]
     },
     "execution_count": 65,
     "metadata": {},
     "output_type": "execute_result"
    }
   ],
   "source": [
    "# type이 int64에서 object로 바뀌었네요\n",
    "df.index"
   ]
  },
  {
   "cell_type": "code",
   "execution_count": 66,
   "metadata": {},
   "outputs": [
    {
     "data": {
      "text/plain": [
       "dtype('O')"
      ]
     },
     "execution_count": 66,
     "metadata": {},
     "output_type": "execute_result"
    }
   ],
   "source": [
    "df.index.dtype"
   ]
  },
  {
   "cell_type": "code",
   "execution_count": 67,
   "metadata": {},
   "outputs": [
    {
     "data": {
      "text/plain": [
       "이름        똘기\n",
       "출생년도    1984\n",
       "띠        Rat\n",
       "Name: 12-1, dtype: object"
      ]
     },
     "execution_count": 67,
     "metadata": {},
     "output_type": "execute_result"
    }
   ],
   "source": [
    "# row를 선택하려면 ix 메소드를 통해서 고릅니다. \n",
    "df.ix['12-1']"
   ]
  },
  {
   "cell_type": "code",
   "execution_count": 196,
   "metadata": {},
   "outputs": [
    {
     "data": {
      "text/plain": [
       "이름                  똘기\n",
       "year              1984\n",
       "chinese zodiac     Rat\n",
       "한국 띠                쥐띠\n",
       "Name: 0, dtype: object"
      ]
     },
     "execution_count": 196,
     "metadata": {},
     "output_type": "execute_result"
    }
   ],
   "source": [
    "# index의 type이 object로 바뀌니 index 0에 접근이 가능하네요!\n",
    "df.ix[0]"
   ]
  },
  {
   "cell_type": "markdown",
   "metadata": {},
   "source": [
    "## 해보기\n"
   ]
  },
  {
   "cell_type": "code",
   "execution_count": 214,
   "metadata": {
    "collapsed": true
   },
   "outputs": [],
   "source": [
    "data = [\n",
    "    ['영화 제목1', 120, '영화 감독1'],\n",
    "    ['영화 제목2', 150, '영화 감독2'],\n",
    "    ['영화 제목3', 180, '영화 감독3']\n",
    "]\n",
    "\n",
    "# 1. DataFrame에 넣고 column에 [제목, 상영 시간, 감독]이라고 지정해보세요.\n",
    "# 2. 컬럼 순서 감독->상영 시간->제목으로 바꿔보세요.\n",
    "# 3. index도 0,1,2가 아니라 1,2,3으로 지정해보세요.\n",
    "\n",
    "# df = DataFrame(...)\n",
    "# df"
   ]
  },
  {
   "cell_type": "code",
   "execution_count": 235,
   "metadata": {},
   "outputs": [
    {
     "data": {
      "text/html": [
       "<div>\n",
       "<table border=\"1\" class=\"dataframe\">\n",
       "  <thead>\n",
       "    <tr style=\"text-align: right;\">\n",
       "      <th></th>\n",
       "      <th>제목</th>\n",
       "      <th>상영 시간</th>\n",
       "      <th>감독</th>\n",
       "    </tr>\n",
       "  </thead>\n",
       "  <tbody>\n",
       "    <tr>\n",
       "      <th>1</th>\n",
       "      <td>영화 제목1</td>\n",
       "      <td>120</td>\n",
       "      <td>영화 감독1</td>\n",
       "    </tr>\n",
       "    <tr>\n",
       "      <th>2</th>\n",
       "      <td>영화 제목2</td>\n",
       "      <td>150</td>\n",
       "      <td>영화 감독2</td>\n",
       "    </tr>\n",
       "    <tr>\n",
       "      <th>3</th>\n",
       "      <td>영화 제목3</td>\n",
       "      <td>180</td>\n",
       "      <td>영화 감독3</td>\n",
       "    </tr>\n",
       "  </tbody>\n",
       "</table>\n",
       "</div>"
      ],
      "text/plain": [
       "       제목  상영 시간      감독\n",
       "1  영화 제목1    120  영화 감독1\n",
       "2  영화 제목2    150  영화 감독2\n",
       "3  영화 제목3    180  영화 감독3"
      ]
     },
     "execution_count": 235,
     "metadata": {},
     "output_type": "execute_result"
    }
   ],
   "source": [
    "df1 = DataFrame(data, columns=['제목', '상영 시간', '감독'], index=[1,2,3])\n",
    "df1"
   ]
  },
  {
   "cell_type": "code",
   "execution_count": 232,
   "metadata": {},
   "outputs": [],
   "source": [
    "df2 = df1[['감독', '상영 시간', '제목']]"
   ]
  },
  {
   "cell_type": "code",
   "execution_count": 234,
   "metadata": {},
   "outputs": [
    {
     "data": {
      "text/html": [
       "<div>\n",
       "<table border=\"1\" class=\"dataframe\">\n",
       "  <thead>\n",
       "    <tr style=\"text-align: right;\">\n",
       "      <th></th>\n",
       "      <th>감독</th>\n",
       "      <th>상영 시간</th>\n",
       "      <th>제목</th>\n",
       "    </tr>\n",
       "  </thead>\n",
       "  <tbody>\n",
       "    <tr>\n",
       "      <th>0</th>\n",
       "      <td>영화 감독1</td>\n",
       "      <td>120</td>\n",
       "      <td>영화 제목1</td>\n",
       "    </tr>\n",
       "    <tr>\n",
       "      <th>1</th>\n",
       "      <td>영화 감독2</td>\n",
       "      <td>150</td>\n",
       "      <td>영화 제목2</td>\n",
       "    </tr>\n",
       "    <tr>\n",
       "      <th>2</th>\n",
       "      <td>영화 감독3</td>\n",
       "      <td>180</td>\n",
       "      <td>영화 제목3</td>\n",
       "    </tr>\n",
       "  </tbody>\n",
       "</table>\n",
       "</div>"
      ],
      "text/plain": [
       "       감독  상영 시간      제목\n",
       "0  영화 감독1    120  영화 제목1\n",
       "1  영화 감독2    150  영화 제목2\n",
       "2  영화 감독3    180  영화 제목3"
      ]
     },
     "execution_count": 234,
     "metadata": {},
     "output_type": "execute_result"
    }
   ],
   "source": [
    "df2"
   ]
  },
  {
   "cell_type": "code",
   "execution_count": 228,
   "metadata": {},
   "outputs": [
    {
     "data": {
      "text/html": [
       "<div>\n",
       "<table border=\"1\" class=\"dataframe\">\n",
       "  <thead>\n",
       "    <tr style=\"text-align: right;\">\n",
       "      <th></th>\n",
       "      <th>감독</th>\n",
       "      <th>상영 시간</th>\n",
       "      <th>제목</th>\n",
       "    </tr>\n",
       "  </thead>\n",
       "  <tbody>\n",
       "    <tr>\n",
       "      <th>0</th>\n",
       "      <td>영화 감독1</td>\n",
       "      <td>120</td>\n",
       "      <td>영화 제목1</td>\n",
       "    </tr>\n",
       "    <tr>\n",
       "      <th>1</th>\n",
       "      <td>영화 감독2</td>\n",
       "      <td>150</td>\n",
       "      <td>영화 제목2</td>\n",
       "    </tr>\n",
       "    <tr>\n",
       "      <th>2</th>\n",
       "      <td>영화 감독3</td>\n",
       "      <td>180</td>\n",
       "      <td>영화 제목3</td>\n",
       "    </tr>\n",
       "  </tbody>\n",
       "</table>\n",
       "</div>"
      ],
      "text/plain": [
       "       감독  상영 시간      제목\n",
       "0  영화 감독1    120  영화 제목1\n",
       "1  영화 감독2    150  영화 제목2\n",
       "2  영화 감독3    180  영화 제목3"
      ]
     },
     "execution_count": 228,
     "metadata": {},
     "output_type": "execute_result"
    }
   ],
   "source": [
    "df1[['감독', '상영 시간', '제목']]"
   ]
  },
  {
   "cell_type": "code",
   "execution_count": 218,
   "metadata": {
    "collapsed": true
   },
   "outputs": [],
   "source": [
    "df1.columns = ['감독', '상영 시간', '제목']"
   ]
  },
  {
   "cell_type": "code",
   "execution_count": 220,
   "metadata": {},
   "outputs": [
    {
     "data": {
      "text/html": [
       "<div>\n",
       "<table border=\"1\" class=\"dataframe\">\n",
       "  <thead>\n",
       "    <tr style=\"text-align: right;\">\n",
       "      <th></th>\n",
       "      <th>감독</th>\n",
       "      <th>상영 시간</th>\n",
       "      <th>제목</th>\n",
       "    </tr>\n",
       "  </thead>\n",
       "  <tbody>\n",
       "    <tr>\n",
       "      <th>0</th>\n",
       "      <td>영화 제목1</td>\n",
       "      <td>120</td>\n",
       "      <td>영화 감독1</td>\n",
       "    </tr>\n",
       "    <tr>\n",
       "      <th>1</th>\n",
       "      <td>영화 제목2</td>\n",
       "      <td>150</td>\n",
       "      <td>영화 감독2</td>\n",
       "    </tr>\n",
       "    <tr>\n",
       "      <th>2</th>\n",
       "      <td>영화 제목3</td>\n",
       "      <td>180</td>\n",
       "      <td>영화 감독3</td>\n",
       "    </tr>\n",
       "  </tbody>\n",
       "</table>\n",
       "</div>"
      ],
      "text/plain": [
       "       감독  상영 시간      제목\n",
       "0  영화 제목1    120  영화 감독1\n",
       "1  영화 제목2    150  영화 감독2\n",
       "2  영화 제목3    180  영화 감독3"
      ]
     },
     "execution_count": 220,
     "metadata": {},
     "output_type": "execute_result"
    }
   ],
   "source": [
    "df1"
   ]
  },
  {
   "cell_type": "code",
   "execution_count": 223,
   "metadata": {},
   "outputs": [],
   "source": [
    "df1.index = [1,2,3]"
   ]
  },
  {
   "cell_type": "code",
   "execution_count": 224,
   "metadata": {},
   "outputs": [
    {
     "data": {
      "text/html": [
       "<div>\n",
       "<table border=\"1\" class=\"dataframe\">\n",
       "  <thead>\n",
       "    <tr style=\"text-align: right;\">\n",
       "      <th></th>\n",
       "      <th>감독</th>\n",
       "      <th>상영 시간</th>\n",
       "      <th>제목</th>\n",
       "    </tr>\n",
       "  </thead>\n",
       "  <tbody>\n",
       "    <tr>\n",
       "      <th>1</th>\n",
       "      <td>영화 제목1</td>\n",
       "      <td>120</td>\n",
       "      <td>영화 감독1</td>\n",
       "    </tr>\n",
       "    <tr>\n",
       "      <th>2</th>\n",
       "      <td>영화 제목2</td>\n",
       "      <td>150</td>\n",
       "      <td>영화 감독2</td>\n",
       "    </tr>\n",
       "    <tr>\n",
       "      <th>3</th>\n",
       "      <td>영화 제목3</td>\n",
       "      <td>180</td>\n",
       "      <td>영화 감독3</td>\n",
       "    </tr>\n",
       "  </tbody>\n",
       "</table>\n",
       "</div>"
      ],
      "text/plain": [
       "       감독  상영 시간      제목\n",
       "1  영화 제목1    120  영화 감독1\n",
       "2  영화 제목2    150  영화 감독2\n",
       "3  영화 제목3    180  영화 감독3"
      ]
     },
     "execution_count": 224,
     "metadata": {},
     "output_type": "execute_result"
    }
   ],
   "source": [
    "df1"
   ]
  },
  {
   "cell_type": "markdown",
   "metadata": {},
   "source": [
    "## 해보기"
   ]
  },
  {
   "cell_type": "code",
   "execution_count": 236,
   "metadata": {},
   "outputs": [],
   "source": [
    "data = {\n",
    "    '제목': ['영화 제목1', '영화 제목2', '영화 제목3'],\n",
    "    '상영 시간': [120, 150, 180],\n",
    "    '감독': ['영화 감독1', '영화 감독2', '영화 감독3']\n",
    "}\n",
    "\n",
    "# 1. DataFrame으로 만들고, 컬럼을 제목->상영 시간->감독 순으로 바꿔보세요.\n",
    "# 2. 컬럼명을 제목->title, 감독->director, 상영 시간->running time으로 바꿔보세요.\n",
    "# 3. index를 '1관', '2관', '3관'으로 바꿔보세요.\n",
    "# 4. 1관을 선택해서 출력해보세요."
   ]
  },
  {
   "cell_type": "code",
   "execution_count": 237,
   "metadata": {
    "collapsed": true
   },
   "outputs": [],
   "source": [
    "df2 = DataFrame(data)"
   ]
  },
  {
   "cell_type": "code",
   "execution_count": 239,
   "metadata": {},
   "outputs": [],
   "source": [
    "df2.columns = ['제목', '상영 시간', '감독']"
   ]
  },
  {
   "cell_type": "code",
   "execution_count": 241,
   "metadata": {},
   "outputs": [],
   "source": [
    "df2.columns = ['title', 'running time', 'director']"
   ]
  },
  {
   "cell_type": "code",
   "execution_count": 243,
   "metadata": {},
   "outputs": [],
   "source": [
    "df2.index = ['1관', '2관', '3관']"
   ]
  },
  {
   "cell_type": "code",
   "execution_count": 245,
   "metadata": {},
   "outputs": [
    {
     "data": {
      "text/plain": [
       "title           영화 감독1\n",
       "running time       120\n",
       "director        영화 제목1\n",
       "Name: 1관, dtype: object"
      ]
     },
     "execution_count": 245,
     "metadata": {},
     "output_type": "execute_result"
    }
   ],
   "source": [
    "df2.ix['1관']"
   ]
  },
  {
   "cell_type": "markdown",
   "metadata": {},
   "source": [
    "# Pandas로 데이터 읽어오기"
   ]
  },
  {
   "cell_type": "code",
   "execution_count": 56,
   "metadata": {
    "collapsed": true
   },
   "outputs": [],
   "source": [
    "import pandas"
   ]
  },
  {
   "cell_type": "code",
   "execution_count": 246,
   "metadata": {},
   "outputs": [],
   "source": [
    "# http://wiki.stat.ucla.edu/socr/index.php/SOCR_Data_MLB_HeightsWeights\n",
    "# 위 사이트에 들어가서 표를 긁어서 복사(ctrl+c, 맥에서는 cmd+c) 합니다.\n",
    "\n",
    "# 안되시는 분들은 직접 csv 파일 다운로드해서 pd.read_csv(파일 이름) 해보세요\n",
    "# https://www.dropbox.com/s/9mgjiu00h3q8n0r/bp_data.csv?dl=1\n",
    "baseball_players = pandas.read_clipboard()"
   ]
  },
  {
   "cell_type": "code",
   "execution_count": 6,
   "metadata": {},
   "outputs": [
    {
     "data": {
      "text/html": [
       "<div>\n",
       "<table border=\"1\" class=\"dataframe\">\n",
       "  <thead>\n",
       "    <tr style=\"text-align: right;\">\n",
       "      <th></th>\n",
       "      <th>Name</th>\n",
       "      <th>Team</th>\n",
       "      <th>Position</th>\n",
       "      <th>Height(inches)</th>\n",
       "      <th>Weight(pounds)</th>\n",
       "      <th>Age</th>\n",
       "    </tr>\n",
       "  </thead>\n",
       "  <tbody>\n",
       "    <tr>\n",
       "      <th>0</th>\n",
       "      <td>Adam_Donachie</td>\n",
       "      <td>BAL</td>\n",
       "      <td>Catcher</td>\n",
       "      <td>74</td>\n",
       "      <td>180</td>\n",
       "      <td>22.99</td>\n",
       "    </tr>\n",
       "    <tr>\n",
       "      <th>1</th>\n",
       "      <td>Paul_Bako</td>\n",
       "      <td>BAL</td>\n",
       "      <td>Catcher</td>\n",
       "      <td>74</td>\n",
       "      <td>215</td>\n",
       "      <td>34.69</td>\n",
       "    </tr>\n",
       "    <tr>\n",
       "      <th>2</th>\n",
       "      <td>Ramon_Hernandez</td>\n",
       "      <td>BAL</td>\n",
       "      <td>Catcher</td>\n",
       "      <td>72</td>\n",
       "      <td>210</td>\n",
       "      <td>30.78</td>\n",
       "    </tr>\n",
       "    <tr>\n",
       "      <th>3</th>\n",
       "      <td>Kevin_Millar</td>\n",
       "      <td>BAL</td>\n",
       "      <td>First_Baseman</td>\n",
       "      <td>72</td>\n",
       "      <td>210</td>\n",
       "      <td>35.43</td>\n",
       "    </tr>\n",
       "    <tr>\n",
       "      <th>4</th>\n",
       "      <td>Chris_Gomez</td>\n",
       "      <td>BAL</td>\n",
       "      <td>First_Baseman</td>\n",
       "      <td>73</td>\n",
       "      <td>188</td>\n",
       "      <td>35.71</td>\n",
       "    </tr>\n",
       "  </tbody>\n",
       "</table>\n",
       "</div>"
      ],
      "text/plain": [
       "              Name Team       Position  Height(inches)  Weight(pounds)    Age\n",
       "0    Adam_Donachie  BAL        Catcher              74             180  22.99\n",
       "1        Paul_Bako  BAL        Catcher              74             215  34.69\n",
       "2  Ramon_Hernandez  BAL        Catcher              72             210  30.78\n",
       "3     Kevin_Millar  BAL  First_Baseman              72             210  35.43\n",
       "4      Chris_Gomez  BAL  First_Baseman              73             188  35.71"
      ]
     },
     "execution_count": 6,
     "metadata": {},
     "output_type": "execute_result"
    }
   ],
   "source": [
    "# DataFrame의 head() 메소드를 활용해 잘 붙었는지 확인해볼까요? \n",
    "baseball_players.head()"
   ]
  },
  {
   "cell_type": "code",
   "execution_count": 250,
   "metadata": {
    "collapsed": true
   },
   "outputs": [],
   "source": [
    "# 긁어온 데이터를 csv로 저장해봅시다.\n",
    "baseball_players.to_csv('./baseball_player.csv', index=False)"
   ]
  },
  {
   "cell_type": "code",
   "execution_count": 122,
   "metadata": {},
   "outputs": [],
   "source": [
    "# 저장한 .csv 데이터를 다시 읽어볼까요? 현재 폴더에 가서 잘 있는지 확인해봅시다.\n",
    "bp_data = pandas.read_csv('./baseball_player.csv')"
   ]
  },
  {
   "cell_type": "code",
   "execution_count": 123,
   "metadata": {},
   "outputs": [
    {
     "data": {
      "text/html": [
       "<div>\n",
       "<table border=\"1\" class=\"dataframe\">\n",
       "  <thead>\n",
       "    <tr style=\"text-align: right;\">\n",
       "      <th></th>\n",
       "      <th>Name</th>\n",
       "      <th>Team</th>\n",
       "      <th>Position</th>\n",
       "      <th>Height(inches)</th>\n",
       "      <th>Weight(pounds)</th>\n",
       "      <th>Age</th>\n",
       "    </tr>\n",
       "  </thead>\n",
       "  <tbody>\n",
       "    <tr>\n",
       "      <th>0</th>\n",
       "      <td>Adam_Donachie</td>\n",
       "      <td>BAL</td>\n",
       "      <td>Catcher</td>\n",
       "      <td>74</td>\n",
       "      <td>180</td>\n",
       "      <td>22.99</td>\n",
       "    </tr>\n",
       "    <tr>\n",
       "      <th>1</th>\n",
       "      <td>Paul_Bako</td>\n",
       "      <td>BAL</td>\n",
       "      <td>Catcher</td>\n",
       "      <td>74</td>\n",
       "      <td>215</td>\n",
       "      <td>34.69</td>\n",
       "    </tr>\n",
       "    <tr>\n",
       "      <th>2</th>\n",
       "      <td>Ramon_Hernandez</td>\n",
       "      <td>BAL</td>\n",
       "      <td>Catcher</td>\n",
       "      <td>72</td>\n",
       "      <td>210</td>\n",
       "      <td>30.78</td>\n",
       "    </tr>\n",
       "    <tr>\n",
       "      <th>3</th>\n",
       "      <td>Kevin_Millar</td>\n",
       "      <td>BAL</td>\n",
       "      <td>First_Baseman</td>\n",
       "      <td>72</td>\n",
       "      <td>210</td>\n",
       "      <td>35.43</td>\n",
       "    </tr>\n",
       "    <tr>\n",
       "      <th>4</th>\n",
       "      <td>Chris_Gomez</td>\n",
       "      <td>BAL</td>\n",
       "      <td>First_Baseman</td>\n",
       "      <td>73</td>\n",
       "      <td>188</td>\n",
       "      <td>35.71</td>\n",
       "    </tr>\n",
       "  </tbody>\n",
       "</table>\n",
       "</div>"
      ],
      "text/plain": [
       "              Name Team       Position  Height(inches)  Weight(pounds)    Age\n",
       "0    Adam_Donachie  BAL        Catcher              74             180  22.99\n",
       "1        Paul_Bako  BAL        Catcher              74             215  34.69\n",
       "2  Ramon_Hernandez  BAL        Catcher              72             210  30.78\n",
       "3     Kevin_Millar  BAL  First_Baseman              72             210  35.43\n",
       "4      Chris_Gomez  BAL  First_Baseman              73             188  35.71"
      ]
     },
     "execution_count": 123,
     "metadata": {},
     "output_type": "execute_result"
    }
   ],
   "source": [
    "bp_data.head()"
   ]
  },
  {
   "cell_type": "code",
   "execution_count": 124,
   "metadata": {
    "collapsed": true
   },
   "outputs": [],
   "source": [
    "inch_to_cm = 2.54\n",
    "pound_to_kg = 0.453592"
   ]
  },
  {
   "cell_type": "code",
   "execution_count": 125,
   "metadata": {},
   "outputs": [],
   "source": [
    "height = bp_data['Height(inches)'].values"
   ]
  },
  {
   "cell_type": "code",
   "execution_count": 126,
   "metadata": {},
   "outputs": [],
   "source": [
    "height_cm = height * inch_to_cm"
   ]
  },
  {
   "cell_type": "code",
   "execution_count": 127,
   "metadata": {},
   "outputs": [],
   "source": [
    "# height_cm[height_cm>180]"
   ]
  },
  {
   "cell_type": "code",
   "execution_count": 128,
   "metadata": {},
   "outputs": [
    {
     "data": {
      "text/html": [
       "<div>\n",
       "<table border=\"1\" class=\"dataframe\">\n",
       "  <thead>\n",
       "    <tr style=\"text-align: right;\">\n",
       "      <th></th>\n",
       "      <th>Name</th>\n",
       "      <th>Team</th>\n",
       "      <th>Position</th>\n",
       "      <th>Height(inches)</th>\n",
       "      <th>Weight(pounds)</th>\n",
       "      <th>Age</th>\n",
       "    </tr>\n",
       "  </thead>\n",
       "  <tbody>\n",
       "    <tr>\n",
       "      <th>0</th>\n",
       "      <td>Adam_Donachie</td>\n",
       "      <td>BAL</td>\n",
       "      <td>Catcher</td>\n",
       "      <td>74</td>\n",
       "      <td>180</td>\n",
       "      <td>22.99</td>\n",
       "    </tr>\n",
       "    <tr>\n",
       "      <th>1</th>\n",
       "      <td>Paul_Bako</td>\n",
       "      <td>BAL</td>\n",
       "      <td>Catcher</td>\n",
       "      <td>74</td>\n",
       "      <td>215</td>\n",
       "      <td>34.69</td>\n",
       "    </tr>\n",
       "    <tr>\n",
       "      <th>2</th>\n",
       "      <td>Ramon_Hernandez</td>\n",
       "      <td>BAL</td>\n",
       "      <td>Catcher</td>\n",
       "      <td>72</td>\n",
       "      <td>210</td>\n",
       "      <td>30.78</td>\n",
       "    </tr>\n",
       "    <tr>\n",
       "      <th>3</th>\n",
       "      <td>Kevin_Millar</td>\n",
       "      <td>BAL</td>\n",
       "      <td>First_Baseman</td>\n",
       "      <td>72</td>\n",
       "      <td>210</td>\n",
       "      <td>35.43</td>\n",
       "    </tr>\n",
       "    <tr>\n",
       "      <th>4</th>\n",
       "      <td>Chris_Gomez</td>\n",
       "      <td>BAL</td>\n",
       "      <td>First_Baseman</td>\n",
       "      <td>73</td>\n",
       "      <td>188</td>\n",
       "      <td>35.71</td>\n",
       "    </tr>\n",
       "  </tbody>\n",
       "</table>\n",
       "</div>"
      ],
      "text/plain": [
       "              Name Team       Position  Height(inches)  Weight(pounds)    Age\n",
       "0    Adam_Donachie  BAL        Catcher              74             180  22.99\n",
       "1        Paul_Bako  BAL        Catcher              74             215  34.69\n",
       "2  Ramon_Hernandez  BAL        Catcher              72             210  30.78\n",
       "3     Kevin_Millar  BAL  First_Baseman              72             210  35.43\n",
       "4      Chris_Gomez  BAL  First_Baseman              73             188  35.71"
      ]
     },
     "execution_count": 128,
     "metadata": {},
     "output_type": "execute_result"
    }
   ],
   "source": [
    "bp_data.head()"
   ]
  },
  {
   "cell_type": "code",
   "execution_count": 129,
   "metadata": {},
   "outputs": [
    {
     "data": {
      "text/plain": [
       "Index([u'Name', u'Team', u'Position', u'Height(inches)', u'Weight(pounds)',\n",
       "       u'Age'],\n",
       "      dtype='object')"
      ]
     },
     "execution_count": 129,
     "metadata": {},
     "output_type": "execute_result"
    }
   ],
   "source": [
    "bp_data.columns"
   ]
  },
  {
   "cell_type": "code",
   "execution_count": 130,
   "metadata": {},
   "outputs": [
    {
     "data": {
      "text/plain": [
       "0    74\n",
       "1    74\n",
       "2    72\n",
       "3    72\n",
       "4    73\n",
       "Name: Height(inches), dtype: int64"
      ]
     },
     "execution_count": 130,
     "metadata": {},
     "output_type": "execute_result"
    }
   ],
   "source": [
    "# Series\n",
    "heights = bp_data['Height(inches)']\n",
    "heights.head()"
   ]
  },
  {
   "cell_type": "code",
   "execution_count": 131,
   "metadata": {},
   "outputs": [
    {
     "data": {
      "text/plain": [
       "array([74, 74, 72, ..., 75, 75, 73])"
      ]
     },
     "execution_count": 131,
     "metadata": {},
     "output_type": "execute_result"
    }
   ],
   "source": [
    "# numpy ndarray 자료구조로 value들을 리턴합니다.\n",
    "heights.values"
   ]
  },
  {
   "cell_type": "code",
   "execution_count": 132,
   "metadata": {},
   "outputs": [
    {
     "data": {
      "text/plain": [
       "Int64Index([   0,    1,    2,    3,    4,    5,    6,    7,    8,    9,\n",
       "            ...\n",
       "            1024, 1025, 1026, 1027, 1028, 1029, 1030, 1031, 1032, 1033],\n",
       "           dtype='int64', length=1034)"
      ]
     },
     "execution_count": 132,
     "metadata": {},
     "output_type": "execute_result"
    }
   ],
   "source": [
    "# 이렇게 index도 받아올 수 있습니다. \n",
    "heights.index"
   ]
  },
  {
   "cell_type": "markdown",
   "metadata": {},
   "source": [
    "# Numpy 부터 보고갑시다\n",
    "\n",
    "일단 numpy에서는 아까 잠시 살펴본 ndarray 자료구조를 잘 익히면 됩니다. "
   ]
  },
  {
   "cell_type": "code",
   "execution_count": 143,
   "metadata": {},
   "outputs": [
    {
     "data": {
      "text/plain": [
       "array([1, 2, 3, 4])"
      ]
     },
     "execution_count": 143,
     "metadata": {},
     "output_type": "execute_result"
    }
   ],
   "source": [
    "import numpy as np\n",
    "\n",
    "# numpy로 array를 만들어봅시다.\n",
    "np.array([1,2,3,4])"
   ]
  },
  {
   "cell_type": "code",
   "execution_count": 144,
   "metadata": {},
   "outputs": [
    {
     "data": {
      "text/plain": [
       "numpy.ndarray"
      ]
     },
     "execution_count": 144,
     "metadata": {},
     "output_type": "execute_result"
    }
   ],
   "source": [
    "type(np.array([1,2,3,4]))"
   ]
  },
  {
   "cell_type": "code",
   "execution_count": 145,
   "metadata": {},
   "outputs": [
    {
     "data": {
      "text/plain": [
       "[1, 2, 3, 4]"
      ]
     },
     "execution_count": 145,
     "metadata": {},
     "output_type": "execute_result"
    }
   ],
   "source": [
    "# list와 비슷해보이죠?\n",
    "[1,2,3,4]"
   ]
  },
  {
   "cell_type": "code",
   "execution_count": 146,
   "metadata": {},
   "outputs": [
    {
     "name": "stdout",
     "output_type": "stream",
     "text": [
      "[1, 2, '3']\n",
      "['1' '2' '3']\n",
      "int64\n",
      "|S21\n",
      "[1, 2, 3, 4, 5, 6]\n",
      "[1, 2, 3, 1, 2, 3, 1, 2, 3]\n",
      "[5 7 9]\n",
      "[3 6 9]\n"
     ]
    }
   ],
   "source": [
    "# list와 numpy ndarray가 뚜렷하게 차이나는 점.\n",
    "\n",
    "# 1. ndarray는 하나의 type만 넣을 수 있음.(type coercion)\n",
    "print [1,2,'3']\n",
    "print np.array([1,2,'3'])\n",
    "print np.array([1,2,3]).dtype\n",
    "print np.array([1,2,'3']).dtype\n",
    "# (numpy에서는 single data type을 사용하기에 속도가 굉장히 빠르다고 합니다.)\n",
    "\n",
    "# 2. 기본 연산(+,*,-,+)이 다른 의미를 가짐\n",
    "print [1,2,3]+[4,5,6]\n",
    "print [1,2,3]*3\n",
    "print np.array([1,2,3])+np.array([4,5,6])\n",
    "print np.array([1,2,3])*3"
   ]
  },
  {
   "cell_type": "code",
   "execution_count": 147,
   "metadata": {},
   "outputs": [],
   "source": [
    "np1 = np.array([1,2,3])\n",
    "np2 = np.array([2,2,2])"
   ]
  },
  {
   "cell_type": "code",
   "execution_count": 148,
   "metadata": {},
   "outputs": [
    {
     "data": {
      "text/plain": [
       "array([2, 4, 6])"
      ]
     },
     "execution_count": 148,
     "metadata": {},
     "output_type": "execute_result"
    }
   ],
   "source": [
    "np1*np2"
   ]
  },
  {
   "cell_type": "code",
   "execution_count": 149,
   "metadata": {},
   "outputs": [
    {
     "data": {
      "text/plain": [
       "array([3, 4, 5])"
      ]
     },
     "execution_count": 149,
     "metadata": {},
     "output_type": "execute_result"
    }
   ],
   "source": [
    "np1+np2"
   ]
  },
  {
   "cell_type": "code",
   "execution_count": 150,
   "metadata": {},
   "outputs": [
    {
     "data": {
      "text/plain": [
       "array([1, 4, 9])"
      ]
     },
     "execution_count": 150,
     "metadata": {},
     "output_type": "execute_result"
    }
   ],
   "source": [
    "np1**2"
   ]
  },
  {
   "cell_type": "code",
   "execution_count": 151,
   "metadata": {},
   "outputs": [
    {
     "data": {
      "text/plain": [
       "array([1, 1, 1])"
      ]
     },
     "execution_count": 151,
     "metadata": {},
     "output_type": "execute_result"
    }
   ],
   "source": [
    "np2/2"
   ]
  },
  {
   "cell_type": "code",
   "execution_count": 152,
   "metadata": {
    "collapsed": true
   },
   "outputs": [],
   "source": [
    "# np_heights에 농구선수들의 키를 ndarray로 가져옵시다.\n",
    "np_heights = heights.values"
   ]
  },
  {
   "cell_type": "code",
   "execution_count": 153,
   "metadata": {},
   "outputs": [
    {
     "data": {
      "text/plain": [
       "array([74, 74, 72, 72, 73])"
      ]
     },
     "execution_count": 153,
     "metadata": {},
     "output_type": "execute_result"
    }
   ],
   "source": [
    "np_heights[:5]"
   ]
  },
  {
   "cell_type": "code",
   "execution_count": 154,
   "metadata": {},
   "outputs": [
    {
     "data": {
      "text/plain": [
       "array([ 187.96,  187.96,  182.88, ...,  190.5 ,  190.5 ,  185.42])"
      ]
     },
     "execution_count": 154,
     "metadata": {},
     "output_type": "execute_result"
    }
   ],
   "source": [
    "# 근데 농구선수 키가 왜 이렇게 작은걸까요? 인치를 센티미터로 바꿔봅시다. \n",
    "inch_to_cm = 2.54\n",
    "pound_to_kg = 0.453592\n",
    "\n",
    "cm_heights = np_heights*inch_to_cm\n",
    "cm_heights"
   ]
  },
  {
   "cell_type": "code",
   "execution_count": 155,
   "metadata": {},
   "outputs": [
    {
     "data": {
      "text/plain": [
       "array([ 187.96,  187.96,  182.88, ...,  190.5 ,  190.5 ,  185.42])"
      ]
     },
     "execution_count": 155,
     "metadata": {},
     "output_type": "execute_result"
    }
   ],
   "source": [
    "height_cm"
   ]
  },
  {
   "cell_type": "code",
   "execution_count": 156,
   "metadata": {},
   "outputs": [
    {
     "data": {
      "text/plain": [
       "954"
      ]
     },
     "execution_count": 156,
     "metadata": {},
     "output_type": "execute_result"
    }
   ],
   "source": [
    "len(height_cm[height_cm>180])"
   ]
  },
  {
   "cell_type": "code",
   "execution_count": 157,
   "metadata": {},
   "outputs": [
    {
     "data": {
      "text/plain": [
       "1034"
      ]
     },
     "execution_count": 157,
     "metadata": {},
     "output_type": "execute_result"
    }
   ],
   "source": [
    "# 전체 농구선수 중에..\n",
    "len(height_cm)"
   ]
  },
  {
   "cell_type": "code",
   "execution_count": 158,
   "metadata": {},
   "outputs": [
    {
     "data": {
      "text/plain": [
       "954"
      ]
     },
     "execution_count": 158,
     "metadata": {},
     "output_type": "execute_result"
    }
   ],
   "source": [
    "# 180이상이 몇명이나 있는지 찾아봅시다.\n",
    "len(height_cm[height_cm>180])"
   ]
  },
  {
   "cell_type": "code",
   "execution_count": 159,
   "metadata": {},
   "outputs": [
    {
     "data": {
      "text/plain": [
       "array([ 35328.9616,  35328.9616,  33445.0944, ...,  36290.25  ,\n",
       "        36290.25  ,  34380.5764])"
      ]
     },
     "execution_count": 159,
     "metadata": {},
     "output_type": "execute_result"
    }
   ],
   "source": [
    "def square_array(arr):\n",
    "    return arr**2\n",
    "\n",
    "square_array(height_cm)"
   ]
  },
  {
   "cell_type": "code",
   "execution_count": 160,
   "metadata": {
    "collapsed": true
   },
   "outputs": [],
   "source": [
    "inch_to_cm = 2.54\n",
    "pound_to_kg = 0.453592\n",
    "\n",
    "height_cm = bp_data['Height(inches)'].values * inch_to_cm\n",
    "weight_kg = bp_data['Weight(pounds)'].values * pound_to_kg"
   ]
  },
  {
   "cell_type": "code",
   "execution_count": 161,
   "metadata": {},
   "outputs": [
    {
     "data": {
      "text/plain": [
       "array([ 81.64656,  97.52228,  95.25432, ...,  92.98636,  86.18248,\n",
       "        88.45044])"
      ]
     },
     "execution_count": 161,
     "metadata": {},
     "output_type": "execute_result"
    }
   ],
   "source": [
    "weight_kg"
   ]
  },
  {
   "cell_type": "code",
   "execution_count": 162,
   "metadata": {},
   "outputs": [
    {
     "data": {
      "text/plain": [
       "array([ 187.96,  187.96,  182.88, ...,  190.5 ,  190.5 ,  185.42])"
      ]
     },
     "execution_count": 162,
     "metadata": {},
     "output_type": "execute_result"
    }
   ],
   "source": [
    "height_cm"
   ]
  },
  {
   "cell_type": "markdown",
   "metadata": {},
   "source": [
    "##  해보기 \n",
    "야구선수들의 bmi(body mass index)를 구해봅시다. \n",
    "\n",
    "$$bmi = weight(kg) / height(m^2)$$"
   ]
  },
  {
   "cell_type": "code",
   "execution_count": 163,
   "metadata": {
    "collapsed": true
   },
   "outputs": [],
   "source": [
    "# ndarray자료구조인 weight, height를 받아 bmi를 계산해서 리턴합니다. \n",
    "# kg, m^2 단위 조심하세요!\n",
    "def cal_bmi(weight, height):\n",
    "    return weight / height**2\n",
    "\n",
    "height_m = height_cm * 0.01\n",
    "bmi = cal_bmi(weight_kg, height_m)"
   ]
  },
  {
   "cell_type": "markdown",
   "metadata": {},
   "source": [
    "## 해보기\n",
    "\n",
    "1. bmi가 30이상인 비만 야구선수들을 찾아봅시다.\n",
    "2. 20 미만인 저체중 선수들을 찾아봅시다."
   ]
  },
  {
   "cell_type": "code",
   "execution_count": 164,
   "metadata": {},
   "outputs": [
    {
     "data": {
      "text/plain": [
       "array([ 19.4984471])"
      ]
     },
     "execution_count": 164,
     "metadata": {},
     "output_type": "execute_result"
    }
   ],
   "source": [
    "# bmi[bmi>30]\n",
    "bmi[bmi<20]"
   ]
  },
  {
   "cell_type": "code",
   "execution_count": 165,
   "metadata": {},
   "outputs": [],
   "source": [
    "bp_data['bmi'] = bmi"
   ]
  },
  {
   "cell_type": "code",
   "execution_count": 166,
   "metadata": {},
   "outputs": [
    {
     "data": {
      "text/html": [
       "<div>\n",
       "<table border=\"1\" class=\"dataframe\">\n",
       "  <thead>\n",
       "    <tr style=\"text-align: right;\">\n",
       "      <th></th>\n",
       "      <th>Name</th>\n",
       "      <th>Team</th>\n",
       "      <th>Position</th>\n",
       "      <th>Height(inches)</th>\n",
       "      <th>Weight(pounds)</th>\n",
       "      <th>Age</th>\n",
       "      <th>bmi</th>\n",
       "    </tr>\n",
       "  </thead>\n",
       "  <tbody>\n",
       "    <tr>\n",
       "      <th>0</th>\n",
       "      <td>Adam_Donachie</td>\n",
       "      <td>BAL</td>\n",
       "      <td>Catcher</td>\n",
       "      <td>74</td>\n",
       "      <td>180</td>\n",
       "      <td>22.99</td>\n",
       "      <td>23.110376</td>\n",
       "    </tr>\n",
       "    <tr>\n",
       "      <th>1</th>\n",
       "      <td>Paul_Bako</td>\n",
       "      <td>BAL</td>\n",
       "      <td>Catcher</td>\n",
       "      <td>74</td>\n",
       "      <td>215</td>\n",
       "      <td>34.69</td>\n",
       "      <td>27.604061</td>\n",
       "    </tr>\n",
       "    <tr>\n",
       "      <th>2</th>\n",
       "      <td>Ramon_Hernandez</td>\n",
       "      <td>BAL</td>\n",
       "      <td>Catcher</td>\n",
       "      <td>72</td>\n",
       "      <td>210</td>\n",
       "      <td>30.78</td>\n",
       "      <td>28.480805</td>\n",
       "    </tr>\n",
       "    <tr>\n",
       "      <th>3</th>\n",
       "      <td>Kevin_Millar</td>\n",
       "      <td>BAL</td>\n",
       "      <td>First_Baseman</td>\n",
       "      <td>72</td>\n",
       "      <td>210</td>\n",
       "      <td>35.43</td>\n",
       "      <td>28.480805</td>\n",
       "    </tr>\n",
       "    <tr>\n",
       "      <th>4</th>\n",
       "      <td>Chris_Gomez</td>\n",
       "      <td>BAL</td>\n",
       "      <td>First_Baseman</td>\n",
       "      <td>73</td>\n",
       "      <td>188</td>\n",
       "      <td>35.71</td>\n",
       "      <td>24.803335</td>\n",
       "    </tr>\n",
       "  </tbody>\n",
       "</table>\n",
       "</div>"
      ],
      "text/plain": [
       "              Name Team       Position  Height(inches)  Weight(pounds)    Age  \\\n",
       "0    Adam_Donachie  BAL        Catcher              74             180  22.99   \n",
       "1        Paul_Bako  BAL        Catcher              74             215  34.69   \n",
       "2  Ramon_Hernandez  BAL        Catcher              72             210  30.78   \n",
       "3     Kevin_Millar  BAL  First_Baseman              72             210  35.43   \n",
       "4      Chris_Gomez  BAL  First_Baseman              73             188  35.71   \n",
       "\n",
       "         bmi  \n",
       "0  23.110376  \n",
       "1  27.604061  \n",
       "2  28.480805  \n",
       "3  28.480805  \n",
       "4  24.803335  "
      ]
     },
     "execution_count": 166,
     "metadata": {},
     "output_type": "execute_result"
    }
   ],
   "source": [
    "bp_data.head()"
   ]
  },
  {
   "cell_type": "markdown",
   "metadata": {},
   "source": [
    "# Apply"
   ]
  },
  {
   "cell_type": "code",
   "execution_count": 173,
   "metadata": {},
   "outputs": [
    {
     "data": {
      "text/plain": [
       "0    1\n",
       "1    4\n",
       "2    9\n",
       "dtype: int64"
      ]
     },
     "execution_count": 173,
     "metadata": {},
     "output_type": "execute_result"
    }
   ],
   "source": [
    "from pandas import Series, DataFrame\n",
    "\n",
    "# apply는 이런식으로 사용합니다.\n",
    "def square(x):\n",
    "    return x*x\n",
    "\n",
    "Series([1,2,3]).apply(square)"
   ]
  },
  {
   "cell_type": "code",
   "execution_count": 174,
   "metadata": {},
   "outputs": [],
   "source": [
    "numbers = Series([1,2,3,4,5,6,7,8])"
   ]
  },
  {
   "cell_type": "code",
   "execution_count": 175,
   "metadata": {},
   "outputs": [
    {
     "data": {
      "text/plain": [
       "0     Odd\n",
       "1    Even\n",
       "2     Odd\n",
       "3    Even\n",
       "4     Odd\n",
       "5    Even\n",
       "6     Odd\n",
       "7    Even\n",
       "dtype: object"
      ]
     },
     "execution_count": 175,
     "metadata": {},
     "output_type": "execute_result"
    }
   ],
   "source": [
    "def get_odd_even(x):\n",
    "    if x%2==0:\n",
    "        return 'Even'\n",
    "    else:\n",
    "        return 'Odd'\n",
    "\n",
    "numbers.apply(get_odd_even)"
   ]
  },
  {
   "cell_type": "code",
   "execution_count": 176,
   "metadata": {},
   "outputs": [],
   "source": [
    "# bmi 컬럼을 추가하고, \n",
    "bp_data['bmi'] = bmi"
   ]
  },
  {
   "cell_type": "code",
   "execution_count": 177,
   "metadata": {},
   "outputs": [],
   "source": [
    "# 30초과는 fat, \n",
    "# 25초과는 over weight, \n",
    "# 20초과는 normal, \n",
    "# 그 미만은 low weight로 표기해봅시다.\n",
    "def set_status(bmi):\n",
    "    if bmi > 30:\n",
    "        return 'fat'\n",
    "    elif bmi > 25:\n",
    "        return 'over weight'\n",
    "    elif bmi > 20:\n",
    "        return 'normal'\n",
    "    else:\n",
    "        return 'low weight'\n",
    "    \n",
    "status = bp_data['bmi'].apply(set_status)"
   ]
  },
  {
   "cell_type": "code",
   "execution_count": 178,
   "metadata": {},
   "outputs": [],
   "source": [
    "bp_data['status'] = status"
   ]
  },
  {
   "cell_type": "code",
   "execution_count": 179,
   "metadata": {},
   "outputs": [
    {
     "data": {
      "text/html": [
       "<div>\n",
       "<table border=\"1\" class=\"dataframe\">\n",
       "  <thead>\n",
       "    <tr style=\"text-align: right;\">\n",
       "      <th></th>\n",
       "      <th>Name</th>\n",
       "      <th>Team</th>\n",
       "      <th>Position</th>\n",
       "      <th>Height(inches)</th>\n",
       "      <th>Weight(pounds)</th>\n",
       "      <th>Age</th>\n",
       "      <th>bmi</th>\n",
       "      <th>status</th>\n",
       "    </tr>\n",
       "  </thead>\n",
       "  <tbody>\n",
       "    <tr>\n",
       "      <th>0</th>\n",
       "      <td>Adam_Donachie</td>\n",
       "      <td>BAL</td>\n",
       "      <td>Catcher</td>\n",
       "      <td>74</td>\n",
       "      <td>180</td>\n",
       "      <td>22.99</td>\n",
       "      <td>23.110376</td>\n",
       "      <td>normal</td>\n",
       "    </tr>\n",
       "    <tr>\n",
       "      <th>1</th>\n",
       "      <td>Paul_Bako</td>\n",
       "      <td>BAL</td>\n",
       "      <td>Catcher</td>\n",
       "      <td>74</td>\n",
       "      <td>215</td>\n",
       "      <td>34.69</td>\n",
       "      <td>27.604061</td>\n",
       "      <td>over weight</td>\n",
       "    </tr>\n",
       "    <tr>\n",
       "      <th>2</th>\n",
       "      <td>Ramon_Hernandez</td>\n",
       "      <td>BAL</td>\n",
       "      <td>Catcher</td>\n",
       "      <td>72</td>\n",
       "      <td>210</td>\n",
       "      <td>30.78</td>\n",
       "      <td>28.480805</td>\n",
       "      <td>over weight</td>\n",
       "    </tr>\n",
       "    <tr>\n",
       "      <th>3</th>\n",
       "      <td>Kevin_Millar</td>\n",
       "      <td>BAL</td>\n",
       "      <td>First_Baseman</td>\n",
       "      <td>72</td>\n",
       "      <td>210</td>\n",
       "      <td>35.43</td>\n",
       "      <td>28.480805</td>\n",
       "      <td>over weight</td>\n",
       "    </tr>\n",
       "    <tr>\n",
       "      <th>4</th>\n",
       "      <td>Chris_Gomez</td>\n",
       "      <td>BAL</td>\n",
       "      <td>First_Baseman</td>\n",
       "      <td>73</td>\n",
       "      <td>188</td>\n",
       "      <td>35.71</td>\n",
       "      <td>24.803335</td>\n",
       "      <td>normal</td>\n",
       "    </tr>\n",
       "  </tbody>\n",
       "</table>\n",
       "</div>"
      ],
      "text/plain": [
       "              Name Team       Position  Height(inches)  Weight(pounds)    Age  \\\n",
       "0    Adam_Donachie  BAL        Catcher              74             180  22.99   \n",
       "1        Paul_Bako  BAL        Catcher              74             215  34.69   \n",
       "2  Ramon_Hernandez  BAL        Catcher              72             210  30.78   \n",
       "3     Kevin_Millar  BAL  First_Baseman              72             210  35.43   \n",
       "4      Chris_Gomez  BAL  First_Baseman              73             188  35.71   \n",
       "\n",
       "         bmi       status  \n",
       "0  23.110376       normal  \n",
       "1  27.604061  over weight  \n",
       "2  28.480805  over weight  \n",
       "3  28.480805  over weight  \n",
       "4  24.803335       normal  "
      ]
     },
     "execution_count": 179,
     "metadata": {},
     "output_type": "execute_result"
    }
   ],
   "source": [
    "bp_data.head()"
   ]
  },
  {
   "cell_type": "markdown",
   "metadata": {},
   "source": [
    "## 해보기\n",
    "\n",
    "age_status라는 컬럼을 만들고, Age를 기준으로 35 이상은 agegroup_1, 30 이상은 agegroup_2, 25이상은 agegroup_3, 그 이하는 agegroup_4로 저장해봅시다."
   ]
  },
  {
   "cell_type": "code",
   "execution_count": 180,
   "metadata": {},
   "outputs": [],
   "source": [
    "def set_age_status(age):\n",
    "    if age > 35:\n",
    "        return 'agegroup_1'\n",
    "    elif age > 30:\n",
    "        return 'agegroup_2'\n",
    "    elif age > 25:\n",
    "        return 'agegroup_3'\n",
    "    else:\n",
    "        return 'agegroup_4'\n",
    "\n",
    "bp_data['age_status'] = bp_data['Age'].apply(set_age_status)"
   ]
  },
  {
   "cell_type": "code",
   "execution_count": 181,
   "metadata": {},
   "outputs": [
    {
     "data": {
      "text/html": [
       "<div>\n",
       "<table border=\"1\" class=\"dataframe\">\n",
       "  <thead>\n",
       "    <tr style=\"text-align: right;\">\n",
       "      <th></th>\n",
       "      <th>Name</th>\n",
       "      <th>Team</th>\n",
       "      <th>Position</th>\n",
       "      <th>Height(inches)</th>\n",
       "      <th>Weight(pounds)</th>\n",
       "      <th>Age</th>\n",
       "      <th>bmi</th>\n",
       "      <th>status</th>\n",
       "      <th>age_status</th>\n",
       "    </tr>\n",
       "  </thead>\n",
       "  <tbody>\n",
       "    <tr>\n",
       "      <th>23</th>\n",
       "      <td>Kris_Benson</td>\n",
       "      <td>BAL</td>\n",
       "      <td>Starting_Pitcher</td>\n",
       "      <td>76</td>\n",
       "      <td>195</td>\n",
       "      <td>32.31</td>\n",
       "      <td>23.735882</td>\n",
       "      <td>normal</td>\n",
       "      <td>agegroup_2</td>\n",
       "    </tr>\n",
       "    <tr>\n",
       "      <th>24</th>\n",
       "      <td>Scott_Williamson</td>\n",
       "      <td>BAL</td>\n",
       "      <td>Relief_Pitcher</td>\n",
       "      <td>72</td>\n",
       "      <td>180</td>\n",
       "      <td>31.03</td>\n",
       "      <td>24.412118</td>\n",
       "      <td>normal</td>\n",
       "      <td>agegroup_2</td>\n",
       "    </tr>\n",
       "    <tr>\n",
       "      <th>27</th>\n",
       "      <td>Chad_Bradford</td>\n",
       "      <td>BAL</td>\n",
       "      <td>Relief_Pitcher</td>\n",
       "      <td>77</td>\n",
       "      <td>203</td>\n",
       "      <td>32.46</td>\n",
       "      <td>24.072020</td>\n",
       "      <td>normal</td>\n",
       "      <td>agegroup_2</td>\n",
       "    </tr>\n",
       "    <tr>\n",
       "      <th>97</th>\n",
       "      <td>Justin_Speier</td>\n",
       "      <td>ANA</td>\n",
       "      <td>Relief_Pitcher</td>\n",
       "      <td>76</td>\n",
       "      <td>205</td>\n",
       "      <td>33.31</td>\n",
       "      <td>24.953107</td>\n",
       "      <td>normal</td>\n",
       "      <td>agegroup_2</td>\n",
       "    </tr>\n",
       "    <tr>\n",
       "      <th>100</th>\n",
       "      <td>Scot_Shields</td>\n",
       "      <td>ANA</td>\n",
       "      <td>Relief_Pitcher</td>\n",
       "      <td>73</td>\n",
       "      <td>170</td>\n",
       "      <td>31.61</td>\n",
       "      <td>22.428548</td>\n",
       "      <td>normal</td>\n",
       "      <td>agegroup_2</td>\n",
       "    </tr>\n",
       "  </tbody>\n",
       "</table>\n",
       "</div>"
      ],
      "text/plain": [
       "                 Name Team          Position  Height(inches)  Weight(pounds)  \\\n",
       "23        Kris_Benson  BAL  Starting_Pitcher              76             195   \n",
       "24   Scott_Williamson  BAL    Relief_Pitcher              72             180   \n",
       "27      Chad_Bradford  BAL    Relief_Pitcher              77             203   \n",
       "97      Justin_Speier  ANA    Relief_Pitcher              76             205   \n",
       "100      Scot_Shields  ANA    Relief_Pitcher              73             170   \n",
       "\n",
       "       Age        bmi  status  age_status  \n",
       "23   32.31  23.735882  normal  agegroup_2  \n",
       "24   31.03  24.412118  normal  agegroup_2  \n",
       "27   32.46  24.072020  normal  agegroup_2  \n",
       "97   33.31  24.953107  normal  agegroup_2  \n",
       "100  31.61  22.428548  normal  agegroup_2  "
      ]
     },
     "execution_count": 181,
     "metadata": {},
     "output_type": "execute_result"
    }
   ],
   "source": [
    "bp_data[(bp_data['status']=='normal') & (bp_data['age_status']=='agegroup_2')].head()"
   ]
  },
  {
   "cell_type": "code",
   "execution_count": 182,
   "metadata": {
    "collapsed": true
   },
   "outputs": [],
   "source": [
    "bp_data['Weight(kg)'] = weight_kg\n",
    "bp_data['Height(cm)'] = height_cm"
   ]
  },
  {
   "cell_type": "code",
   "execution_count": 183,
   "metadata": {},
   "outputs": [
    {
     "data": {
      "text/html": [
       "<div>\n",
       "<table border=\"1\" class=\"dataframe\">\n",
       "  <thead>\n",
       "    <tr style=\"text-align: right;\">\n",
       "      <th></th>\n",
       "      <th>Name</th>\n",
       "      <th>Team</th>\n",
       "      <th>Position</th>\n",
       "      <th>Height(inches)</th>\n",
       "      <th>Weight(pounds)</th>\n",
       "      <th>Age</th>\n",
       "      <th>bmi</th>\n",
       "      <th>status</th>\n",
       "      <th>age_status</th>\n",
       "      <th>Weight(kg)</th>\n",
       "      <th>Height(cm)</th>\n",
       "    </tr>\n",
       "  </thead>\n",
       "  <tbody>\n",
       "    <tr>\n",
       "      <th>0</th>\n",
       "      <td>Adam_Donachie</td>\n",
       "      <td>BAL</td>\n",
       "      <td>Catcher</td>\n",
       "      <td>74</td>\n",
       "      <td>180</td>\n",
       "      <td>22.99</td>\n",
       "      <td>23.110376</td>\n",
       "      <td>normal</td>\n",
       "      <td>agegroup_4</td>\n",
       "      <td>81.646560</td>\n",
       "      <td>187.96</td>\n",
       "    </tr>\n",
       "    <tr>\n",
       "      <th>1</th>\n",
       "      <td>Paul_Bako</td>\n",
       "      <td>BAL</td>\n",
       "      <td>Catcher</td>\n",
       "      <td>74</td>\n",
       "      <td>215</td>\n",
       "      <td>34.69</td>\n",
       "      <td>27.604061</td>\n",
       "      <td>over weight</td>\n",
       "      <td>agegroup_2</td>\n",
       "      <td>97.522280</td>\n",
       "      <td>187.96</td>\n",
       "    </tr>\n",
       "    <tr>\n",
       "      <th>2</th>\n",
       "      <td>Ramon_Hernandez</td>\n",
       "      <td>BAL</td>\n",
       "      <td>Catcher</td>\n",
       "      <td>72</td>\n",
       "      <td>210</td>\n",
       "      <td>30.78</td>\n",
       "      <td>28.480805</td>\n",
       "      <td>over weight</td>\n",
       "      <td>agegroup_2</td>\n",
       "      <td>95.254320</td>\n",
       "      <td>182.88</td>\n",
       "    </tr>\n",
       "    <tr>\n",
       "      <th>3</th>\n",
       "      <td>Kevin_Millar</td>\n",
       "      <td>BAL</td>\n",
       "      <td>First_Baseman</td>\n",
       "      <td>72</td>\n",
       "      <td>210</td>\n",
       "      <td>35.43</td>\n",
       "      <td>28.480805</td>\n",
       "      <td>over weight</td>\n",
       "      <td>agegroup_1</td>\n",
       "      <td>95.254320</td>\n",
       "      <td>182.88</td>\n",
       "    </tr>\n",
       "    <tr>\n",
       "      <th>4</th>\n",
       "      <td>Chris_Gomez</td>\n",
       "      <td>BAL</td>\n",
       "      <td>First_Baseman</td>\n",
       "      <td>73</td>\n",
       "      <td>188</td>\n",
       "      <td>35.71</td>\n",
       "      <td>24.803335</td>\n",
       "      <td>normal</td>\n",
       "      <td>agegroup_1</td>\n",
       "      <td>85.275296</td>\n",
       "      <td>185.42</td>\n",
       "    </tr>\n",
       "  </tbody>\n",
       "</table>\n",
       "</div>"
      ],
      "text/plain": [
       "              Name Team       Position  Height(inches)  Weight(pounds)    Age  \\\n",
       "0    Adam_Donachie  BAL        Catcher              74             180  22.99   \n",
       "1        Paul_Bako  BAL        Catcher              74             215  34.69   \n",
       "2  Ramon_Hernandez  BAL        Catcher              72             210  30.78   \n",
       "3     Kevin_Millar  BAL  First_Baseman              72             210  35.43   \n",
       "4      Chris_Gomez  BAL  First_Baseman              73             188  35.71   \n",
       "\n",
       "         bmi       status  age_status  Weight(kg)  Height(cm)  \n",
       "0  23.110376       normal  agegroup_4   81.646560      187.96  \n",
       "1  27.604061  over weight  agegroup_2   97.522280      187.96  \n",
       "2  28.480805  over weight  agegroup_2   95.254320      182.88  \n",
       "3  28.480805  over weight  agegroup_1   95.254320      182.88  \n",
       "4  24.803335       normal  agegroup_1   85.275296      185.42  "
      ]
     },
     "execution_count": 183,
     "metadata": {},
     "output_type": "execute_result"
    }
   ],
   "source": [
    "bp_data.head()"
   ]
  },
  {
   "cell_type": "code",
   "execution_count": 184,
   "metadata": {},
   "outputs": [
    {
     "data": {
      "text/plain": [
       "Relief_Pitcher       315\n",
       "Starting_Pitcher     221\n",
       "Outfielder           194\n",
       "Catcher               76\n",
       "Second_Baseman        58\n",
       "First_Baseman         55\n",
       "Shortstop             52\n",
       "Third_Baseman         45\n",
       "Designated_Hitter     18\n",
       "Name: Position, dtype: int64"
      ]
     },
     "execution_count": 184,
     "metadata": {},
     "output_type": "execute_result"
    }
   ],
   "source": [
    "# Position 별로 얼마나 있는지 살펴봅시다.\n",
    "bp_data['Position'].value_counts()"
   ]
  },
  {
   "cell_type": "code",
   "execution_count": 185,
   "metadata": {},
   "outputs": [
    {
     "data": {
      "text/plain": [
       "<matplotlib.axes._subplots.AxesSubplot at 0x10e49a810>"
      ]
     },
     "execution_count": 185,
     "metadata": {},
     "output_type": "execute_result"
    },
    {
     "data": {
      "image/png": "[encoded data removed]",
      "text/plain": [
       "<matplotlib.figure.Figure at 0x10940fc10>"
      ]
     },
     "metadata": {},
     "output_type": "display_data"
    }
   ],
   "source": [
    "# Numeric data to plot.\n",
    "# import matplotlib as plt <= for PyCharm\n",
    "%matplotlib inline \n",
    "bp_data['Position'].value_counts().plot(kind='bar')\n",
    "# plt.pyplot.show() <= for PyCharm\n"
   ]
  },
  {
   "cell_type": "code",
   "execution_count": 186,
   "metadata": {},
   "outputs": [
    {
     "data": {
      "text/plain": [
       "<matplotlib.axes._subplots.AxesSubplot at 0x10e5b1950>"
      ]
     },
     "execution_count": 186,
     "metadata": {},
     "output_type": "execute_result"
    },
    {
     "data": {
      "image/png": "[encoded data removed]",
      "text/plain": [
       "<matplotlib.figure.Figure at 0x10e5b1210>"
      ]
     },
     "metadata": {},
     "output_type": "display_data"
    }
   ],
   "source": [
    "bp_data['age_status'].value_counts().plot(kind='bar')"
   ]
  },
  {
   "cell_type": "code",
   "execution_count": 187,
   "metadata": {},
   "outputs": [
    {
     "name": "stdout",
     "output_type": "stream",
     "text": [
      "<class 'pandas.core.frame.DataFrame'>\n",
      "Int64Index: 1034 entries, 0 to 1033\n",
      "Data columns (total 11 columns):\n",
      "Name              1034 non-null object\n",
      "Team              1034 non-null object\n",
      "Position          1034 non-null object\n",
      "Height(inches)    1034 non-null int64\n",
      "Weight(pounds)    1033 non-null float64\n",
      "Age               1034 non-null float64\n",
      "bmi               1033 non-null float64\n",
      "status            1034 non-null object\n",
      "age_status        1034 non-null object\n",
      "Weight(kg)        1033 non-null float64\n",
      "Height(cm)        1034 non-null float64\n",
      "dtypes: float64(5), int64(1), object(5)\n",
      "memory usage: 96.9+ KB\n"
     ]
    }
   ],
   "source": [
    "bp_data.info()"
   ]
  },
  {
   "cell_type": "code",
   "execution_count": 188,
   "metadata": {},
   "outputs": [
    {
     "data": {
      "text/html": [
       "<div>\n",
       "<table border=\"1\" class=\"dataframe\">\n",
       "  <thead>\n",
       "    <tr style=\"text-align: right;\">\n",
       "      <th></th>\n",
       "      <th>Height(inches)</th>\n",
       "      <th>Weight(pounds)</th>\n",
       "      <th>Age</th>\n",
       "      <th>bmi</th>\n",
       "      <th>Weight(kg)</th>\n",
       "      <th>Height(cm)</th>\n",
       "    </tr>\n",
       "  </thead>\n",
       "  <tbody>\n",
       "    <tr>\n",
       "      <th>count</th>\n",
       "      <td>1034.000000</td>\n",
       "      <td>1033.000000</td>\n",
       "      <td>1034.000000</td>\n",
       "      <td>1033.000000</td>\n",
       "      <td>1033.000000</td>\n",
       "      <td>1034.000000</td>\n",
       "    </tr>\n",
       "    <tr>\n",
       "      <th>mean</th>\n",
       "      <td>73.697292</td>\n",
       "      <td>201.689255</td>\n",
       "      <td>28.736712</td>\n",
       "      <td>26.093497</td>\n",
       "      <td>91.484632</td>\n",
       "      <td>187.191122</td>\n",
       "    </tr>\n",
       "    <tr>\n",
       "      <th>std</th>\n",
       "      <td>2.305818</td>\n",
       "      <td>20.991491</td>\n",
       "      <td>4.320310</td>\n",
       "      <td>2.300437</td>\n",
       "      <td>9.521572</td>\n",
       "      <td>5.856779</td>\n",
       "    </tr>\n",
       "    <tr>\n",
       "      <th>min</th>\n",
       "      <td>67.000000</td>\n",
       "      <td>150.000000</td>\n",
       "      <td>20.900000</td>\n",
       "      <td>19.498447</td>\n",
       "      <td>68.038800</td>\n",
       "      <td>170.180000</td>\n",
       "    </tr>\n",
       "    <tr>\n",
       "      <th>25%</th>\n",
       "      <td>72.000000</td>\n",
       "      <td>187.000000</td>\n",
       "      <td>25.440000</td>\n",
       "      <td>24.407276</td>\n",
       "      <td>84.821704</td>\n",
       "      <td>182.880000</td>\n",
       "    </tr>\n",
       "    <tr>\n",
       "      <th>50%</th>\n",
       "      <td>74.000000</td>\n",
       "      <td>200.000000</td>\n",
       "      <td>27.925000</td>\n",
       "      <td>26.087904</td>\n",
       "      <td>90.718400</td>\n",
       "      <td>187.960000</td>\n",
       "    </tr>\n",
       "    <tr>\n",
       "      <th>75%</th>\n",
       "      <td>75.000000</td>\n",
       "      <td>215.000000</td>\n",
       "      <td>31.232500</td>\n",
       "      <td>27.604061</td>\n",
       "      <td>97.522280</td>\n",
       "      <td>190.500000</td>\n",
       "    </tr>\n",
       "    <tr>\n",
       "      <th>max</th>\n",
       "      <td>83.000000</td>\n",
       "      <td>290.000000</td>\n",
       "      <td>48.520000</td>\n",
       "      <td>35.261949</td>\n",
       "      <td>131.541680</td>\n",
       "      <td>210.820000</td>\n",
       "    </tr>\n",
       "  </tbody>\n",
       "</table>\n",
       "</div>"
      ],
      "text/plain": [
       "       Height(inches)  Weight(pounds)          Age          bmi   Weight(kg)  \\\n",
       "count     1034.000000     1033.000000  1034.000000  1033.000000  1033.000000   \n",
       "mean        73.697292      201.689255    28.736712    26.093497    91.484632   \n",
       "std          2.305818       20.991491     4.320310     2.300437     9.521572   \n",
       "min         67.000000      150.000000    20.900000    19.498447    68.038800   \n",
       "25%         72.000000      187.000000    25.440000    24.407276    84.821704   \n",
       "50%         74.000000      200.000000    27.925000    26.087904    90.718400   \n",
       "75%         75.000000      215.000000    31.232500    27.604061    97.522280   \n",
       "max         83.000000      290.000000    48.520000    35.261949   131.541680   \n",
       "\n",
       "        Height(cm)  \n",
       "count  1034.000000  \n",
       "mean    187.191122  \n",
       "std       5.856779  \n",
       "min     170.180000  \n",
       "25%     182.880000  \n",
       "50%     187.960000  \n",
       "75%     190.500000  \n",
       "max     210.820000  "
      ]
     },
     "execution_count": 188,
     "metadata": {},
     "output_type": "execute_result"
    }
   ],
   "source": [
    "bp_data.describe()"
   ]
  },
  {
   "cell_type": "code",
   "execution_count": 189,
   "metadata": {},
   "outputs": [
    {
     "data": {
      "text/plain": [
       "(10, 20]         0\n",
       "(20, 23]        41\n",
       "(23, 25]       167\n",
       "(25, 28]       319\n",
       "(28, 30]       163\n",
       "(30, 35]       246\n",
       "(35, 48.52]     98\n",
       "dtype: int64"
      ]
     },
     "execution_count": 189,
     "metadata": {},
     "output_type": "execute_result"
    }
   ],
   "source": [
    "# 만약 값들이 continous 할 경우, 범위를 지정해서 하고 싶다면?\n",
    "filter_values = [10,20,23,25,28,30,35,bp_data['Age'].max()]\n",
    "filtered = pd.cut(bp_data['Age'], bins=filter_values)\n",
    "\n",
    "# print filtered\n",
    "counts = pd.value_counts(filtered)\n",
    "\n",
    "# filtered.cat.categories\n",
    "counts.reindex(filtered.cat.categories)"
   ]
  },
  {
   "cell_type": "code",
   "execution_count": 190,
   "metadata": {
    "scrolled": true
   },
   "outputs": [
    {
     "data": {
      "text/plain": [
       "<matplotlib.axes._subplots.AxesSubplot at 0x10e5b1650>"
      ]
     },
     "execution_count": 190,
     "metadata": {},
     "output_type": "execute_result"
    },
    {
     "data": {
      "image/png": "[encoded data removed]",
      "text/plain": [
       "<matplotlib.figure.Figure at 0x10e538710>"
      ]
     },
     "metadata": {},
     "output_type": "display_data"
    }
   ],
   "source": [
    "# 그래프로 보기\n",
    "counts.reindex(filtered.cat.categories).plot(kind='bar')"
   ]
  },
  {
   "cell_type": "code",
   "execution_count": 191,
   "metadata": {},
   "outputs": [
    {
     "data": {
      "text/plain": [
       "0       Adam_Donachie\n",
       "4         Chris_Gomez\n",
       "10    Jeff_Fiorentino\n",
       "11      Freddie_Bynum\n",
       "12      Nick_Markakis\n",
       "Name: Name, dtype: object"
      ]
     },
     "execution_count": 191,
     "metadata": {},
     "output_type": "execute_result"
    }
   ],
   "source": [
    "bp_data[bp_data['status']=='normal']['Name'].head()"
   ]
  },
  {
   "cell_type": "code",
   "execution_count": 192,
   "metadata": {},
   "outputs": [
    {
     "data": {
      "text/html": [
       "<div>\n",
       "<table border=\"1\" class=\"dataframe\">\n",
       "  <thead>\n",
       "    <tr style=\"text-align: right;\">\n",
       "      <th></th>\n",
       "      <th>Name</th>\n",
       "      <th>Team</th>\n",
       "      <th>Position</th>\n",
       "      <th>Height(inches)</th>\n",
       "      <th>Weight(pounds)</th>\n",
       "      <th>Age</th>\n",
       "      <th>bmi</th>\n",
       "      <th>status</th>\n",
       "      <th>age_status</th>\n",
       "      <th>Weight(kg)</th>\n",
       "      <th>Height(cm)</th>\n",
       "    </tr>\n",
       "  </thead>\n",
       "  <tbody>\n",
       "    <tr>\n",
       "      <th>0</th>\n",
       "      <td>Adam_Donachie</td>\n",
       "      <td>BAL</td>\n",
       "      <td>Catcher</td>\n",
       "      <td>74</td>\n",
       "      <td>180</td>\n",
       "      <td>22.99</td>\n",
       "      <td>23.110376</td>\n",
       "      <td>normal</td>\n",
       "      <td>agegroup_4</td>\n",
       "      <td>81.64656</td>\n",
       "      <td>187.96</td>\n",
       "    </tr>\n",
       "    <tr>\n",
       "      <th>69</th>\n",
       "      <td>Jeff_Mathis</td>\n",
       "      <td>ANA</td>\n",
       "      <td>Catcher</td>\n",
       "      <td>72</td>\n",
       "      <td>180</td>\n",
       "      <td>23.92</td>\n",
       "      <td>24.412118</td>\n",
       "      <td>normal</td>\n",
       "      <td>agegroup_4</td>\n",
       "      <td>81.64656</td>\n",
       "      <td>182.88</td>\n",
       "    </tr>\n",
       "    <tr>\n",
       "      <th>105</th>\n",
       "      <td>George_Kottaras</td>\n",
       "      <td>BOS</td>\n",
       "      <td>Catcher</td>\n",
       "      <td>72</td>\n",
       "      <td>180</td>\n",
       "      <td>23.79</td>\n",
       "      <td>24.412118</td>\n",
       "      <td>normal</td>\n",
       "      <td>agegroup_4</td>\n",
       "      <td>81.64656</td>\n",
       "      <td>182.88</td>\n",
       "    </tr>\n",
       "    <tr>\n",
       "      <th>139</th>\n",
       "      <td>Victor_Martinez</td>\n",
       "      <td>CLE</td>\n",
       "      <td>Catcher</td>\n",
       "      <td>74</td>\n",
       "      <td>190</td>\n",
       "      <td>28.19</td>\n",
       "      <td>24.394286</td>\n",
       "      <td>normal</td>\n",
       "      <td>agegroup_3</td>\n",
       "      <td>86.18248</td>\n",
       "      <td>187.96</td>\n",
       "    </tr>\n",
       "    <tr>\n",
       "      <th>316</th>\n",
       "      <td>Shawn_Riggans</td>\n",
       "      <td>TB</td>\n",
       "      <td>Catcher</td>\n",
       "      <td>74</td>\n",
       "      <td>190</td>\n",
       "      <td>26.60</td>\n",
       "      <td>24.394286</td>\n",
       "      <td>normal</td>\n",
       "      <td>agegroup_3</td>\n",
       "      <td>86.18248</td>\n",
       "      <td>187.96</td>\n",
       "    </tr>\n",
       "    <tr>\n",
       "      <th>385</th>\n",
       "      <td>Chris_Stewart</td>\n",
       "      <td>TEX</td>\n",
       "      <td>Catcher</td>\n",
       "      <td>76</td>\n",
       "      <td>205</td>\n",
       "      <td>25.03</td>\n",
       "      <td>24.953107</td>\n",
       "      <td>normal</td>\n",
       "      <td>agegroup_3</td>\n",
       "      <td>92.98636</td>\n",
       "      <td>193.04</td>\n",
       "    </tr>\n",
       "    <tr>\n",
       "      <th>795</th>\n",
       "      <td>Carlos_Ruiz</td>\n",
       "      <td>PHI</td>\n",
       "      <td>Catcher</td>\n",
       "      <td>72</td>\n",
       "      <td>170</td>\n",
       "      <td>28.10</td>\n",
       "      <td>23.055889</td>\n",
       "      <td>normal</td>\n",
       "      <td>agegroup_3</td>\n",
       "      <td>77.11064</td>\n",
       "      <td>182.88</td>\n",
       "    </tr>\n",
       "    <tr>\n",
       "      <th>898</th>\n",
       "      <td>Jesus_Flores</td>\n",
       "      <td>WAS</td>\n",
       "      <td>Catcher</td>\n",
       "      <td>73</td>\n",
       "      <td>180</td>\n",
       "      <td>22.34</td>\n",
       "      <td>23.747874</td>\n",
       "      <td>normal</td>\n",
       "      <td>agegroup_4</td>\n",
       "      <td>81.64656</td>\n",
       "      <td>185.42</td>\n",
       "    </tr>\n",
       "  </tbody>\n",
       "</table>\n",
       "</div>"
      ],
      "text/plain": [
       "                Name Team Position  Height(inches)  Weight(pounds)    Age  \\\n",
       "0      Adam_Donachie  BAL  Catcher              74             180  22.99   \n",
       "69       Jeff_Mathis  ANA  Catcher              72             180  23.92   \n",
       "105  George_Kottaras  BOS  Catcher              72             180  23.79   \n",
       "139  Victor_Martinez  CLE  Catcher              74             190  28.19   \n",
       "316    Shawn_Riggans   TB  Catcher              74             190  26.60   \n",
       "385    Chris_Stewart  TEX  Catcher              76             205  25.03   \n",
       "795      Carlos_Ruiz  PHI  Catcher              72             170  28.10   \n",
       "898     Jesus_Flores  WAS  Catcher              73             180  22.34   \n",
       "\n",
       "           bmi  status  age_status  Weight(kg)  Height(cm)  \n",
       "0    23.110376  normal  agegroup_4    81.64656      187.96  \n",
       "69   24.412118  normal  agegroup_4    81.64656      182.88  \n",
       "105  24.412118  normal  agegroup_4    81.64656      182.88  \n",
       "139  24.394286  normal  agegroup_3    86.18248      187.96  \n",
       "316  24.394286  normal  agegroup_3    86.18248      187.96  \n",
       "385  24.953107  normal  agegroup_3    92.98636      193.04  \n",
       "795  23.055889  normal  agegroup_3    77.11064      182.88  \n",
       "898  23.747874  normal  agegroup_4    81.64656      185.42  "
      ]
     },
     "execution_count": 192,
     "metadata": {},
     "output_type": "execute_result"
    }
   ],
   "source": [
    "# normal한 체격의 30세 이하, 포수를 뽑아서 러브콜을 보내봅시다!\n",
    "bp_data[(bp_data['status']=='normal') & \\\n",
    "        (bp_data['Age'] < 30) & (bp_data['Position'] == 'Catcher')]"
   ]
  },
  {
   "cell_type": "code",
   "execution_count": 193,
   "metadata": {},
   "outputs": [
    {
     "data": {
      "text/html": [
       "<div>\n",
       "<table border=\"1\" class=\"dataframe\">\n",
       "  <thead>\n",
       "    <tr style=\"text-align: right;\">\n",
       "      <th></th>\n",
       "      <th>Name</th>\n",
       "      <th>Team</th>\n",
       "      <th>Position</th>\n",
       "      <th>Height(inches)</th>\n",
       "      <th>Weight(pounds)</th>\n",
       "      <th>Age</th>\n",
       "      <th>bmi</th>\n",
       "      <th>status</th>\n",
       "      <th>age_status</th>\n",
       "      <th>Weight(kg)</th>\n",
       "      <th>Height(cm)</th>\n",
       "    </tr>\n",
       "  </thead>\n",
       "  <tbody>\n",
       "    <tr>\n",
       "      <th>17</th>\n",
       "      <td>Erik_Bedard</td>\n",
       "      <td>BAL</td>\n",
       "      <td>Starting_Pitcher</td>\n",
       "      <td>73</td>\n",
       "      <td>189</td>\n",
       "      <td>27.99</td>\n",
       "      <td>24.935268</td>\n",
       "      <td>normal</td>\n",
       "      <td>agegroup_3</td>\n",
       "      <td>85.728888</td>\n",
       "      <td>185.42</td>\n",
       "    </tr>\n",
       "    <tr>\n",
       "      <th>18</th>\n",
       "      <td>Hayden_Penn</td>\n",
       "      <td>BAL</td>\n",
       "      <td>Starting_Pitcher</td>\n",
       "      <td>75</td>\n",
       "      <td>185</td>\n",
       "      <td>22.38</td>\n",
       "      <td>23.123158</td>\n",
       "      <td>normal</td>\n",
       "      <td>agegroup_4</td>\n",
       "      <td>83.914520</td>\n",
       "      <td>190.50</td>\n",
       "    </tr>\n",
       "    <tr>\n",
       "      <th>21</th>\n",
       "      <td>Steve_Trachsel</td>\n",
       "      <td>BAL</td>\n",
       "      <td>Starting_Pitcher</td>\n",
       "      <td>76</td>\n",
       "      <td>205</td>\n",
       "      <td>36.33</td>\n",
       "      <td>24.953107</td>\n",
       "      <td>normal</td>\n",
       "      <td>agegroup_1</td>\n",
       "      <td>92.986360</td>\n",
       "      <td>193.04</td>\n",
       "    </tr>\n",
       "    <tr>\n",
       "      <th>23</th>\n",
       "      <td>Kris_Benson</td>\n",
       "      <td>BAL</td>\n",
       "      <td>Starting_Pitcher</td>\n",
       "      <td>76</td>\n",
       "      <td>195</td>\n",
       "      <td>32.31</td>\n",
       "      <td>23.735882</td>\n",
       "      <td>normal</td>\n",
       "      <td>agegroup_2</td>\n",
       "      <td>88.450440</td>\n",
       "      <td>193.04</td>\n",
       "    </tr>\n",
       "    <tr>\n",
       "      <th>24</th>\n",
       "      <td>Scott_Williamson</td>\n",
       "      <td>BAL</td>\n",
       "      <td>Relief_Pitcher</td>\n",
       "      <td>72</td>\n",
       "      <td>180</td>\n",
       "      <td>31.03</td>\n",
       "      <td>24.412118</td>\n",
       "      <td>normal</td>\n",
       "      <td>agegroup_2</td>\n",
       "      <td>81.646560</td>\n",
       "      <td>182.88</td>\n",
       "    </tr>\n",
       "  </tbody>\n",
       "</table>\n",
       "</div>"
      ],
      "text/plain": [
       "                Name Team          Position  Height(inches)  Weight(pounds)  \\\n",
       "17       Erik_Bedard  BAL  Starting_Pitcher              73             189   \n",
       "18       Hayden_Penn  BAL  Starting_Pitcher              75             185   \n",
       "21    Steve_Trachsel  BAL  Starting_Pitcher              76             205   \n",
       "23       Kris_Benson  BAL  Starting_Pitcher              76             195   \n",
       "24  Scott_Williamson  BAL    Relief_Pitcher              72             180   \n",
       "\n",
       "      Age        bmi  status  age_status  Weight(kg)  Height(cm)  \n",
       "17  27.99  24.935268  normal  agegroup_3   85.728888      185.42  \n",
       "18  22.38  23.123158  normal  agegroup_4   83.914520      190.50  \n",
       "21  36.33  24.953107  normal  agegroup_1   92.986360      193.04  \n",
       "23  32.31  23.735882  normal  agegroup_2   88.450440      193.04  \n",
       "24  31.03  24.412118  normal  agegroup_2   81.646560      182.88  "
      ]
     },
     "execution_count": 193,
     "metadata": {},
     "output_type": "execute_result"
    }
   ],
   "source": [
    "# bmi 25 미만인 Starting_Pitcher나 Relief_Pitcher 상관없이 모든 Pitcher들을 데려와봅시다.\n",
    "bp_data[(bp_data['Position'].str.contains('Pitcher'))&(bp_data['bmi']<25)].head()"
   ]
  },
  {
   "cell_type": "code",
   "execution_count": 194,
   "metadata": {},
   "outputs": [
    {
     "data": {
      "text/html": [
       "<div>\n",
       "<table border=\"1\" class=\"dataframe\">\n",
       "  <thead>\n",
       "    <tr style=\"text-align: right;\">\n",
       "      <th></th>\n",
       "      <th>Height(inches)</th>\n",
       "      <th>Weight(pounds)</th>\n",
       "      <th>Age</th>\n",
       "      <th>bmi</th>\n",
       "      <th>Weight(kg)</th>\n",
       "      <th>Height(cm)</th>\n",
       "    </tr>\n",
       "  </thead>\n",
       "  <tbody>\n",
       "    <tr>\n",
       "      <th>count</th>\n",
       "      <td>1034.000000</td>\n",
       "      <td>1033.000000</td>\n",
       "      <td>1034.000000</td>\n",
       "      <td>1033.000000</td>\n",
       "      <td>1033.000000</td>\n",
       "      <td>1034.000000</td>\n",
       "    </tr>\n",
       "    <tr>\n",
       "      <th>mean</th>\n",
       "      <td>73.697292</td>\n",
       "      <td>201.689255</td>\n",
       "      <td>28.736712</td>\n",
       "      <td>26.093497</td>\n",
       "      <td>91.484632</td>\n",
       "      <td>187.191122</td>\n",
       "    </tr>\n",
       "    <tr>\n",
       "      <th>std</th>\n",
       "      <td>2.305818</td>\n",
       "      <td>20.991491</td>\n",
       "      <td>4.320310</td>\n",
       "      <td>2.300437</td>\n",
       "      <td>9.521572</td>\n",
       "      <td>5.856779</td>\n",
       "    </tr>\n",
       "    <tr>\n",
       "      <th>min</th>\n",
       "      <td>67.000000</td>\n",
       "      <td>150.000000</td>\n",
       "      <td>20.900000</td>\n",
       "      <td>19.498447</td>\n",
       "      <td>68.038800</td>\n",
       "      <td>170.180000</td>\n",
       "    </tr>\n",
       "    <tr>\n",
       "      <th>25%</th>\n",
       "      <td>72.000000</td>\n",
       "      <td>187.000000</td>\n",
       "      <td>25.440000</td>\n",
       "      <td>24.407276</td>\n",
       "      <td>84.821704</td>\n",
       "      <td>182.880000</td>\n",
       "    </tr>\n",
       "    <tr>\n",
       "      <th>50%</th>\n",
       "      <td>74.000000</td>\n",
       "      <td>200.000000</td>\n",
       "      <td>27.925000</td>\n",
       "      <td>26.087904</td>\n",
       "      <td>90.718400</td>\n",
       "      <td>187.960000</td>\n",
       "    </tr>\n",
       "    <tr>\n",
       "      <th>75%</th>\n",
       "      <td>75.000000</td>\n",
       "      <td>215.000000</td>\n",
       "      <td>31.232500</td>\n",
       "      <td>27.604061</td>\n",
       "      <td>97.522280</td>\n",
       "      <td>190.500000</td>\n",
       "    </tr>\n",
       "    <tr>\n",
       "      <th>max</th>\n",
       "      <td>83.000000</td>\n",
       "      <td>290.000000</td>\n",
       "      <td>48.520000</td>\n",
       "      <td>35.261949</td>\n",
       "      <td>131.541680</td>\n",
       "      <td>210.820000</td>\n",
       "    </tr>\n",
       "  </tbody>\n",
       "</table>\n",
       "</div>"
      ],
      "text/plain": [
       "       Height(inches)  Weight(pounds)          Age          bmi   Weight(kg)  \\\n",
       "count     1034.000000     1033.000000  1034.000000  1033.000000  1033.000000   \n",
       "mean        73.697292      201.689255    28.736712    26.093497    91.484632   \n",
       "std          2.305818       20.991491     4.320310     2.300437     9.521572   \n",
       "min         67.000000      150.000000    20.900000    19.498447    68.038800   \n",
       "25%         72.000000      187.000000    25.440000    24.407276    84.821704   \n",
       "50%         74.000000      200.000000    27.925000    26.087904    90.718400   \n",
       "75%         75.000000      215.000000    31.232500    27.604061    97.522280   \n",
       "max         83.000000      290.000000    48.520000    35.261949   131.541680   \n",
       "\n",
       "        Height(cm)  \n",
       "count  1034.000000  \n",
       "mean    187.191122  \n",
       "std       5.856779  \n",
       "min     170.180000  \n",
       "25%     182.880000  \n",
       "50%     187.960000  \n",
       "75%     190.500000  \n",
       "max     210.820000  "
      ]
     },
     "execution_count": 194,
     "metadata": {},
     "output_type": "execute_result"
    }
   ],
   "source": [
    "# 종합 정보 보기. 25%, 50%, 75%는 사분위수(Quartiles)입니다.\n",
    "bp_data.describe()"
   ]
  },
  {
   "cell_type": "code",
   "execution_count": 195,
   "metadata": {},
   "outputs": [
    {
     "name": "stdout",
     "output_type": "stream",
     "text": [
      "<class 'pandas.core.frame.DataFrame'>\n",
      "Int64Index: 1034 entries, 0 to 1033\n",
      "Data columns (total 11 columns):\n",
      "Name              1034 non-null object\n",
      "Team              1034 non-null object\n",
      "Position          1034 non-null object\n",
      "Height(inches)    1034 non-null int64\n",
      "Weight(pounds)    1033 non-null float64\n",
      "Age               1034 non-null float64\n",
      "bmi               1033 non-null float64\n",
      "status            1034 non-null object\n",
      "age_status        1034 non-null object\n",
      "Weight(kg)        1033 non-null float64\n",
      "Height(cm)        1034 non-null float64\n",
      "dtypes: float64(5), int64(1), object(5)\n",
      "memory usage: 96.9+ KB\n"
     ]
    }
   ],
   "source": [
    "# 테이블 정보입니다.\n",
    "bp_data.info()"
   ]
  },
  {
   "cell_type": "code",
   "execution_count": 196,
   "metadata": {},
   "outputs": [
    {
     "data": {
      "text/plain": [
       "1"
      ]
     },
     "execution_count": 196,
     "metadata": {},
     "output_type": "execute_result"
    }
   ],
   "source": [
    "# 빈 row 개수 찾기\n",
    "bp_data['bmi'].isnull().sum()"
   ]
  },
  {
   "cell_type": "code",
   "execution_count": 197,
   "metadata": {},
   "outputs": [
    {
     "data": {
      "text/plain": [
       "Name              0\n",
       "Team              0\n",
       "Position          0\n",
       "Height(inches)    0\n",
       "Weight(pounds)    1\n",
       "Age               0\n",
       "bmi               1\n",
       "status            0\n",
       "age_status        0\n",
       "Weight(kg)        1\n",
       "Height(cm)        0\n",
       "dtype: int64"
      ]
     },
     "execution_count": 197,
     "metadata": {},
     "output_type": "execute_result"
    }
   ],
   "source": [
    "# 1034, 1033? 빈 row 찾기.\n",
    "bp_data.isnull().sum()"
   ]
  },
  {
   "cell_type": "code",
   "execution_count": 198,
   "metadata": {},
   "outputs": [
    {
     "data": {
      "text/html": [
       "<div>\n",
       "<table border=\"1\" class=\"dataframe\">\n",
       "  <thead>\n",
       "    <tr style=\"text-align: right;\">\n",
       "      <th></th>\n",
       "      <th>Name</th>\n",
       "      <th>Team</th>\n",
       "      <th>Position</th>\n",
       "      <th>Height(inches)</th>\n",
       "      <th>Weight(pounds)</th>\n",
       "      <th>Age</th>\n",
       "      <th>bmi</th>\n",
       "      <th>status</th>\n",
       "      <th>age_status</th>\n",
       "      <th>Weight(kg)</th>\n",
       "      <th>Height(cm)</th>\n",
       "    </tr>\n",
       "  </thead>\n",
       "  <tbody>\n",
       "    <tr>\n",
       "      <th>640</th>\n",
       "      <td>Kirk_Saarloos</td>\n",
       "      <td>CIN</td>\n",
       "      <td>Starting_Pitcher</td>\n",
       "      <td>72</td>\n",
       "      <td>NaN</td>\n",
       "      <td>27.77</td>\n",
       "      <td>NaN</td>\n",
       "      <td>low weight</td>\n",
       "      <td>agegroup_3</td>\n",
       "      <td>NaN</td>\n",
       "      <td>182.88</td>\n",
       "    </tr>\n",
       "  </tbody>\n",
       "</table>\n",
       "</div>"
      ],
      "text/plain": [
       "              Name Team          Position  Height(inches)  Weight(pounds)  \\\n",
       "640  Kirk_Saarloos  CIN  Starting_Pitcher              72             NaN   \n",
       "\n",
       "       Age  bmi      status  age_status  Weight(kg)  Height(cm)  \n",
       "640  27.77  NaN  low weight  agegroup_3         NaN      182.88  "
      ]
     },
     "execution_count": 198,
     "metadata": {},
     "output_type": "execute_result"
    }
   ],
   "source": [
    "# null인 선수 찾기\n",
    "bp_data[bp_data['bmi'].isnull()]"
   ]
  },
  {
   "cell_type": "code",
   "execution_count": 199,
   "metadata": {},
   "outputs": [],
   "source": [
    "# 바로 적용하기\n",
    "# bp_data.drop(640, inplace=True)\n",
    "bp_data_not_null = bp_data.drop(640)"
   ]
  },
  {
   "cell_type": "code",
   "execution_count": 200,
   "metadata": {},
   "outputs": [
    {
     "data": {
      "text/html": [
       "<div>\n",
       "<table border=\"1\" class=\"dataframe\">\n",
       "  <thead>\n",
       "    <tr style=\"text-align: right;\">\n",
       "      <th></th>\n",
       "      <th>Height(inches)</th>\n",
       "      <th>Weight(pounds)</th>\n",
       "      <th>Age</th>\n",
       "      <th>bmi</th>\n",
       "      <th>Weight(kg)</th>\n",
       "      <th>Height(cm)</th>\n",
       "    </tr>\n",
       "  </thead>\n",
       "  <tbody>\n",
       "    <tr>\n",
       "      <th>count</th>\n",
       "      <td>1033.000000</td>\n",
       "      <td>1033.000000</td>\n",
       "      <td>1033.000000</td>\n",
       "      <td>1033.000000</td>\n",
       "      <td>1033.000000</td>\n",
       "      <td>1033.000000</td>\n",
       "    </tr>\n",
       "    <tr>\n",
       "      <th>mean</th>\n",
       "      <td>73.698935</td>\n",
       "      <td>201.689255</td>\n",
       "      <td>28.737648</td>\n",
       "      <td>26.093497</td>\n",
       "      <td>91.484632</td>\n",
       "      <td>187.195295</td>\n",
       "    </tr>\n",
       "    <tr>\n",
       "      <th>std</th>\n",
       "      <td>2.306330</td>\n",
       "      <td>20.991491</td>\n",
       "      <td>4.322298</td>\n",
       "      <td>2.300437</td>\n",
       "      <td>9.521572</td>\n",
       "      <td>5.858077</td>\n",
       "    </tr>\n",
       "    <tr>\n",
       "      <th>min</th>\n",
       "      <td>67.000000</td>\n",
       "      <td>150.000000</td>\n",
       "      <td>20.900000</td>\n",
       "      <td>19.498447</td>\n",
       "      <td>68.038800</td>\n",
       "      <td>170.180000</td>\n",
       "    </tr>\n",
       "    <tr>\n",
       "      <th>25%</th>\n",
       "      <td>72.000000</td>\n",
       "      <td>187.000000</td>\n",
       "      <td>25.440000</td>\n",
       "      <td>24.407276</td>\n",
       "      <td>84.821704</td>\n",
       "      <td>182.880000</td>\n",
       "    </tr>\n",
       "    <tr>\n",
       "      <th>50%</th>\n",
       "      <td>74.000000</td>\n",
       "      <td>200.000000</td>\n",
       "      <td>27.930000</td>\n",
       "      <td>26.087904</td>\n",
       "      <td>90.718400</td>\n",
       "      <td>187.960000</td>\n",
       "    </tr>\n",
       "    <tr>\n",
       "      <th>75%</th>\n",
       "      <td>75.000000</td>\n",
       "      <td>215.000000</td>\n",
       "      <td>31.240000</td>\n",
       "      <td>27.604061</td>\n",
       "      <td>97.522280</td>\n",
       "      <td>190.500000</td>\n",
       "    </tr>\n",
       "    <tr>\n",
       "      <th>max</th>\n",
       "      <td>83.000000</td>\n",
       "      <td>290.000000</td>\n",
       "      <td>48.520000</td>\n",
       "      <td>35.261949</td>\n",
       "      <td>131.541680</td>\n",
       "      <td>210.820000</td>\n",
       "    </tr>\n",
       "  </tbody>\n",
       "</table>\n",
       "</div>"
      ],
      "text/plain": [
       "       Height(inches)  Weight(pounds)          Age          bmi   Weight(kg)  \\\n",
       "count     1033.000000     1033.000000  1033.000000  1033.000000  1033.000000   \n",
       "mean        73.698935      201.689255    28.737648    26.093497    91.484632   \n",
       "std          2.306330       20.991491     4.322298     2.300437     9.521572   \n",
       "min         67.000000      150.000000    20.900000    19.498447    68.038800   \n",
       "25%         72.000000      187.000000    25.440000    24.407276    84.821704   \n",
       "50%         74.000000      200.000000    27.930000    26.087904    90.718400   \n",
       "75%         75.000000      215.000000    31.240000    27.604061    97.522280   \n",
       "max         83.000000      290.000000    48.520000    35.261949   131.541680   \n",
       "\n",
       "        Height(cm)  \n",
       "count  1033.000000  \n",
       "mean    187.195295  \n",
       "std       5.858077  \n",
       "min     170.180000  \n",
       "25%     182.880000  \n",
       "50%     187.960000  \n",
       "75%     190.500000  \n",
       "max     210.820000  "
      ]
     },
     "execution_count": 200,
     "metadata": {},
     "output_type": "execute_result"
    }
   ],
   "source": [
    "# 640번 row가 drop 되었습니다.\n",
    "bp_data_not_null.describe()"
   ]
  },
  {
   "cell_type": "code",
   "execution_count": 201,
   "metadata": {},
   "outputs": [
    {
     "data": {
      "text/html": [
       "<div>\n",
       "<table border=\"1\" class=\"dataframe\">\n",
       "  <thead>\n",
       "    <tr style=\"text-align: right;\">\n",
       "      <th></th>\n",
       "      <th>Name</th>\n",
       "      <th>Team</th>\n",
       "      <th>Position</th>\n",
       "      <th>Height(inches)</th>\n",
       "      <th>Weight(pounds)</th>\n",
       "      <th>Age</th>\n",
       "      <th>bmi</th>\n",
       "      <th>status</th>\n",
       "      <th>age_status</th>\n",
       "      <th>Weight(kg)</th>\n",
       "      <th>Height(cm)</th>\n",
       "    </tr>\n",
       "  </thead>\n",
       "  <tbody>\n",
       "    <tr>\n",
       "      <th>635</th>\n",
       "      <td>Ryan_Freel</td>\n",
       "      <td>CIN</td>\n",
       "      <td>Outfielder</td>\n",
       "      <td>70</td>\n",
       "      <td>180</td>\n",
       "      <td>30.98</td>\n",
       "      <td>25.827025</td>\n",
       "      <td>over weight</td>\n",
       "      <td>agegroup_2</td>\n",
       "      <td>81.646560</td>\n",
       "      <td>177.80</td>\n",
       "    </tr>\n",
       "    <tr>\n",
       "      <th>636</th>\n",
       "      <td>Kyle_Lohse</td>\n",
       "      <td>CIN</td>\n",
       "      <td>Starting_Pitcher</td>\n",
       "      <td>74</td>\n",
       "      <td>201</td>\n",
       "      <td>28.41</td>\n",
       "      <td>25.806587</td>\n",
       "      <td>over weight</td>\n",
       "      <td>agegroup_3</td>\n",
       "      <td>91.171992</td>\n",
       "      <td>187.96</td>\n",
       "    </tr>\n",
       "    <tr>\n",
       "      <th>637</th>\n",
       "      <td>Bronson_Arroyo</td>\n",
       "      <td>CIN</td>\n",
       "      <td>Starting_Pitcher</td>\n",
       "      <td>77</td>\n",
       "      <td>190</td>\n",
       "      <td>30.01</td>\n",
       "      <td>22.530462</td>\n",
       "      <td>normal</td>\n",
       "      <td>agegroup_2</td>\n",
       "      <td>86.182480</td>\n",
       "      <td>195.58</td>\n",
       "    </tr>\n",
       "    <tr>\n",
       "      <th>638</th>\n",
       "      <td>Eric_Milton</td>\n",
       "      <td>CIN</td>\n",
       "      <td>Starting_Pitcher</td>\n",
       "      <td>75</td>\n",
       "      <td>208</td>\n",
       "      <td>31.57</td>\n",
       "      <td>25.997929</td>\n",
       "      <td>over weight</td>\n",
       "      <td>agegroup_2</td>\n",
       "      <td>94.347136</td>\n",
       "      <td>190.50</td>\n",
       "    </tr>\n",
       "    <tr>\n",
       "      <th>639</th>\n",
       "      <td>Aaron_Harang</td>\n",
       "      <td>CIN</td>\n",
       "      <td>Starting_Pitcher</td>\n",
       "      <td>79</td>\n",
       "      <td>240</td>\n",
       "      <td>28.81</td>\n",
       "      <td>27.036783</td>\n",
       "      <td>over weight</td>\n",
       "      <td>agegroup_3</td>\n",
       "      <td>108.862080</td>\n",
       "      <td>200.66</td>\n",
       "    </tr>\n",
       "    <tr>\n",
       "      <th>641</th>\n",
       "      <td>Elizardo_Ramirez</td>\n",
       "      <td>CIN</td>\n",
       "      <td>Starting_Pitcher</td>\n",
       "      <td>72</td>\n",
       "      <td>180</td>\n",
       "      <td>24.09</td>\n",
       "      <td>24.412118</td>\n",
       "      <td>normal</td>\n",
       "      <td>agegroup_4</td>\n",
       "      <td>81.646560</td>\n",
       "      <td>182.88</td>\n",
       "    </tr>\n",
       "    <tr>\n",
       "      <th>642</th>\n",
       "      <td>Todd_Coffey</td>\n",
       "      <td>CIN</td>\n",
       "      <td>Relief_Pitcher</td>\n",
       "      <td>77</td>\n",
       "      <td>230</td>\n",
       "      <td>26.47</td>\n",
       "      <td>27.273718</td>\n",
       "      <td>over weight</td>\n",
       "      <td>agegroup_3</td>\n",
       "      <td>104.326160</td>\n",
       "      <td>195.58</td>\n",
       "    </tr>\n",
       "    <tr>\n",
       "      <th>643</th>\n",
       "      <td>Brian_Shackelford</td>\n",
       "      <td>CIN</td>\n",
       "      <td>Relief_Pitcher</td>\n",
       "      <td>73</td>\n",
       "      <td>195</td>\n",
       "      <td>30.50</td>\n",
       "      <td>25.726864</td>\n",
       "      <td>over weight</td>\n",
       "      <td>agegroup_2</td>\n",
       "      <td>88.450440</td>\n",
       "      <td>185.42</td>\n",
       "    </tr>\n",
       "    <tr>\n",
       "      <th>644</th>\n",
       "      <td>Bill_Bray</td>\n",
       "      <td>CIN</td>\n",
       "      <td>Relief_Pitcher</td>\n",
       "      <td>75</td>\n",
       "      <td>215</td>\n",
       "      <td>23.74</td>\n",
       "      <td>26.872860</td>\n",
       "      <td>over weight</td>\n",
       "      <td>agegroup_4</td>\n",
       "      <td>97.522280</td>\n",
       "      <td>190.50</td>\n",
       "    </tr>\n",
       "    <tr>\n",
       "      <th>645</th>\n",
       "      <td>Bobby_Livingston</td>\n",
       "      <td>CIN</td>\n",
       "      <td>Relief_Pitcher</td>\n",
       "      <td>75</td>\n",
       "      <td>190</td>\n",
       "      <td>24.49</td>\n",
       "      <td>23.748109</td>\n",
       "      <td>normal</td>\n",
       "      <td>agegroup_4</td>\n",
       "      <td>86.182480</td>\n",
       "      <td>190.50</td>\n",
       "    </tr>\n",
       "  </tbody>\n",
       "</table>\n",
       "</div>"
      ],
      "text/plain": [
       "                  Name Team          Position  Height(inches)  Weight(pounds)  \\\n",
       "635         Ryan_Freel  CIN        Outfielder              70             180   \n",
       "636         Kyle_Lohse  CIN  Starting_Pitcher              74             201   \n",
       "637     Bronson_Arroyo  CIN  Starting_Pitcher              77             190   \n",
       "638        Eric_Milton  CIN  Starting_Pitcher              75             208   \n",
       "639       Aaron_Harang  CIN  Starting_Pitcher              79             240   \n",
       "641   Elizardo_Ramirez  CIN  Starting_Pitcher              72             180   \n",
       "642        Todd_Coffey  CIN    Relief_Pitcher              77             230   \n",
       "643  Brian_Shackelford  CIN    Relief_Pitcher              73             195   \n",
       "644          Bill_Bray  CIN    Relief_Pitcher              75             215   \n",
       "645   Bobby_Livingston  CIN    Relief_Pitcher              75             190   \n",
       "\n",
       "       Age        bmi       status  age_status  Weight(kg)  Height(cm)  \n",
       "635  30.98  25.827025  over weight  agegroup_2   81.646560      177.80  \n",
       "636  28.41  25.806587  over weight  agegroup_3   91.171992      187.96  \n",
       "637  30.01  22.530462       normal  agegroup_2   86.182480      195.58  \n",
       "638  31.57  25.997929  over weight  agegroup_2   94.347136      190.50  \n",
       "639  28.81  27.036783  over weight  agegroup_3  108.862080      200.66  \n",
       "641  24.09  24.412118       normal  agegroup_4   81.646560      182.88  \n",
       "642  26.47  27.273718  over weight  agegroup_3  104.326160      195.58  \n",
       "643  30.50  25.726864  over weight  agegroup_2   88.450440      185.42  \n",
       "644  23.74  26.872860  over weight  agegroup_4   97.522280      190.50  \n",
       "645  24.49  23.748109       normal  agegroup_4   86.182480      190.50  "
      ]
     },
     "execution_count": 201,
     "metadata": {},
     "output_type": "execute_result"
    }
   ],
   "source": [
    "# index 640 자리가 비었습니다.\n",
    "bp_data_not_null[635:645]"
   ]
  },
  {
   "cell_type": "code",
   "execution_count": 202,
   "metadata": {},
   "outputs": [],
   "source": [
    "# 처음부터 다시 index를 겁니다.\n",
    "bp_data_not_null.reset_index(inplace=True)"
   ]
  },
  {
   "cell_type": "code",
   "execution_count": 203,
   "metadata": {},
   "outputs": [
    {
     "data": {
      "text/html": [
       "<div>\n",
       "<table border=\"1\" class=\"dataframe\">\n",
       "  <thead>\n",
       "    <tr style=\"text-align: right;\">\n",
       "      <th></th>\n",
       "      <th>index</th>\n",
       "      <th>Name</th>\n",
       "      <th>Team</th>\n",
       "      <th>Position</th>\n",
       "      <th>Height(inches)</th>\n",
       "      <th>Weight(pounds)</th>\n",
       "      <th>Age</th>\n",
       "      <th>bmi</th>\n",
       "      <th>status</th>\n",
       "      <th>age_status</th>\n",
       "      <th>Weight(kg)</th>\n",
       "      <th>Height(cm)</th>\n",
       "    </tr>\n",
       "  </thead>\n",
       "  <tbody>\n",
       "    <tr>\n",
       "      <th>635</th>\n",
       "      <td>635</td>\n",
       "      <td>Ryan_Freel</td>\n",
       "      <td>CIN</td>\n",
       "      <td>Outfielder</td>\n",
       "      <td>70</td>\n",
       "      <td>180</td>\n",
       "      <td>30.98</td>\n",
       "      <td>25.827025</td>\n",
       "      <td>over weight</td>\n",
       "      <td>agegroup_2</td>\n",
       "      <td>81.646560</td>\n",
       "      <td>177.80</td>\n",
       "    </tr>\n",
       "    <tr>\n",
       "      <th>636</th>\n",
       "      <td>636</td>\n",
       "      <td>Kyle_Lohse</td>\n",
       "      <td>CIN</td>\n",
       "      <td>Starting_Pitcher</td>\n",
       "      <td>74</td>\n",
       "      <td>201</td>\n",
       "      <td>28.41</td>\n",
       "      <td>25.806587</td>\n",
       "      <td>over weight</td>\n",
       "      <td>agegroup_3</td>\n",
       "      <td>91.171992</td>\n",
       "      <td>187.96</td>\n",
       "    </tr>\n",
       "    <tr>\n",
       "      <th>637</th>\n",
       "      <td>637</td>\n",
       "      <td>Bronson_Arroyo</td>\n",
       "      <td>CIN</td>\n",
       "      <td>Starting_Pitcher</td>\n",
       "      <td>77</td>\n",
       "      <td>190</td>\n",
       "      <td>30.01</td>\n",
       "      <td>22.530462</td>\n",
       "      <td>normal</td>\n",
       "      <td>agegroup_2</td>\n",
       "      <td>86.182480</td>\n",
       "      <td>195.58</td>\n",
       "    </tr>\n",
       "    <tr>\n",
       "      <th>638</th>\n",
       "      <td>638</td>\n",
       "      <td>Eric_Milton</td>\n",
       "      <td>CIN</td>\n",
       "      <td>Starting_Pitcher</td>\n",
       "      <td>75</td>\n",
       "      <td>208</td>\n",
       "      <td>31.57</td>\n",
       "      <td>25.997929</td>\n",
       "      <td>over weight</td>\n",
       "      <td>agegroup_2</td>\n",
       "      <td>94.347136</td>\n",
       "      <td>190.50</td>\n",
       "    </tr>\n",
       "    <tr>\n",
       "      <th>639</th>\n",
       "      <td>639</td>\n",
       "      <td>Aaron_Harang</td>\n",
       "      <td>CIN</td>\n",
       "      <td>Starting_Pitcher</td>\n",
       "      <td>79</td>\n",
       "      <td>240</td>\n",
       "      <td>28.81</td>\n",
       "      <td>27.036783</td>\n",
       "      <td>over weight</td>\n",
       "      <td>agegroup_3</td>\n",
       "      <td>108.862080</td>\n",
       "      <td>200.66</td>\n",
       "    </tr>\n",
       "    <tr>\n",
       "      <th>640</th>\n",
       "      <td>641</td>\n",
       "      <td>Elizardo_Ramirez</td>\n",
       "      <td>CIN</td>\n",
       "      <td>Starting_Pitcher</td>\n",
       "      <td>72</td>\n",
       "      <td>180</td>\n",
       "      <td>24.09</td>\n",
       "      <td>24.412118</td>\n",
       "      <td>normal</td>\n",
       "      <td>agegroup_4</td>\n",
       "      <td>81.646560</td>\n",
       "      <td>182.88</td>\n",
       "    </tr>\n",
       "    <tr>\n",
       "      <th>641</th>\n",
       "      <td>642</td>\n",
       "      <td>Todd_Coffey</td>\n",
       "      <td>CIN</td>\n",
       "      <td>Relief_Pitcher</td>\n",
       "      <td>77</td>\n",
       "      <td>230</td>\n",
       "      <td>26.47</td>\n",
       "      <td>27.273718</td>\n",
       "      <td>over weight</td>\n",
       "      <td>agegroup_3</td>\n",
       "      <td>104.326160</td>\n",
       "      <td>195.58</td>\n",
       "    </tr>\n",
       "    <tr>\n",
       "      <th>642</th>\n",
       "      <td>643</td>\n",
       "      <td>Brian_Shackelford</td>\n",
       "      <td>CIN</td>\n",
       "      <td>Relief_Pitcher</td>\n",
       "      <td>73</td>\n",
       "      <td>195</td>\n",
       "      <td>30.50</td>\n",
       "      <td>25.726864</td>\n",
       "      <td>over weight</td>\n",
       "      <td>agegroup_2</td>\n",
       "      <td>88.450440</td>\n",
       "      <td>185.42</td>\n",
       "    </tr>\n",
       "    <tr>\n",
       "      <th>643</th>\n",
       "      <td>644</td>\n",
       "      <td>Bill_Bray</td>\n",
       "      <td>CIN</td>\n",
       "      <td>Relief_Pitcher</td>\n",
       "      <td>75</td>\n",
       "      <td>215</td>\n",
       "      <td>23.74</td>\n",
       "      <td>26.872860</td>\n",
       "      <td>over weight</td>\n",
       "      <td>agegroup_4</td>\n",
       "      <td>97.522280</td>\n",
       "      <td>190.50</td>\n",
       "    </tr>\n",
       "    <tr>\n",
       "      <th>644</th>\n",
       "      <td>645</td>\n",
       "      <td>Bobby_Livingston</td>\n",
       "      <td>CIN</td>\n",
       "      <td>Relief_Pitcher</td>\n",
       "      <td>75</td>\n",
       "      <td>190</td>\n",
       "      <td>24.49</td>\n",
       "      <td>23.748109</td>\n",
       "      <td>normal</td>\n",
       "      <td>agegroup_4</td>\n",
       "      <td>86.182480</td>\n",
       "      <td>190.50</td>\n",
       "    </tr>\n",
       "  </tbody>\n",
       "</table>\n",
       "</div>"
      ],
      "text/plain": [
       "     index               Name Team          Position  Height(inches)  \\\n",
       "635    635         Ryan_Freel  CIN        Outfielder              70   \n",
       "636    636         Kyle_Lohse  CIN  Starting_Pitcher              74   \n",
       "637    637     Bronson_Arroyo  CIN  Starting_Pitcher              77   \n",
       "638    638        Eric_Milton  CIN  Starting_Pitcher              75   \n",
       "639    639       Aaron_Harang  CIN  Starting_Pitcher              79   \n",
       "640    641   Elizardo_Ramirez  CIN  Starting_Pitcher              72   \n",
       "641    642        Todd_Coffey  CIN    Relief_Pitcher              77   \n",
       "642    643  Brian_Shackelford  CIN    Relief_Pitcher              73   \n",
       "643    644          Bill_Bray  CIN    Relief_Pitcher              75   \n",
       "644    645   Bobby_Livingston  CIN    Relief_Pitcher              75   \n",
       "\n",
       "     Weight(pounds)    Age        bmi       status  age_status  Weight(kg)  \\\n",
       "635             180  30.98  25.827025  over weight  agegroup_2   81.646560   \n",
       "636             201  28.41  25.806587  over weight  agegroup_3   91.171992   \n",
       "637             190  30.01  22.530462       normal  agegroup_2   86.182480   \n",
       "638             208  31.57  25.997929  over weight  agegroup_2   94.347136   \n",
       "639             240  28.81  27.036783  over weight  agegroup_3  108.862080   \n",
       "640             180  24.09  24.412118       normal  agegroup_4   81.646560   \n",
       "641             230  26.47  27.273718  over weight  agegroup_3  104.326160   \n",
       "642             195  30.50  25.726864  over weight  agegroup_2   88.450440   \n",
       "643             215  23.74  26.872860  over weight  agegroup_4   97.522280   \n",
       "644             190  24.49  23.748109       normal  agegroup_4   86.182480   \n",
       "\n",
       "     Height(cm)  \n",
       "635      177.80  \n",
       "636      187.96  \n",
       "637      195.58  \n",
       "638      190.50  \n",
       "639      200.66  \n",
       "640      182.88  \n",
       "641      195.58  \n",
       "642      185.42  \n",
       "643      190.50  \n",
       "644      190.50  "
      ]
     },
     "execution_count": 203,
     "metadata": {},
     "output_type": "execute_result"
    }
   ],
   "source": [
    "# 640이 생겼습니다.\n",
    "bp_data_not_null[635:645]"
   ]
  },
  {
   "cell_type": "code",
   "execution_count": 204,
   "metadata": {},
   "outputs": [
    {
     "data": {
      "text/html": [
       "<div>\n",
       "<table border=\"1\" class=\"dataframe\">\n",
       "  <thead>\n",
       "    <tr style=\"text-align: right;\">\n",
       "      <th></th>\n",
       "      <th>title</th>\n",
       "      <th>scorr</th>\n",
       "      <th>genre</th>\n",
       "      <th>running time</th>\n",
       "      <th>actors</th>\n",
       "    </tr>\n",
       "  </thead>\n",
       "  <tbody>\n",
       "    <tr>\n",
       "      <th>0</th>\n",
       "      <td>The Woman in Black 2: Angel of Death (2014)</td>\n",
       "      <td>42</td>\n",
       "      <td>Drama/Horror/Thriller</td>\n",
       "      <td>98 min</td>\n",
       "      <td>Helen McCrory/Jeremy Irvine/Phoebe Fox/Leanne ...</td>\n",
       "    </tr>\n",
       "    <tr>\n",
       "      <th>1</th>\n",
       "      <td>A Most Violent Year (2014)</td>\n",
       "      <td>79</td>\n",
       "      <td>Action/Crime/Drama/Thriller</td>\n",
       "      <td>125 min</td>\n",
       "      <td>Oscar Isaac/Jessica Chastain/David Oyelowo/Ale...</td>\n",
       "    </tr>\n",
       "    <tr>\n",
       "      <th>2</th>\n",
       "      <td>Leviafan (2014)</td>\n",
       "      <td>92</td>\n",
       "      <td>Drama</td>\n",
       "      <td>140 min</td>\n",
       "      <td>Aleksey Serebryakov/Elena Lyadova/Roman Madyan...</td>\n",
       "    </tr>\n",
       "    <tr>\n",
       "      <th>3</th>\n",
       "      <td>[REC] 4: Apocalipsis (2014)</td>\n",
       "      <td>53</td>\n",
       "      <td>Action/Horror/Thriller</td>\n",
       "      <td>95 min</td>\n",
       "      <td>Manuela Velasco/Paco Manzanedo/Héctor Colomé/I...</td>\n",
       "    </tr>\n",
       "    <tr>\n",
       "      <th>4</th>\n",
       "      <td>The Search for General Tso (2014)</td>\n",
       "      <td>72</td>\n",
       "      <td>Documentary/Comedy/History/Mystery</td>\n",
       "      <td>71 min</td>\n",
       "      <td>Ian Cheney</td>\n",
       "    </tr>\n",
       "  </tbody>\n",
       "</table>\n",
       "</div>"
      ],
      "text/plain": [
       "                                         title  scorr  \\\n",
       "0  The Woman in Black 2: Angel of Death (2014)     42   \n",
       "1                   A Most Violent Year (2014)     79   \n",
       "2                              Leviafan (2014)     92   \n",
       "3                  [REC] 4: Apocalipsis (2014)     53   \n",
       "4            The Search for General Tso (2014)     72   \n",
       "\n",
       "                                genre running time  \\\n",
       "0               Drama/Horror/Thriller       98 min   \n",
       "1         Action/Crime/Drama/Thriller      125 min   \n",
       "2                               Drama      140 min   \n",
       "3              Action/Horror/Thriller       95 min   \n",
       "4  Documentary/Comedy/History/Mystery       71 min   \n",
       "\n",
       "                                              actors  \n",
       "0  Helen McCrory/Jeremy Irvine/Phoebe Fox/Leanne ...  \n",
       "1  Oscar Isaac/Jessica Chastain/David Oyelowo/Ale...  \n",
       "2  Aleksey Serebryakov/Elena Lyadova/Roman Madyan...  \n",
       "3  Manuela Velasco/Paco Manzanedo/Héctor Colomé/I...  \n",
       "4                                         Ian Cheney  "
      ]
     },
     "execution_count": 204,
     "metadata": {},
     "output_type": "execute_result"
    }
   ],
   "source": [
    "# 크롤링으로 긁어온 영화 데이터로 위에서 배운 것들을 복습해봅시다.\n",
    "# csv format으로 저장하기 (encoding utf-8)\n",
    "movie_df = pd.read_csv('./movie_from_df.csv')\n",
    "movie_df.head()"
   ]
  },
  {
   "cell_type": "code",
   "execution_count": 205,
   "metadata": {},
   "outputs": [
    {
     "name": "stdout",
     "output_type": "stream",
     "text": [
      "<class 'pandas.core.frame.DataFrame'>\n",
      "Int64Index: 389 entries, 0 to 388\n",
      "Data columns (total 5 columns):\n",
      "title           389 non-null object\n",
      "scorr           373 non-null float64\n",
      "genre           389 non-null object\n",
      "running time    389 non-null object\n",
      "actors          389 non-null object\n",
      "dtypes: float64(1), object(4)\n",
      "memory usage: 18.2+ KB\n"
     ]
    }
   ],
   "source": [
    "movie_df.info()"
   ]
  },
  {
   "cell_type": "code",
   "execution_count": 206,
   "metadata": {},
   "outputs": [
    {
     "data": {
      "text/html": [
       "<div>\n",
       "<table border=\"1\" class=\"dataframe\">\n",
       "  <thead>\n",
       "    <tr style=\"text-align: right;\">\n",
       "      <th></th>\n",
       "      <th>scorr</th>\n",
       "    </tr>\n",
       "  </thead>\n",
       "  <tbody>\n",
       "    <tr>\n",
       "      <th>count</th>\n",
       "      <td>373.000000</td>\n",
       "    </tr>\n",
       "    <tr>\n",
       "      <th>mean</th>\n",
       "      <td>58.104558</td>\n",
       "    </tr>\n",
       "    <tr>\n",
       "      <th>std</th>\n",
       "      <td>17.687013</td>\n",
       "    </tr>\n",
       "    <tr>\n",
       "      <th>min</th>\n",
       "      <td>11.000000</td>\n",
       "    </tr>\n",
       "    <tr>\n",
       "      <th>25%</th>\n",
       "      <td>46.000000</td>\n",
       "    </tr>\n",
       "    <tr>\n",
       "      <th>50%</th>\n",
       "      <td>58.000000</td>\n",
       "    </tr>\n",
       "    <tr>\n",
       "      <th>75%</th>\n",
       "      <td>72.000000</td>\n",
       "    </tr>\n",
       "    <tr>\n",
       "      <th>max</th>\n",
       "      <td>95.000000</td>\n",
       "    </tr>\n",
       "  </tbody>\n",
       "</table>\n",
       "</div>"
      ],
      "text/plain": [
       "            scorr\n",
       "count  373.000000\n",
       "mean    58.104558\n",
       "std     17.687013\n",
       "min     11.000000\n",
       "25%     46.000000\n",
       "50%     58.000000\n",
       "75%     72.000000\n",
       "max     95.000000"
      ]
     },
     "execution_count": 206,
     "metadata": {},
     "output_type": "execute_result"
    }
   ],
   "source": [
    "movie_df.describe()"
   ]
  },
  {
   "cell_type": "markdown",
   "metadata": {},
   "source": [
    "## 마지막 해보기\n",
    "\n",
    "크롤링 못하신 분들은 링크[https://www.dropbox.com/s/xymrqvo34qbd2mr/movie_from_df.csv?dl=1](https://www.dropbox.com/s/xymrqvo34qbd2mr/movie_from_df.csv?dl=1)에서 다운 받아서 사용해주세요.\n",
    "\n",
    "\n",
    "크롤링으로 긁어온 데이터들을 가지고, 아래의 일들을 해봅시다.\n",
    "\n",
    "1. score를 0~50, 50~70, 70~90, 90~100 range로 나누고, comment 컬럼에 bad, so so, good, fantastic을 넣어봅시다. \n",
    "2. 그래프로 그려봅시다.\n",
    "3. drama 장르인 영화들을 뽑아봅시다.\n",
    "4. Comedy이면서 러닝타임이 120분 이상인 것들을 골라봅시다.\n",
    "5. 러닝 타임이 120분 이상인 평가가 good인 Comedy를 골라봅시다."
   ]
  },
  {
   "cell_type": "code",
   "execution_count": 208,
   "metadata": {},
   "outputs": [
    {
     "data": {
      "text/html": [
       "<div>\n",
       "<table border=\"1\" class=\"dataframe\">\n",
       "  <thead>\n",
       "    <tr style=\"text-align: right;\">\n",
       "      <th></th>\n",
       "      <th>title</th>\n",
       "      <th>scorr</th>\n",
       "      <th>genre</th>\n",
       "      <th>running time</th>\n",
       "      <th>actors</th>\n",
       "    </tr>\n",
       "  </thead>\n",
       "  <tbody>\n",
       "    <tr>\n",
       "      <th>0</th>\n",
       "      <td>The Woman in Black 2: Angel of Death (2014)</td>\n",
       "      <td>42</td>\n",
       "      <td>Drama/Horror/Thriller</td>\n",
       "      <td>98 min</td>\n",
       "      <td>Helen McCrory/Jeremy Irvine/Phoebe Fox/Leanne ...</td>\n",
       "    </tr>\n",
       "    <tr>\n",
       "      <th>1</th>\n",
       "      <td>A Most Violent Year (2014)</td>\n",
       "      <td>79</td>\n",
       "      <td>Action/Crime/Drama/Thriller</td>\n",
       "      <td>125 min</td>\n",
       "      <td>Oscar Isaac/Jessica Chastain/David Oyelowo/Ale...</td>\n",
       "    </tr>\n",
       "    <tr>\n",
       "      <th>2</th>\n",
       "      <td>Leviafan (2014)</td>\n",
       "      <td>92</td>\n",
       "      <td>Drama</td>\n",
       "      <td>140 min</td>\n",
       "      <td>Aleksey Serebryakov/Elena Lyadova/Roman Madyan...</td>\n",
       "    </tr>\n",
       "    <tr>\n",
       "      <th>3</th>\n",
       "      <td>[REC] 4: Apocalipsis (2014)</td>\n",
       "      <td>53</td>\n",
       "      <td>Action/Horror/Thriller</td>\n",
       "      <td>95 min</td>\n",
       "      <td>Manuela Velasco/Paco Manzanedo/Héctor Colomé/I...</td>\n",
       "    </tr>\n",
       "    <tr>\n",
       "      <th>4</th>\n",
       "      <td>The Search for General Tso (2014)</td>\n",
       "      <td>72</td>\n",
       "      <td>Documentary/Comedy/History/Mystery</td>\n",
       "      <td>71 min</td>\n",
       "      <td>Ian Cheney</td>\n",
       "    </tr>\n",
       "  </tbody>\n",
       "</table>\n",
       "</div>"
      ],
      "text/plain": [
       "                                         title  scorr  \\\n",
       "0  The Woman in Black 2: Angel of Death (2014)     42   \n",
       "1                   A Most Violent Year (2014)     79   \n",
       "2                              Leviafan (2014)     92   \n",
       "3                  [REC] 4: Apocalipsis (2014)     53   \n",
       "4            The Search for General Tso (2014)     72   \n",
       "\n",
       "                                genre running time  \\\n",
       "0               Drama/Horror/Thriller       98 min   \n",
       "1         Action/Crime/Drama/Thriller      125 min   \n",
       "2                               Drama      140 min   \n",
       "3              Action/Horror/Thriller       95 min   \n",
       "4  Documentary/Comedy/History/Mystery       71 min   \n",
       "\n",
       "                                              actors  \n",
       "0  Helen McCrory/Jeremy Irvine/Phoebe Fox/Leanne ...  \n",
       "1  Oscar Isaac/Jessica Chastain/David Oyelowo/Ale...  \n",
       "2  Aleksey Serebryakov/Elena Lyadova/Roman Madyan...  \n",
       "3  Manuela Velasco/Paco Manzanedo/Héctor Colomé/I...  \n",
       "4                                         Ian Cheney  "
      ]
     },
     "execution_count": 208,
     "metadata": {},
     "output_type": "execute_result"
    }
   ],
   "source": [
    "import pandas as pd\n",
    "movie_df = pd.read_csv('./movie_from_df.csv')\n",
    "movie_df.head()"
   ]
  },
  {
   "cell_type": "markdown",
   "metadata": {},
   "source": [
    "### 참고\n",
    "- [Numpy data type에 대하여](http://docs.scipy.org/doc/numpy-1.10.1/user/basics.types.html)\n",
    "- [Pandas DataFrame에 대하여](http://pandas.pydata.org/pandas-docs/stable/generated/pandas.DataFrame.html)\n",
    "- [DataFrame에서 String은 왜 dtype이 object인가요](http://stackoverflow.com/questions/21018654/strings-in-a-dataframe-but-dtype-is-object)\n",
    "- [Python and 와 &는 무엇이 다른가요](http://stackoverflow.com/questions/22646463/difference-between-and-boolean-vs-bitwise-in-python-why-difference-i)\n",
    "- [백분위수, 사분위수란?](https://docs.tibco.com/pub/spotfire_web_player/6.0.0-november-2013/ko-KR/WebHelp/GUID-10AD38BA-A888-4CEB-B716-44E2E02C8B03.html)\n",
    "- [DataFrame row 추가하는 법](http://stackoverflow.com/questions/19365513/how-to-add-an-extra-row-to-a-pandas-dataframe)\n",
    "- [Series apply 함수](http://pandas.pydata.org/pandas-docs/stable/generated/pandas.Series.apply.html)\n",
    "- [Series plot 함수](http://pandas.pydata.org/pandas-docs/stable/generated/pandas.Series.plot.html)"
   ]
  }
 ],
 "metadata": {
  "kernelspec": {
   "display_name": "Python 3",
   "language": "python",
   "name": "python3"
  },
  "language_info": {
   "codemirror_mode": {
    "name": "ipython",
    "version": 3
   },
   "file_extension": ".py",
   "mimetype": "text/x-python",
   "name": "python",
   "nbconvert_exporter": "python",
   "pygments_lexer": "ipython3",
   "version": "3.6.4"
  }
 },
 "nbformat": 4,
 "nbformat_minor": 1
}
