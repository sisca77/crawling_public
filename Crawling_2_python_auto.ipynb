{
 "cells": [
  {
   "cell_type": "code",
   "execution_count": 1,
   "metadata": {
    "collapsed": true
   },
   "outputs": [],
   "source": [
    "import requests\n",
    "from bs4 import BeautifulSoup"
   ]
  },
  {
   "cell_type": "code",
   "execution_count": 15,
   "metadata": {},
   "outputs": [
    {
     "name": "stdout",
     "output_type": "stream",
     "text": [
      "http://imgs.xkcd.com/comics/cron_mail.png\n"
     ]
    }
   ],
   "source": [
    "response = requests.get('http://www.xkcd.com/')\n",
    "soup = BeautifulSoup(response.text, 'html.parser')\n",
    "url = soup.select('#comic > img')\n",
    "\n",
    "result = url[0]['src']\n",
    "\n",
    "img_url = \"http:\" + result\n",
    "\n",
    "print (img_url)\n",
    "\n",
    "img_file = requests.get(img_url)\n",
    "\n",
    "f = open('xkcd.png', 'wb')\n",
    "for chunk in img_file.iter_content(100):\n",
    "    f.write(chunk)\n",
    "f.close()\n"
   ]
  },
  {
   "cell_type": "code",
   "execution_count": 32,
   "metadata": {},
   "outputs": [
    {
     "name": "stdout",
     "output_type": "stream",
     "text": [
      "http://imgs.xkcd.com/comics/new_bug.png\n",
      "http://imgs.xkcd.com/comics/speed_and_danger.png\n",
      "http://imgs.xkcd.com/comics/home_itch_remedies.png\n",
      "http://imgs.xkcd.com/comics/juno.png\n",
      "http://imgs.xkcd.com/comics/gnome_ann.png\n",
      "http://imgs.xkcd.com/comics/pokemon_go.png\n",
      "http://imgs.xkcd.com/comics/genetic_testing.png\n",
      "http://imgs.xkcd.com/comics/xkcd_phone_4.png\n",
      "http://imgs.xkcd.com/comics/dehydration.png\n",
      "http://imgs.xkcd.com/comics/inflection.png\n",
      "http://imgs.xkcd.com/comics/walking_into_things.png\n"
     ]
    }
   ],
   "source": [
    "for i in range(1700, 1711):\n",
    "    response = requests.get('http://www.xkcd.com/' + str(i))\n",
    "    soup = BeautifulSoup(response.text, 'html.parser')\n",
    "    url = soup.select('#comic > img')\n",
    "\n",
    "    result = url[0]['src']\n",
    "\n",
    "    img_url = \"http:\" + result\n",
    "\n",
    "    print (img_url)\n",
    "\n",
    "    img_file = requests.get(img_url)\n",
    "\n",
    "    f = open('xkcd' + str(i) + '.png', 'wb')\n",
    "    for chunk in img_file.iter_content(100):\n",
    "        f.write(chunk)\n",
    "    f.close()"
   ]
  },
  {
   "cell_type": "code",
   "execution_count": 35,
   "metadata": {},
   "outputs": [
    {
     "name": "stdout",
     "output_type": "stream",
     "text": [
      "http://imgs.xkcd.com/comics/new_bug.png\n",
      "http://www.xkcd.com//1701/\n",
      "http://imgs.xkcd.com/comics/speed_and_danger.png\n",
      "http://www.xkcd.com//1702/\n",
      "http://imgs.xkcd.com/comics/home_itch_remedies.png\n",
      "http://www.xkcd.com//1703/\n",
      "http://imgs.xkcd.com/comics/juno.png\n",
      "http://www.xkcd.com//1704/\n",
      "http://imgs.xkcd.com/comics/gnome_ann.png\n",
      "http://www.xkcd.com//1705/\n",
      "http://imgs.xkcd.com/comics/pokemon_go.png\n",
      "http://www.xkcd.com//1706/\n",
      "http://imgs.xkcd.com/comics/genetic_testing.png\n",
      "http://www.xkcd.com//1707/\n",
      "http://imgs.xkcd.com/comics/xkcd_phone_4.png\n",
      "http://www.xkcd.com//1708/\n",
      "http://imgs.xkcd.com/comics/dehydration.png\n",
      "http://www.xkcd.com//1709/\n",
      "http://imgs.xkcd.com/comics/inflection.png\n"
     ]
    }
   ],
   "source": [
    "response = requests.get('http://www.xkcd.com/1700')\n",
    "soup = BeautifulSoup(response.text, 'html.parser')\n",
    "\n",
    "url = soup.select('#comic > img')\n",
    "\n",
    "result = url[0]['src']\n",
    "\n",
    "img_url = \"http:\" + result\n",
    "\n",
    "print (img_url)\n",
    "\n",
    "img_file = requests.get(img_url)\n",
    "\n",
    "f = open('xkcd.png', 'wb')\n",
    "for chunk in img_file.iter_content(100):\n",
    "    f.write(chunk)\n",
    "f.close()\n",
    "\n",
    "\n",
    "\n",
    "for i in range(9):\n",
    "    next_tag = soup.find_all('a',{'rel' : 'next'})\n",
    "    next_num = next_tag[0]['href']\n",
    "    next_url = \"http://www.xkcd.com/\" + next_num\n",
    "    print (next_url)\n",
    "\n",
    "    response = requests.get(next_url)\n",
    "    soup = BeautifulSoup(response.text, 'html.parser')\n",
    "\n",
    "    url = soup.select('#comic > img')\n",
    "\n",
    "    result = url[0]['src']\n",
    "\n",
    "    img_url = \"http:\" + result\n",
    "\n",
    "    print (img_url)\n",
    "\n",
    "    img_file = requests.get(img_url)\n",
    "\n",
    "\n",
    "    f = open('xkcd' + str(i) + '.png', 'wb')\n",
    "    for chunk in img_file.iter_content(100):\n",
    "        f.write(chunk)\n",
    "    f.close()"
   ]
  },
  {
   "cell_type": "code",
   "execution_count": null,
   "metadata": {
    "collapsed": true
   },
   "outputs": [],
   "source": []
  }
 ],
 "metadata": {
  "kernelspec": {
   "display_name": "Python 3",
   "language": "python",
   "name": "python3"
  },
  "language_info": {
   "codemirror_mode": {
    "name": "ipython",
    "version": 3
   },
   "file_extension": ".py",
   "mimetype": "text/x-python",
   "name": "python",
   "nbconvert_exporter": "python",
   "pygments_lexer": "ipython3",
   "version": "3.7.3"
  }
 },
 "nbformat": 4,
 "nbformat_minor": 1
}
